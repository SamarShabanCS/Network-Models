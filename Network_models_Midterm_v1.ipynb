{
  "cells": [
    {
      "cell_type": "markdown",
      "metadata": {
        "id": "RpZaDwjsCLky"
      },
      "source": [
        "# Task 1: Knowledge Graphs\n",
        "## 1.1 AFIB dataset"
      ]
    },
    {
      "cell_type": "markdown",
      "metadata": {
        "id": "gAjUcu3XGBSs"
      },
      "source": [
        "#### 1.1.0 Install and import libraries"
      ]
    },
    {
      "cell_type": "code",
      "execution_count": 1,
      "metadata": {
        "colab": {
          "base_uri": "https://localhost:8080/"
        },
        "id": "Vxf169rDGA5-",
        "outputId": "fabe9966-4536-4f44-e575-0b292a81ca4d"
      },
      "outputs": [
        {
          "output_type": "stream",
          "name": "stdout",
          "text": [
            "Looking in links: https://pytorch-geometric.com/whl/torch-1.13.1+cu116.html\n",
            "Collecting torch-geometric\n",
            "  Downloading torch_geometric-2.7.0-py3-none-any.whl.metadata (63 kB)\n",
            "\u001b[2K     \u001b[90m━━━━━━━━━━━━━━━━━━━━━━━━━━━━━━━━━━━━━━━━\u001b[0m \u001b[32m63.7/63.7 kB\u001b[0m \u001b[31m3.7 MB/s\u001b[0m eta \u001b[36m0:00:00\u001b[0m\n",
            "\u001b[?25hRequirement already satisfied: aiohttp in /usr/local/lib/python3.12/dist-packages (from torch-geometric) (3.13.1)\n",
            "Requirement already satisfied: fsspec in /usr/local/lib/python3.12/dist-packages (from torch-geometric) (2025.3.0)\n",
            "Requirement already satisfied: jinja2 in /usr/local/lib/python3.12/dist-packages (from torch-geometric) (3.1.6)\n",
            "Requirement already satisfied: numpy in /usr/local/lib/python3.12/dist-packages (from torch-geometric) (2.0.2)\n",
            "Requirement already satisfied: psutil>=5.8.0 in /usr/local/lib/python3.12/dist-packages (from torch-geometric) (5.9.5)\n",
            "Requirement already satisfied: pyparsing in /usr/local/lib/python3.12/dist-packages (from torch-geometric) (3.2.5)\n",
            "Requirement already satisfied: requests in /usr/local/lib/python3.12/dist-packages (from torch-geometric) (2.32.4)\n",
            "Requirement already satisfied: tqdm in /usr/local/lib/python3.12/dist-packages (from torch-geometric) (4.67.1)\n",
            "Requirement already satisfied: xxhash in /usr/local/lib/python3.12/dist-packages (from torch-geometric) (3.6.0)\n",
            "Requirement already satisfied: aiohappyeyeballs>=2.5.0 in /usr/local/lib/python3.12/dist-packages (from aiohttp->torch-geometric) (2.6.1)\n",
            "Requirement already satisfied: aiosignal>=1.4.0 in /usr/local/lib/python3.12/dist-packages (from aiohttp->torch-geometric) (1.4.0)\n",
            "Requirement already satisfied: attrs>=17.3.0 in /usr/local/lib/python3.12/dist-packages (from aiohttp->torch-geometric) (25.4.0)\n",
            "Requirement already satisfied: frozenlist>=1.1.1 in /usr/local/lib/python3.12/dist-packages (from aiohttp->torch-geometric) (1.8.0)\n",
            "Requirement already satisfied: multidict<7.0,>=4.5 in /usr/local/lib/python3.12/dist-packages (from aiohttp->torch-geometric) (6.7.0)\n",
            "Requirement already satisfied: propcache>=0.2.0 in /usr/local/lib/python3.12/dist-packages (from aiohttp->torch-geometric) (0.4.1)\n",
            "Requirement already satisfied: yarl<2.0,>=1.17.0 in /usr/local/lib/python3.12/dist-packages (from aiohttp->torch-geometric) (1.22.0)\n",
            "Requirement already satisfied: MarkupSafe>=2.0 in /usr/local/lib/python3.12/dist-packages (from jinja2->torch-geometric) (3.0.3)\n",
            "Requirement already satisfied: charset_normalizer<4,>=2 in /usr/local/lib/python3.12/dist-packages (from requests->torch-geometric) (3.4.4)\n",
            "Requirement already satisfied: idna<4,>=2.5 in /usr/local/lib/python3.12/dist-packages (from requests->torch-geometric) (3.11)\n",
            "Requirement already satisfied: urllib3<3,>=1.21.1 in /usr/local/lib/python3.12/dist-packages (from requests->torch-geometric) (2.5.0)\n",
            "Requirement already satisfied: certifi>=2017.4.17 in /usr/local/lib/python3.12/dist-packages (from requests->torch-geometric) (2025.10.5)\n",
            "Requirement already satisfied: typing-extensions>=4.2 in /usr/local/lib/python3.12/dist-packages (from aiosignal>=1.4.0->aiohttp->torch-geometric) (4.15.0)\n",
            "Downloading torch_geometric-2.7.0-py3-none-any.whl (1.3 MB)\n",
            "\u001b[2K   \u001b[90m━━━━━━━━━━━━━━━━━━━━━━━━━━━━━━━━━━━━━━━━\u001b[0m \u001b[32m1.3/1.3 MB\u001b[0m \u001b[31m23.9 MB/s\u001b[0m eta \u001b[36m0:00:00\u001b[0m\n",
            "\u001b[?25hInstalling collected packages: torch-geometric\n",
            "Successfully installed torch-geometric-2.7.0\n",
            "Collecting rdflib\n",
            "  Downloading rdflib-7.3.0-py3-none-any.whl.metadata (11 kB)\n",
            "Requirement already satisfied: pyparsing<4,>=2.1.0 in /usr/local/lib/python3.12/dist-packages (from rdflib) (3.2.5)\n",
            "Downloading rdflib-7.3.0-py3-none-any.whl (566 kB)\n",
            "\u001b[2K   \u001b[90m━━━━━━━━━━━━━━━━━━━━━━━━━━━━━━━━━━━━━━━━\u001b[0m \u001b[32m566.9/566.9 kB\u001b[0m \u001b[31m16.0 MB/s\u001b[0m eta \u001b[36m0:00:00\u001b[0m\n",
            "\u001b[?25hInstalling collected packages: rdflib\n",
            "Successfully installed rdflib-7.3.0\n"
          ]
        }
      ],
      "source": [
        "!pip install torch-geometric -f https://pytorch-geometric.com/whl/torch-1.13.1+cu116.html\n",
        "!pip install rdflib"
      ]
    },
    {
      "cell_type": "code",
      "execution_count": 2,
      "metadata": {
        "id": "oDpTud4pKLGW"
      },
      "outputs": [],
      "source": [
        "import networkx as nx\n",
        "import numpy as np\n",
        "import torch\n",
        "import torch.nn as nn\n",
        "import torch.nn.functional as F\n",
        "import torch_geometric\n",
        "import torch_geometric.nn as pyg_nn\n",
        "import matplotlib.pyplot as plt\n",
        "from torch_geometric.datasets import Entities\n",
        "from torch_geometric.utils import to_networkx"
      ]
    },
    {
      "cell_type": "markdown",
      "metadata": {
        "id": "_uKPpvbjCmxH"
      },
      "source": [
        "#### 1.1.1 Data exploration"
      ]
    },
    {
      "cell_type": "markdown",
      "source": [
        "Explore the data. We found that node features for AFIB is missing"
      ],
      "metadata": {
        "id": "iaKfvtbY8RZY"
      }
    },
    {
      "cell_type": "code",
      "execution_count": 3,
      "metadata": {
        "colab": {
          "base_uri": "https://localhost:8080/"
        },
        "id": "AhMMClP6IqMB",
        "outputId": "89dfc1e5-4de1-48d9-c867-27f6983f8bf9"
      },
      "outputs": [
        {
          "output_type": "stream",
          "name": "stderr",
          "text": [
            "Downloading https://data.dgl.ai/dataset/aifb.tgz\n",
            "Extracting data/Entities/aifb.tgz\n",
            "Processing...\n",
            "Done!\n"
          ]
        },
        {
          "output_type": "stream",
          "name": "stdout",
          "text": [
            "Dataset: AIFBEntities()\n",
            "Data: Data(edge_index=[2, 58086], edge_type=[58086], train_idx=[140], train_y=[140], test_idx=[36], test_y=[36], num_nodes=8285)\n",
            "\n",
            "Number of nodes: 8285\n",
            "Number of edges: 58086\n",
            "Number of features: 0\n",
            "Number of classes: 4\n",
            "Number of relations: 90\n",
            "Average node degree: 7.01\n",
            "Contains isolated nodes: True\n",
            "Contains self-loops: False\n",
            "Is undirected: True\n",
            "Diameter: 8 \n",
            "\n",
            "Node features: None\n"
          ]
        }
      ],
      "source": [
        "from torch_geometric.datasets import Entities\n",
        "from torch_geometric.utils import to_networkx\n",
        "\n",
        "dataset = Entities('data/Entities', 'AIFB')\n",
        "data = dataset[0]\n",
        "print(f'Dataset: {dataset}')\n",
        "print(f'Data: {data}\\n')\n",
        "\n",
        "print(f'Number of nodes: {data.num_nodes}')\n",
        "print(f'Number of edges: {data.num_edges}')\n",
        "print(f'Number of features: {dataset.num_features}')\n",
        "print(f'Number of classes: {dataset.num_classes}')\n",
        "print(f'Number of relations: {dataset.num_relations}')\n",
        "print(f'Average node degree: {(data.num_edges) / data.num_nodes:.2f}')\n",
        "print(f'Contains isolated nodes: {data.has_isolated_nodes()}')\n",
        "print(f'Contains self-loops: {data.has_self_loops()}')\n",
        "print(f'Is undirected: {data.is_undirected()}')\n",
        "\n",
        "# Calculating diameters is very time-consuming......\n",
        "G = to_networkx(data, to_undirected=True)\n",
        "connected_components = list(nx.connected_components(G))\n",
        "diameters = []\n",
        "for i, component in enumerate(connected_components):\n",
        "    subgraph = G.subgraph(component)\n",
        "    diameters.append(nx.diameter(subgraph))\n",
        "print(f\"Diameter: {max(diameters)} \\n\")\n",
        "\n",
        "print(f'Node features: {data.x}')"
      ]
    },
    {
      "cell_type": "markdown",
      "source": [
        "Visualize the data:"
      ],
      "metadata": {
        "id": "UTJrz8leBmGE"
      }
    },
    {
      "cell_type": "code",
      "source": [
        "# Choose nodes for visualization\n",
        "nodes = data.test_idx.numpy()[:10]\n",
        "edgelist = []\n",
        "typelist = []\n",
        "\n",
        "# Ues NetworkX\n",
        "G = nx.Graph()\n",
        "for node in nodes:\n",
        "    neighbors = data.edge_index[0, (data.edge_index[1] == node)].numpy()\n",
        "    G.add_node(node)\n",
        "    for neighbor in neighbors:\n",
        "        G.add_node(neighbor)\n",
        "        G.add_edge(neighbor, node)\n",
        "        edgelist.append((neighbor, node))\n",
        "        type = data.edge_type[torch.logical_and(data.edge_index[0] == neighbor, data.edge_index[1] == node)].numpy()\n",
        "        typelist.append(type[0])\n",
        "\n",
        "# Scale edge type values\n",
        "scale_min, scale_max = 0.2, 1.0\n",
        "colorlist = (scale_max - scale_min) / (np.max(typelist) - np.min(typelist)) * (typelist - np.min(typelist)) + scale_min\n",
        "\n",
        "# Plot\n",
        "fig, ax = plt.subplots(figsize=(4,4))\n",
        "pos = nx.spring_layout(G)\n",
        "nx.draw_networkx_nodes(G, pos, ax=ax, nodelist=list(G), node_size=10)\n",
        "nx.draw_networkx_edges(G, pos, edgelist=edgelist, edge_color=colorlist, edge_cmap=plt.cm.YlOrRd,\n",
        "                        width=1.5, ax=ax, edge_vmin=0, edge_vmax=1)\n",
        "plt.savefig('10-node-subgraph-1.1.png', dpi=300, bbox_inches='tight')\n"
      ],
      "metadata": {
        "id": "tGqyEcI0eEdo",
        "colab": {
          "base_uri": "https://localhost:8080/",
          "height": 345
        },
        "outputId": "f6a7456a-a9e2-47ba-c106-8a86dc1b2b42"
      },
      "execution_count": 4,
      "outputs": [
        {
          "output_type": "display_data",
          "data": {
            "text/plain": [
              "<Figure size 400x400 with 1 Axes>"
            ],
            "image/png": "[encoded data removed]"
          },
          "metadata": {}
        }
      ]
    },
    {
      "cell_type": "markdown",
      "source": [
        "Augment features:"
      ],
      "metadata": {
        "id": "jKXyc5It8Gpq"
      }
    },
    {
      "cell_type": "code",
      "execution_count": 5,
      "metadata": {
        "id": "2AtfftYjJpyo"
      },
      "outputs": [],
      "source": [
        "augment = \"arange\" # \"arange\" or \"one-hot\"\n",
        "if augment == \"arange\":\n",
        "    data.x = torch.arange(data.num_nodes, dtype=torch.float32)[:, None]\n",
        "elif augment == \"one-hot\":\n",
        "    data.x = torch.eye(data.num_nodes, dtype=torch.float32)\n",
        "dataset.num_augmented_features = data.x.shape[1]"
      ]
    },
    {
      "cell_type": "markdown",
      "metadata": {
        "id": "AIBtTme1DUYp"
      },
      "source": [
        "#### 1.1.2 Random baseline"
      ]
    },
    {
      "cell_type": "code",
      "execution_count": 6,
      "metadata": {
        "id": "tpZHgItsDXSH",
        "colab": {
          "base_uri": "https://localhost:8080/"
        },
        "outputId": "04b498f3-10c6-4210-9213-0a1bc680364c"
      },
      "outputs": [
        {
          "output_type": "stream",
          "name": "stdout",
          "text": [
            "Model: Random\n",
            "Accuracies: [0.2777777777777778, 0.19444444444444445, 0.25, 0.3055555555555556, 0.25, 0.2222222222222222, 0.3333333333333333, 0.4166666666666667, 0.25, 0.19444444444444445, 0.25, 0.3611111111111111, 0.3333333333333333, 0.3333333333333333, 0.16666666666666666, 0.2222222222222222, 0.3888888888888889, 0.3055555555555556, 0.2222222222222222, 0.16666666666666666, 0.2222222222222222, 0.1111111111111111, 0.16666666666666666, 0.3333333333333333, 0.16666666666666666, 0.19444444444444445, 0.2777777777777778, 0.1111111111111111, 0.1388888888888889, 0.16666666666666666, 0.2222222222222222, 0.3333333333333333, 0.3055555555555556, 0.25, 0.19444444444444445, 0.3055555555555556, 0.2222222222222222, 0.19444444444444445, 0.2222222222222222, 0.25, 0.25, 0.3055555555555556, 0.3333333333333333, 0.25, 0.1388888888888889, 0.16666666666666666, 0.19444444444444445, 0.25, 0.19444444444444445, 0.25, 0.1388888888888889, 0.3611111111111111, 0.2777777777777778, 0.3055555555555556, 0.25, 0.2777777777777778, 0.2777777777777778, 0.3055555555555556, 0.25, 0.3055555555555556, 0.3888888888888889, 0.19444444444444445, 0.3055555555555556, 0.2777777777777778, 0.16666666666666666, 0.16666666666666666, 0.25, 0.19444444444444445, 0.3055555555555556, 0.2777777777777778, 0.2777777777777778, 0.19444444444444445, 0.2222222222222222, 0.19444444444444445, 0.25, 0.2222222222222222, 0.16666666666666666, 0.19444444444444445, 0.3611111111111111, 0.3333333333333333, 0.3611111111111111, 0.25, 0.25, 0.16666666666666666, 0.16666666666666666, 0.3055555555555556, 0.2777777777777778, 0.4166666666666667, 0.16666666666666666, 0.3055555555555556, 0.25, 0.2777777777777778, 0.2222222222222222, 0.25, 0.3055555555555556, 0.4444444444444444, 0.19444444444444445, 0.3611111111111111, 0.25, 0.3055555555555556]\n",
            "Mean: 0.2538888888888889\n",
            "Standard deviation: 0.07060365814325684\n"
          ]
        }
      ],
      "source": [
        "def RandomClassifier(pred_len):\n",
        "    return torch.randint(0, dataset.num_classes, size=(pred_len,))\n",
        "\n",
        "def eval_random_accuracy(model, eval_y):\n",
        "    pred = model(eval_y.shape[0])\n",
        "    correct = pred.eq(eval_y).sum().item()\n",
        "    total = eval_y.shape[0]\n",
        "    return correct / total\n",
        "\n",
        "def use_random():\n",
        "    # model\n",
        "    random_model = RandomClassifier\n",
        "\n",
        "    # test\n",
        "    accuracy = eval_random_accuracy(random_model, data.test_y)\n",
        "    return accuracy\n",
        "\n",
        "num_runs = 100\n",
        "accuracies = []\n",
        "for run in range(num_runs):\n",
        "    # print(\"### Run: {}\".format(run + 1))\n",
        "    accuracy = use_random()\n",
        "    accuracies.append(accuracy)\n",
        "print(\"Model: Random\")\n",
        "print(\"Accuracies: {}\".format(accuracies))\n",
        "print(\"Mean: {}\".format(np.mean(accuracies)))\n",
        "print(\"Standard deviation: {}\".format(np.std(accuracies)))"
      ]
    },
    {
      "cell_type": "markdown",
      "metadata": {
        "id": "J6XLl76nDfw7"
      },
      "source": [
        "#### 1.1.3 Feature baseline"
      ]
    },
    {
      "cell_type": "code",
      "execution_count": 7,
      "metadata": {
        "id": "0IJTvGS8Dhfr",
        "colab": {
          "base_uri": "https://localhost:8080/"
        },
        "outputId": "1f53f01c-2919-4181-bb25-9b75b9fedede"
      },
      "outputs": [
        {
          "output_type": "stream",
          "name": "stdout",
          "text": [
            "### Run: 1\n",
            "Epoch: 20\tValidation accuracy: 0.08333333333333333\n",
            "Epoch: 40\tValidation accuracy: 0.4166666666666667\n",
            "Epoch: 60\tValidation accuracy: 0.4166666666666667\n",
            "Epoch: 80\tValidation accuracy: 0.3333333333333333\n",
            "Epoch: 100\tValidation accuracy: 0.3333333333333333\n",
            "### Run: 2\n",
            "Epoch: 20\tValidation accuracy: 0.4166666666666667\n",
            "Epoch: 40\tValidation accuracy: 0.4166666666666667\n",
            "Epoch: 60\tValidation accuracy: 0.4166666666666667\n",
            "Epoch: 80\tValidation accuracy: 0.3333333333333333\n",
            "Epoch: 100\tValidation accuracy: 0.16666666666666666\n",
            "### Run: 3\n",
            "Epoch: 20\tValidation accuracy: 0.16666666666666666\n",
            "Epoch: 40\tValidation accuracy: 0.08333333333333333\n",
            "Epoch: 60\tValidation accuracy: 0.3333333333333333\n",
            "Epoch: 80\tValidation accuracy: 0.2222222222222222\n",
            "Epoch: 100\tValidation accuracy: 0.16666666666666666\n",
            "Model: MLP\n",
            "Accuracies: [0.3333333333333333, 0.16666666666666666, 0.16666666666666666]\n",
            "Mean: 0.2222222222222222\n",
            "Standard deviation: 0.07856742013183861\n"
          ]
        }
      ],
      "source": [
        "class MLPClassifier(nn.Module):\n",
        "    def __init__(self, node_dim, num_classes):\n",
        "        super(MLPClassifier, self).__init__()\n",
        "        self.logits = nn.Linear(node_dim, num_classes)\n",
        "\n",
        "    def forward(self, x):\n",
        "        return self.logits(x)\n",
        "\n",
        "    @torch.no_grad()\n",
        "    def eval_accuracy(self, eval_x, eval_y):\n",
        "        pred = self(eval_x).max(dim=1)[1]\n",
        "        correct = pred.eq(eval_y).sum().item()\n",
        "        total = eval_x.shape[0]\n",
        "        return correct / total\n",
        "\n",
        "def use_mlp(seed):\n",
        "    # seed\n",
        "    torch.manual_seed(seed)\n",
        "\n",
        "    # model and optimizer\n",
        "    mlp_model = MLPClassifier(dataset.num_augmented_features, dataset.num_classes)\n",
        "    optimizer = torch.optim.Adam(mlp_model.parameters(), lr=0.01, weight_decay=5e-4)\n",
        "\n",
        "    # train\n",
        "    for epoch in range(100):\n",
        "        mlp_model.train()\n",
        "        feature, label = data.x[data.train_idx], data.train_y\n",
        "        pred = mlp_model(feature)\n",
        "        loss = F.cross_entropy(pred, label)\n",
        "        optimizer.zero_grad()\n",
        "        loss.backward()\n",
        "        optimizer.step()\n",
        "\n",
        "        # valid\n",
        "        if (epoch + 1) % 20 == 0:\n",
        "            accuracy = mlp_model.eval_accuracy(data.x[data.test_idx], data.test_y)\n",
        "            print(\"Epoch: {}\\tValidation accuracy: {}\".format(epoch + 1, accuracy))\n",
        "\n",
        "    # test\n",
        "    accuracy = mlp_model.eval_accuracy(data.x[data.test_idx], data.test_y)\n",
        "    return accuracy\n",
        "\n",
        "seed_list = [0, 10388, 170001]\n",
        "num_runs = len(seed_list)\n",
        "accuracies = []\n",
        "for run in range(num_runs):\n",
        "    print(\"### Run: {}\".format(run + 1))\n",
        "    accuracy = use_mlp(seed=seed_list[run])\n",
        "    accuracies.append(accuracy)\n",
        "print(\"Model: MLP\")\n",
        "print(\"Accuracies: {}\".format(accuracies))\n",
        "print(\"Mean: {}\".format(np.mean(accuracies)))\n",
        "print(\"Standard deviation: {}\".format(np.std(accuracies)))"
      ]
    },
    {
      "cell_type": "markdown",
      "metadata": {
        "id": "L0kupK_xDiAj"
      },
      "source": [
        "#### 1.1.4 GNN"
      ]
    },
    {
      "cell_type": "code",
      "execution_count": 8,
      "metadata": {
        "id": "PQRKDriuDjPh"
      },
      "outputs": [],
      "source": [
        "class GNNClassifier(nn.Module):\n",
        "    def __init__(self, input_dim, hidden_dim, num_classes, num_gnn_layers, rgcn=pyg_nn.RGCNConv):\n",
        "        super(GNNClassifier, self).__init__()\n",
        "        self.gnn_layers = nn.ModuleList()\n",
        "        self.gnn_layers.append(rgcn(input_dim, hidden_dim, dataset.num_relations))\n",
        "        for _ in range(num_gnn_layers - 1):\n",
        "            self.gnn_layers.append(rgcn(hidden_dim, hidden_dim, dataset.num_relations))\n",
        "        self.logits = nn.Linear(hidden_dim, num_classes)\n",
        "\n",
        "    def forward(self, edge_index, edge_type):\n",
        "        for i, layer in enumerate(self.gnn_layers):\n",
        "            if i == 0:\n",
        "                x = layer(None, edge_index, edge_type)\n",
        "            else:\n",
        "                x = layer(x, edge_index, edge_type)\n",
        "            if i < len(self.gnn_layers) - 1:\n",
        "                x = F.relu(x)\n",
        "        logits = F.log_softmax(self.logits(x), dim=1)\n",
        "        return logits\n",
        "\n",
        "    @torch.no_grad()\n",
        "    def eval_accuracy(self, edge_index, edge_type, eval_idx, eval_label):\n",
        "        pred = self(edge_index, edge_type).max(dim=1)[1]\n",
        "        correct = pred[eval_idx].eq(eval_label).sum().item()\n",
        "        total = eval_idx.shape[0]\n",
        "        return correct / total\n",
        "\n",
        "def use_gnn(seed, hidden_dim, num_gnn_layers):\n",
        "    # seed\n",
        "    torch.manual_seed(seed)\n",
        "\n",
        "    # model and optimizer\n",
        "    gnn_model = GNNClassifier(input_dim=data.num_nodes,\n",
        "                              hidden_dim=hidden_dim,\n",
        "                              num_classes=dataset.num_classes,\n",
        "                              num_gnn_layers=num_gnn_layers).to(\"cuda\")\n",
        "    optimizer = torch.optim.Adam(gnn_model.parameters(), lr=0.01, weight_decay=0)\n",
        "\n",
        "    # data\n",
        "    x, edge_index, edge_type = data.x.to(\"cuda\"), data.edge_index.to(\"cuda\"), data.edge_type.to(\"cuda\")\n",
        "    train_y, train_idx, test_y, test_idx = data.train_y.to(\"cuda\"), data.train_idx, data.test_y.to(\"cuda\"), data.test_idx\n",
        "\n",
        "    # train\n",
        "    for epoch in range(50):\n",
        "        gnn_model.train()\n",
        "        pred = gnn_model(edge_index, edge_type)\n",
        "        loss = F.nll_loss(pred[train_idx], train_y)\n",
        "        optimizer.zero_grad()\n",
        "        loss.backward()\n",
        "        optimizer.step()\n",
        "\n",
        "        # valid\n",
        "        if (epoch + 1) % 10 == 0:\n",
        "            accuracy = gnn_model.eval_accuracy(edge_index, edge_type, test_idx, test_y)\n",
        "            print(\"Epoch: {}\\tValidation accuracy: {}\".format(epoch + 1, accuracy))\n",
        "\n",
        "    # test\n",
        "    accuracy = gnn_model.eval_accuracy(edge_index, edge_type, test_idx, test_y)\n",
        "    return accuracy"
      ]
    },
    {
      "cell_type": "code",
      "source": [
        "seed_list = [42, 10492, 114514]\n",
        "num_runs = len(seed_list)\n",
        "accuracies = []\n",
        "for run in range(num_runs):\n",
        "    print(\"### Run: {}\".format(run + 1))\n",
        "    accuracy = use_gnn(seed=seed_list[run], hidden_dim=8, num_gnn_layers=2)\n",
        "    accuracies.append(accuracy)\n",
        "print(\"Model: GNN\")\n",
        "print(\"Accuracies: {}\".format(accuracies))\n",
        "print(\"Mean: {}\".format(np.mean(accuracies)))\n",
        "print(\"Standard deviation: {}\".format(np.std(accuracies)))"
      ],
      "metadata": {
        "id": "-l0EihljXncp",
        "colab": {
          "base_uri": "https://localhost:8080/"
        },
        "outputId": "4b1a557e-8a66-4695-acdc-303f3e3c6c7e"
      },
      "execution_count": 9,
      "outputs": [
        {
          "output_type": "stream",
          "name": "stdout",
          "text": [
            "### Run: 1\n",
            "Epoch: 10\tValidation accuracy: 0.9166666666666666\n",
            "Epoch: 20\tValidation accuracy: 0.9444444444444444\n",
            "Epoch: 30\tValidation accuracy: 0.9444444444444444\n",
            "Epoch: 40\tValidation accuracy: 0.9444444444444444\n",
            "Epoch: 50\tValidation accuracy: 0.9444444444444444\n",
            "### Run: 2\n",
            "Epoch: 10\tValidation accuracy: 0.9166666666666666\n",
            "Epoch: 20\tValidation accuracy: 0.9444444444444444\n",
            "Epoch: 30\tValidation accuracy: 0.9722222222222222\n",
            "Epoch: 40\tValidation accuracy: 0.9444444444444444\n",
            "Epoch: 50\tValidation accuracy: 0.9444444444444444\n",
            "### Run: 3\n",
            "Epoch: 10\tValidation accuracy: 0.8888888888888888\n",
            "Epoch: 20\tValidation accuracy: 0.9722222222222222\n",
            "Epoch: 30\tValidation accuracy: 0.9722222222222222\n",
            "Epoch: 40\tValidation accuracy: 0.9722222222222222\n",
            "Epoch: 50\tValidation accuracy: 0.9722222222222222\n",
            "Model: GNN\n",
            "Accuracies: [0.9444444444444444, 0.9444444444444444, 0.9722222222222222]\n",
            "Mean: 0.9537037037037037\n",
            "Standard deviation: 0.013094570021973107\n"
          ]
        }
      ]
    },
    {
      "cell_type": "markdown",
      "metadata": {
        "id": "gcVyLnLvHDD-"
      },
      "source": [
        "#### 1.1.5 Oversmoothing"
      ]
    },
    {
      "cell_type": "markdown",
      "source": [
        "Model depth exploration"
      ],
      "metadata": {
        "id": "XcYxZhH0tLOO"
      }
    },
    {
      "cell_type": "code",
      "execution_count": 10,
      "metadata": {
        "id": "Uul-sSbLHF5q",
        "colab": {
          "base_uri": "https://localhost:8080/"
        },
        "outputId": "c977973f-a5f8-4d26-b31e-be7fb6539d53"
      },
      "outputs": [
        {
          "output_type": "stream",
          "name": "stdout",
          "text": [
            "### Depth: 2\n",
            "Epoch: 10\tValidation accuracy: 0.9166666666666666\n",
            "Epoch: 20\tValidation accuracy: 0.9444444444444444\n",
            "Epoch: 30\tValidation accuracy: 0.9444444444444444\n",
            "Epoch: 40\tValidation accuracy: 0.9444444444444444\n",
            "Epoch: 50\tValidation accuracy: 0.9444444444444444\n",
            "### Depth: 5\n",
            "Epoch: 10\tValidation accuracy: 0.8611111111111112\n",
            "Epoch: 20\tValidation accuracy: 0.8888888888888888\n",
            "Epoch: 30\tValidation accuracy: 0.9166666666666666\n",
            "Epoch: 40\tValidation accuracy: 0.9166666666666666\n",
            "Epoch: 50\tValidation accuracy: 0.9166666666666666\n",
            "### Depth: 10\n",
            "Epoch: 10\tValidation accuracy: 0.7777777777777778\n",
            "Epoch: 20\tValidation accuracy: 0.8333333333333334\n",
            "Epoch: 30\tValidation accuracy: 0.8888888888888888\n",
            "Epoch: 40\tValidation accuracy: 0.8888888888888888\n",
            "Epoch: 50\tValidation accuracy: 0.8888888888888888\n",
            "### Depth: 20\n",
            "Epoch: 10\tValidation accuracy: 0.5277777777777778\n",
            "Epoch: 20\tValidation accuracy: 0.5833333333333334\n",
            "Epoch: 30\tValidation accuracy: 0.75\n",
            "Epoch: 40\tValidation accuracy: 0.8055555555555556\n",
            "Epoch: 50\tValidation accuracy: 0.8055555555555556\n",
            "### Depth: 40\n",
            "Epoch: 10\tValidation accuracy: 0.3611111111111111\n",
            "Epoch: 20\tValidation accuracy: 0.75\n",
            "Epoch: 30\tValidation accuracy: 0.6666666666666666\n",
            "Epoch: 40\tValidation accuracy: 0.7222222222222222\n",
            "Epoch: 50\tValidation accuracy: 0.8055555555555556\n",
            "### Depth: 80\n",
            "Epoch: 10\tValidation accuracy: 0.4444444444444444\n",
            "Epoch: 20\tValidation accuracy: 0.5\n",
            "Epoch: 30\tValidation accuracy: 0.4722222222222222\n",
            "Epoch: 40\tValidation accuracy: 0.4722222222222222\n",
            "Epoch: 50\tValidation accuracy: 0.5\n",
            "Model depth exploration: \n",
            "Accuracies: [0.9444444444444444, 0.9166666666666666, 0.8888888888888888, 0.8055555555555556, 0.8055555555555556, 0.5]\n"
          ]
        }
      ],
      "source": [
        "num_gnn_layers_list = [2, 5, 10, 20, 40, 80]\n",
        "num_runs = len(num_gnn_layers_list)\n",
        "depth_accuracies = []\n",
        "for run in range(num_runs):\n",
        "    print(\"### Depth: {}\".format(num_gnn_layers_list[run]))\n",
        "    accuracy = use_gnn(seed=42, hidden_dim=8, num_gnn_layers=num_gnn_layers_list[run])\n",
        "    depth_accuracies.append(accuracy)\n",
        "print(\"Model depth exploration: \")\n",
        "print(\"Accuracies: {}\".format(depth_accuracies))"
      ]
    },
    {
      "cell_type": "markdown",
      "source": [
        "Model width exploration"
      ],
      "metadata": {
        "id": "o0tZk_wntOMg"
      }
    },
    {
      "cell_type": "code",
      "source": [
        "hidden_dim_list = [4, 8, 16, 32, 64, 128]\n",
        "num_runs = len(hidden_dim_list)\n",
        "width_accuracies = []\n",
        "for run in range(num_runs):\n",
        "    print(\"### Width: {}\".format(hidden_dim_list[run]))\n",
        "    accuracy = use_gnn(seed=42, hidden_dim=hidden_dim_list[run], num_gnn_layers=2)\n",
        "    width_accuracies.append(accuracy)\n",
        "print(\"Model width exploration: \")\n",
        "print(\"Accuracies: {}\".format(width_accuracies))"
      ],
      "metadata": {
        "id": "Z9EOQ6-5tSly",
        "colab": {
          "base_uri": "https://localhost:8080/"
        },
        "outputId": "ff9de919-a84c-4986-953c-41b92d31cf5f"
      },
      "execution_count": 11,
      "outputs": [
        {
          "output_type": "stream",
          "name": "stdout",
          "text": [
            "### Width: 4\n",
            "Epoch: 10\tValidation accuracy: 0.8611111111111112\n",
            "Epoch: 20\tValidation accuracy: 0.9166666666666666\n",
            "Epoch: 30\tValidation accuracy: 0.8888888888888888\n",
            "Epoch: 40\tValidation accuracy: 0.8888888888888888\n",
            "Epoch: 50\tValidation accuracy: 0.9166666666666666\n",
            "### Width: 8\n",
            "Epoch: 10\tValidation accuracy: 0.9166666666666666\n",
            "Epoch: 20\tValidation accuracy: 0.9444444444444444\n",
            "Epoch: 30\tValidation accuracy: 0.9444444444444444\n",
            "Epoch: 40\tValidation accuracy: 0.9444444444444444\n",
            "Epoch: 50\tValidation accuracy: 0.9444444444444444\n",
            "### Width: 16\n",
            "Epoch: 10\tValidation accuracy: 0.9444444444444444\n",
            "Epoch: 20\tValidation accuracy: 0.9444444444444444\n",
            "Epoch: 30\tValidation accuracy: 0.8888888888888888\n",
            "Epoch: 40\tValidation accuracy: 0.8888888888888888\n",
            "Epoch: 50\tValidation accuracy: 0.8888888888888888\n",
            "### Width: 32\n",
            "Epoch: 10\tValidation accuracy: 0.9444444444444444\n",
            "Epoch: 20\tValidation accuracy: 0.9444444444444444\n",
            "Epoch: 30\tValidation accuracy: 0.9444444444444444\n",
            "Epoch: 40\tValidation accuracy: 0.9444444444444444\n",
            "Epoch: 50\tValidation accuracy: 0.9444444444444444\n",
            "### Width: 64\n",
            "Epoch: 10\tValidation accuracy: 0.8888888888888888\n",
            "Epoch: 20\tValidation accuracy: 0.8888888888888888\n",
            "Epoch: 30\tValidation accuracy: 0.8888888888888888\n",
            "Epoch: 40\tValidation accuracy: 0.8611111111111112\n",
            "Epoch: 50\tValidation accuracy: 0.8611111111111112\n",
            "### Width: 128\n",
            "Epoch: 10\tValidation accuracy: 0.8611111111111112\n",
            "Epoch: 20\tValidation accuracy: 0.8611111111111112\n",
            "Epoch: 30\tValidation accuracy: 0.8611111111111112\n",
            "Epoch: 40\tValidation accuracy: 0.8611111111111112\n",
            "Epoch: 50\tValidation accuracy: 0.8611111111111112\n",
            "Model width exploration: \n",
            "Accuracies: [0.9166666666666666, 0.9444444444444444, 0.8888888888888888, 0.9444444444444444, 0.8611111111111112, 0.8611111111111112]\n"
          ]
        }
      ]
    },
    {
      "cell_type": "markdown",
      "source": [
        "1. Plot of accuracies vs. model depth\n",
        "2. Plot of accuracies vs. model width\n"
      ],
      "metadata": {
        "id": "N07iTYsTazJM"
      }
    },
    {
      "cell_type": "code",
      "source": [
        "plt.figure(figsize=(10,6))\n",
        "plt.plot(num_gnn_layers_list, depth_accuracies, label=\"Depth\")\n",
        "plt.plot(hidden_dim_list, width_accuracies, label=\"Width\")\n",
        "plt.xlabel(\"Depth or Width\", size=15)\n",
        "plt.ylabel(\"Accuracy\", size=15)\n",
        "plt.savefig('depth or width-acc.eps', dpi=300, bbox_inches='tight')\n",
        "plt.xticks(fontsize=10)\n",
        "plt.yticks(fontsize=10)\n",
        "plt.legend()\n",
        "plt.savefig('width-acc.eps', dpi=300, bbox_inches='tight')"
      ],
      "metadata": {
        "id": "iDfesGvja0kP",
        "colab": {
          "base_uri": "https://localhost:8080/",
          "height": 566
        },
        "outputId": "8d0d1445-5bf2-4a2a-f8ca-13a1dfbca784"
      },
      "execution_count": 12,
      "outputs": [
        {
          "output_type": "stream",
          "name": "stderr",
          "text": [
            "WARNING:matplotlib.backends.backend_ps:The PostScript backend does not support transparency; partially transparent artists will be rendered opaque.\n"
          ]
        },
        {
          "output_type": "display_data",
          "data": {
            "text/plain": [
              "<Figure size 1000x600 with 1 Axes>"
            ],
            "image/png": "[encoded data removed]"
          },
          "metadata": {}
        }
      ]
    },
    {
      "cell_type": "markdown",
      "source": [
        "Compute oversmoothing metrics.\n",
        "There are several ways that we could explore to overcome over-smoothing:\n",
        "1. Normalizing and Regularization: (PairNorm-GCN), L2-Regularizer (GCN-L2Reg)\n",
        "2. Residual Connections (Residual-GCN)\n"
      ],
      "metadata": {
        "id": "C450LcHCteH3"
      }
    },
    {
      "cell_type": "code",
      "source": [
        "from torch_geometric.utils import get_laplacian\n",
        "from torch import Tensor\n",
        "def dirichlet_energy_(x: Tensor, laplacian: Tensor) -> Tensor:\n",
        "\n",
        "    # Ensure the input dimensions match\n",
        "    assert x.shape[0] == laplacian.shape[0] == laplacian.shape[1]\n",
        "\n",
        "    #Detach x to prevent gradient computation\n",
        "    x = x.clone().detach()\n",
        "\n",
        "    #Calculate Dirichlet energy using PyTorch operations\n",
        "    energy = torch.mm(torch.mm(x.T, laplacian), x)\n",
        "    energy = torch.diag(energy)\n",
        "    return torch.sum(energy)#torch.log(torch.sum(energy))\n",
        "\n",
        "\n",
        "def get_graph_laplacian(\n",
        "    edge_index: Tensor, num_nodes: int, normalization: str = \"sym\"\n",
        ") -> torch.sparse_coo_tensor:\n",
        "\n",
        "    edge_index, edge_weight = get_laplacian(\n",
        "        edge_index, normalization=normalization\n",
        "    )\n",
        "    return torch.sparse_coo_tensor(\n",
        "        edge_index, edge_weight, torch.Size([num_nodes, num_nodes])\n",
        "    )\n",
        "class OversmoothGNN(nn.Module):\n",
        "    def __init__(self, input_dim, hidden_dim, num_classes, num_gnn_layers, rgcn=pyg_nn.RGCNConv, pn=pyg_nn.PairNorm,\n",
        "                 use_pair_norm=False, use_residual=False):\n",
        "        super(OversmoothGNN, self).__init__()\n",
        "        self.gnn_layers = nn.ModuleList()\n",
        "        self.gnn_layers.append(rgcn(input_dim, hidden_dim, dataset.num_relations, num_bases=10, bias=False))\n",
        "        self.norms = nn.ModuleList()\n",
        "        self.norms.append(pn())\n",
        "        for _ in range(num_gnn_layers - 1):\n",
        "            self.gnn_layers.append(rgcn(hidden_dim, hidden_dim, dataset.num_relations, num_bases=10, bias=False))\n",
        "            self.norms.append(pn())\n",
        "        self.logits = nn.Linear(hidden_dim, num_classes)\n",
        "        self.use_pair_norm = use_pair_norm\n",
        "        self.use_residual = use_residual\n",
        "\n",
        "    def forward(self, edge_index, edge_type):\n",
        "        x_latents = []\n",
        "        for i, layer in enumerate(self.gnn_layers):\n",
        "            # Pass RGCN layer\n",
        "            if i == 0:\n",
        "                x_layer = layer(None, edge_index, edge_type)\n",
        "            else:\n",
        "                x_layer = layer(x, edge_index, edge_type)\n",
        "\n",
        "            # Store features for evaluating oversmoothing\n",
        "            x_latents.append(x_layer.detach())\n",
        "\n",
        "            # Use PairNorm\n",
        "            if self.use_pair_norm:\n",
        "                x_layer = self.norms[i](x_layer)\n",
        "\n",
        "            # Pass activation layer\n",
        "            if i < len(self.gnn_layers) - 1:\n",
        "                x_layer = F.relu(x_layer)\n",
        "\n",
        "            # Use residual connection\n",
        "            if self.use_residual:\n",
        "                if i == 0:\n",
        "                    x = x_layer\n",
        "                else:\n",
        "                    x = x + x_layer\n",
        "            else:\n",
        "                x = x_layer\n",
        "\n",
        "        logits = F.log_softmax(self.logits(x), dim=1)\n",
        "        return (logits, x_latents)\n",
        "\n",
        "    @torch.no_grad()\n",
        "    def eval_accuracy(self, edge_index, edge_type, eval_idx, eval_label):\n",
        "        pred, _ = self(edge_index, edge_type)\n",
        "        pred = pred.max(dim=1)[1]\n",
        "        correct = pred[eval_idx].eq(eval_label).sum().item()\n",
        "        total = eval_idx.shape[0]\n",
        "        return correct / total\n",
        "\n",
        "    @torch.no_grad()\n",
        "    def dirichlet_energy(self, x, edge_index):\n",
        "        #A = torch_geometric.utils.to_dense_adj(edge_index)\n",
        "        #D = torch.diag(torch.sum(A, axis=1))\n",
        "        #L = D - A\n",
        "        #d_e = torch.matmul(torch.matmul(x.T, L), x).squeeze(0)\n",
        "        #energy = torch.trace(d_e)\n",
        "        #row, col = edge_index\n",
        "        #energy = torch.sum(torch.norm(x[row] - x[col], dim=1) ** 2)\n",
        "        L = get_graph_laplacian(edge_index, x.size(0))\n",
        "        energy = dirichlet_energy_(x, L)\n",
        "        return energy\n",
        "\n",
        "    @torch.no_grad()\n",
        "    def eval_oversmoothing(self, edge_index, edge_type):\n",
        "        _, x_latents = self(edge_index, edge_type)\n",
        "        d_energies = np.array([self.dirichlet_energy(x, edge_index).cpu() for x in x_latents], np.float64)\n",
        "        d_energies_log = np.log10(d_energies)\n",
        "        return d_energies_log\n",
        "\n",
        "def use_gnn(seed, hidden_dim, num_gnn_layers, use_pair_norm=False, use_reg=False, use_residual=False):\n",
        "    # seed\n",
        "    torch.manual_seed(seed)\n",
        "\n",
        "    # model and optimizer\n",
        "    gnn_model = OversmoothGNN(input_dim=data.num_nodes,\n",
        "                              hidden_dim=hidden_dim,\n",
        "                              num_classes=dataset.num_classes,\n",
        "                              num_gnn_layers=num_gnn_layers,\n",
        "                              use_pair_norm=use_pair_norm,\n",
        "                              use_residual=use_residual).to(\"cuda\")\n",
        "    if use_reg:\n",
        "        optimizer = torch.optim.Adam(gnn_model.parameters(), lr=0.01, weight_decay=5e-4)\n",
        "    else:\n",
        "        optimizer = torch.optim.Adam(gnn_model.parameters(), lr=0.01, weight_decay=0)\n",
        "\n",
        "    # data\n",
        "    x, edge_index, edge_type = data.x.to(\"cuda\"), data.edge_index.to(\"cuda\"), data.edge_type.to(\"cuda\")\n",
        "    train_y, train_idx, test_y, test_idx = data.train_y.to(\"cuda\"), data.train_idx, data.test_y.to(\"cuda\"), data.test_idx\n",
        "\n",
        "    # train\n",
        "    for epoch in range(50):\n",
        "        gnn_model.train()\n",
        "        pred, _ = gnn_model(edge_index, edge_type)\n",
        "        loss = F.nll_loss(pred[train_idx], train_y)\n",
        "        optimizer.zero_grad()\n",
        "        loss.backward()\n",
        "        optimizer.step()\n",
        "\n",
        "        # valid\n",
        "        if (epoch + 1) % 10 == 0:\n",
        "            accuracy = gnn_model.eval_accuracy(edge_index, edge_type, test_idx, test_y)\n",
        "            print(\"Epoch: {}\\tValidation accuracy: {}\".format(epoch + 1, accuracy))\n",
        "\n",
        "    # test\n",
        "    accuracy = gnn_model.eval_accuracy(edge_index, edge_type, test_idx, test_y)\n",
        "    print(\"Test accuracy: {}\".format(accuracy))\n",
        "\n",
        "    # oversmoothing\n",
        "    log_d_energies = gnn_model.eval_oversmoothing(edge_index, edge_type)\n",
        "    return log_d_energies\n",
        "\n",
        "energy_baseline = use_gnn(seed=42, hidden_dim=16, num_gnn_layers=80)"
      ],
      "metadata": {
        "id": "rx82K0Jitg7b",
        "colab": {
          "base_uri": "https://localhost:8080/"
        },
        "outputId": "f808d66a-2c14-4add-f2a0-6386b2662cd1"
      },
      "execution_count": 13,
      "outputs": [
        {
          "output_type": "stream",
          "name": "stdout",
          "text": [
            "Epoch: 10\tValidation accuracy: 0.3333333333333333\n",
            "Epoch: 20\tValidation accuracy: 0.3333333333333333\n",
            "Epoch: 30\tValidation accuracy: 0.3333333333333333\n",
            "Epoch: 40\tValidation accuracy: 0.3333333333333333\n",
            "Epoch: 50\tValidation accuracy: 0.4166666666666667\n",
            "Test accuracy: 0.4166666666666667\n"
          ]
        }
      ]
    },
    {
      "cell_type": "code",
      "source": [
        "energy_with_pn = use_gnn(seed=42, hidden_dim=16, num_gnn_layers=80, use_pair_norm=True)"
      ],
      "metadata": {
        "id": "VX1oxTBbtYZi",
        "colab": {
          "base_uri": "https://localhost:8080/"
        },
        "outputId": "e1e3c8c9-3f51-4229-e5d4-a937dfa0058b"
      },
      "execution_count": 14,
      "outputs": [
        {
          "output_type": "stream",
          "name": "stdout",
          "text": [
            "Epoch: 10\tValidation accuracy: 0.6944444444444444\n",
            "Epoch: 20\tValidation accuracy: 0.7777777777777778\n",
            "Epoch: 30\tValidation accuracy: 0.8055555555555556\n",
            "Epoch: 40\tValidation accuracy: 0.9166666666666666\n",
            "Epoch: 50\tValidation accuracy: 0.9166666666666666\n",
            "Test accuracy: 0.9166666666666666\n"
          ]
        }
      ]
    },
    {
      "cell_type": "code",
      "source": [
        "energy_with_reg = use_gnn(seed=42, hidden_dim=16, num_gnn_layers=80, use_reg=True)"
      ],
      "metadata": {
        "id": "jeblLeikg1SI",
        "colab": {
          "base_uri": "https://localhost:8080/"
        },
        "outputId": "7e7561be-e43f-4777-ccc4-3637632b8e91"
      },
      "execution_count": 15,
      "outputs": [
        {
          "output_type": "stream",
          "name": "stdout",
          "text": [
            "Epoch: 10\tValidation accuracy: 0.3333333333333333\n",
            "Epoch: 20\tValidation accuracy: 0.3333333333333333\n",
            "Epoch: 30\tValidation accuracy: 0.3333333333333333\n",
            "Epoch: 40\tValidation accuracy: 0.3333333333333333\n",
            "Epoch: 50\tValidation accuracy: 0.4166666666666667\n",
            "Test accuracy: 0.4166666666666667\n"
          ]
        }
      ]
    },
    {
      "cell_type": "code",
      "source": [
        "energy_with_residual = use_gnn(seed=42, hidden_dim=16, num_gnn_layers=80, use_residual=True)"
      ],
      "metadata": {
        "id": "EPp3JdJrh7JY",
        "colab": {
          "base_uri": "https://localhost:8080/"
        },
        "outputId": "ea9c5cc1-9ebc-491e-87c9-074a77431399"
      },
      "execution_count": 16,
      "outputs": [
        {
          "output_type": "stream",
          "name": "stdout",
          "text": [
            "Epoch: 10\tValidation accuracy: 0.4166666666666667\n",
            "Epoch: 20\tValidation accuracy: 0.3333333333333333\n",
            "Epoch: 30\tValidation accuracy: 0.3611111111111111\n",
            "Epoch: 40\tValidation accuracy: 0.3611111111111111\n",
            "Epoch: 50\tValidation accuracy: 0.3611111111111111\n",
            "Test accuracy: 0.3611111111111111\n"
          ]
        }
      ]
    },
    {
      "cell_type": "code",
      "source": [
        "num_gnn_layers = 80\n",
        "x = np.arange(1, num_gnn_layers+1)\n",
        "\n",
        "plt.figure(figsize=(12, 4))\n",
        "plt.plot(x, energy_baseline, label=\"DeepGCN\")\n",
        "#plt.plot(x, energy_with_pn, label=\"PairNorm-DeepGCN\")\n",
        "#plt.plot(x, energy_with_reg, label=\"Reg-DeepGCN\")\n",
        "plt.plot(x, energy_with_residual, label=\"Res-DeepGCN\")\n",
        "plt.xticks(np.arange(0, num_gnn_layers+1, 2), fontsize=8)\n",
        "plt.yticks(fontsize=8)\n",
        "plt.xlim(0, np.max(x)+1)\n",
        "plt.xlabel(\"Depth\", fontsize=16)\n",
        "plt.ylabel(\"log10 Dirichlet Energy\", fontsize=16)\n",
        "plt.legend(fontsize=12)\n",
        "plt.grid()\n",
        "plt.savefig('oversmooth.eps', dpi=300, bbox_inches='tight')"
      ],
      "metadata": {
        "id": "_cx_M9uqUMlP",
        "colab": {
          "base_uri": "https://localhost:8080/",
          "height": 408
        },
        "outputId": "febbda1b-d061-4783-f756-d013fd66cb21"
      },
      "execution_count": 17,
      "outputs": [
        {
          "output_type": "stream",
          "name": "stderr",
          "text": [
            "WARNING:matplotlib.backends.backend_ps:The PostScript backend does not support transparency; partially transparent artists will be rendered opaque.\n"
          ]
        },
        {
          "output_type": "display_data",
          "data": {
            "text/plain": [
              "<Figure size 1200x400 with 1 Axes>"
            ],
            "image/png": "[encoded data removed]"
          },
          "metadata": {}
        }
      ]
    },
    {
      "cell_type": "code",
      "source": [
        "# energy_with_reg"
      ],
      "metadata": {
        "id": "F2f1_ETtdLVr"
      },
      "execution_count": 18,
      "outputs": []
    }
  ],
  "metadata": {
    "accelerator": "GPU",
    "colab": {
      "provenance": [],
      "gpuType": "T4",
      "machine_shape": "hm"
    },
    "kernelspec": {
      "display_name": "Python 3",
      "name": "python3"
    },
    "language_info": {
      "name": "python"
    }
  },
  "nbformat": 4,
  "nbformat_minor": 0
}