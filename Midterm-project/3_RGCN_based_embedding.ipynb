{
  "nbformat": 4,
  "nbformat_minor": 0,
  "metadata": {
    "colab": {
      "provenance": [],
      "gpuType": "T4"
    },
    "kernelspec": {
      "name": "python3",
      "display_name": "Python 3"
    },
    "language_info": {
      "name": "python"
    },
    "accelerator": "GPU",
    "widgets": {
      "application/vnd.jupyter.widget-state+json": {
        "8a127db7213c4beb9bf72fe97daef32b": {
          "model_module": "@jupyter-widgets/controls",
          "model_name": "HBoxModel",
          "model_module_version": "1.5.0",
          "state": {
            "_dom_classes": [],
            "_model_module": "@jupyter-widgets/controls",
            "_model_module_version": "1.5.0",
            "_model_name": "HBoxModel",
            "_view_count": null,
            "_view_module": "@jupyter-widgets/controls",
            "_view_module_version": "1.5.0",
            "_view_name": "HBoxView",
            "box_style": "",
            "children": [
              "IPY_MODEL_6a5825771e46401481bc9fb12af31d9e",
              "IPY_MODEL_a4274cb82d4345d5b35e2fb6eb81ce78",
              "IPY_MODEL_5cdf32cfe19049cfa6cdae7ad1fbe772"
            ],
            "layout": "IPY_MODEL_b5a8f0035f8b45a7a7bb66a6dbb9e632"
          }
        },
        "6a5825771e46401481bc9fb12af31d9e": {
          "model_module": "@jupyter-widgets/controls",
          "model_name": "HTMLModel",
          "model_module_version": "1.5.0",
          "state": {
            "_dom_classes": [],
            "_model_module": "@jupyter-widgets/controls",
            "_model_module_version": "1.5.0",
            "_model_name": "HTMLModel",
            "_view_count": null,
            "_view_module": "@jupyter-widgets/controls",
            "_view_module_version": "1.5.0",
            "_view_name": "HTMLView",
            "description": "",
            "description_tooltip": null,
            "layout": "IPY_MODEL_15d6ec5be09d463490266aeab3782849",
            "placeholder": "​",
            "style": "IPY_MODEL_f4200610b1b449c1a92611c9d5cb8881",
            "value": "Training epochs on cpu: 100%"
          }
        },
        "a4274cb82d4345d5b35e2fb6eb81ce78": {
          "model_module": "@jupyter-widgets/controls",
          "model_name": "FloatProgressModel",
          "model_module_version": "1.5.0",
          "state": {
            "_dom_classes": [],
            "_model_module": "@jupyter-widgets/controls",
            "_model_module_version": "1.5.0",
            "_model_name": "FloatProgressModel",
            "_view_count": null,
            "_view_module": "@jupyter-widgets/controls",
            "_view_module_version": "1.5.0",
            "_view_name": "ProgressView",
            "bar_style": "success",
            "description": "",
            "description_tooltip": null,
            "layout": "IPY_MODEL_3f11259da39e4fcaac82aadbba3ee441",
            "max": 100,
            "min": 0,
            "orientation": "horizontal",
            "style": "IPY_MODEL_eb0dfd66118647a69f6639f39a857c57",
            "value": 100
          }
        },
        "5cdf32cfe19049cfa6cdae7ad1fbe772": {
          "model_module": "@jupyter-widgets/controls",
          "model_name": "HTMLModel",
          "model_module_version": "1.5.0",
          "state": {
            "_dom_classes": [],
            "_model_module": "@jupyter-widgets/controls",
            "_model_module_version": "1.5.0",
            "_model_name": "HTMLModel",
            "_view_count": null,
            "_view_module": "@jupyter-widgets/controls",
            "_view_module_version": "1.5.0",
            "_view_name": "HTMLView",
            "description": "",
            "description_tooltip": null,
            "layout": "IPY_MODEL_9a730a8228794aeabf6121d4eab39cf7",
            "placeholder": "​",
            "style": "IPY_MODEL_7b53da60889d4c95b83c08d1199fab82",
            "value": " 100/100 [09:00&lt;00:00,  6.32s/epoch, loss=0.0161, prev_loss=0.0166]"
          }
        },
        "b5a8f0035f8b45a7a7bb66a6dbb9e632": {
          "model_module": "@jupyter-widgets/base",
          "model_name": "LayoutModel",
          "model_module_version": "1.2.0",
          "state": {
            "_model_module": "@jupyter-widgets/base",
            "_model_module_version": "1.2.0",
            "_model_name": "LayoutModel",
            "_view_count": null,
            "_view_module": "@jupyter-widgets/base",
            "_view_module_version": "1.2.0",
            "_view_name": "LayoutView",
            "align_content": null,
            "align_items": null,
            "align_self": null,
            "border": null,
            "bottom": null,
            "display": null,
            "flex": null,
            "flex_flow": null,
            "grid_area": null,
            "grid_auto_columns": null,
            "grid_auto_flow": null,
            "grid_auto_rows": null,
            "grid_column": null,
            "grid_gap": null,
            "grid_row": null,
            "grid_template_areas": null,
            "grid_template_columns": null,
            "grid_template_rows": null,
            "height": null,
            "justify_content": null,
            "justify_items": null,
            "left": null,
            "margin": null,
            "max_height": null,
            "max_width": null,
            "min_height": null,
            "min_width": null,
            "object_fit": null,
            "object_position": null,
            "order": null,
            "overflow": null,
            "overflow_x": null,
            "overflow_y": null,
            "padding": null,
            "right": null,
            "top": null,
            "visibility": null,
            "width": null
          }
        },
        "15d6ec5be09d463490266aeab3782849": {
          "model_module": "@jupyter-widgets/base",
          "model_name": "LayoutModel",
          "model_module_version": "1.2.0",
          "state": {
            "_model_module": "@jupyter-widgets/base",
            "_model_module_version": "1.2.0",
            "_model_name": "LayoutModel",
            "_view_count": null,
            "_view_module": "@jupyter-widgets/base",
            "_view_module_version": "1.2.0",
            "_view_name": "LayoutView",
            "align_content": null,
            "align_items": null,
            "align_self": null,
            "border": null,
            "bottom": null,
            "display": null,
            "flex": null,
            "flex_flow": null,
            "grid_area": null,
            "grid_auto_columns": null,
            "grid_auto_flow": null,
            "grid_auto_rows": null,
            "grid_column": null,
            "grid_gap": null,
            "grid_row": null,
            "grid_template_areas": null,
            "grid_template_columns": null,
            "grid_template_rows": null,
            "height": null,
            "justify_content": null,
            "justify_items": null,
            "left": null,
            "margin": null,
            "max_height": null,
            "max_width": null,
            "min_height": null,
            "min_width": null,
            "object_fit": null,
            "object_position": null,
            "order": null,
            "overflow": null,
            "overflow_x": null,
            "overflow_y": null,
            "padding": null,
            "right": null,
            "top": null,
            "visibility": null,
            "width": null
          }
        },
        "f4200610b1b449c1a92611c9d5cb8881": {
          "model_module": "@jupyter-widgets/controls",
          "model_name": "DescriptionStyleModel",
          "model_module_version": "1.5.0",
          "state": {
            "_model_module": "@jupyter-widgets/controls",
            "_model_module_version": "1.5.0",
            "_model_name": "DescriptionStyleModel",
            "_view_count": null,
            "_view_module": "@jupyter-widgets/base",
            "_view_module_version": "1.2.0",
            "_view_name": "StyleView",
            "description_width": ""
          }
        },
        "3f11259da39e4fcaac82aadbba3ee441": {
          "model_module": "@jupyter-widgets/base",
          "model_name": "LayoutModel",
          "model_module_version": "1.2.0",
          "state": {
            "_model_module": "@jupyter-widgets/base",
            "_model_module_version": "1.2.0",
            "_model_name": "LayoutModel",
            "_view_count": null,
            "_view_module": "@jupyter-widgets/base",
            "_view_module_version": "1.2.0",
            "_view_name": "LayoutView",
            "align_content": null,
            "align_items": null,
            "align_self": null,
            "border": null,
            "bottom": null,
            "display": null,
            "flex": null,
            "flex_flow": null,
            "grid_area": null,
            "grid_auto_columns": null,
            "grid_auto_flow": null,
            "grid_auto_rows": null,
            "grid_column": null,
            "grid_gap": null,
            "grid_row": null,
            "grid_template_areas": null,
            "grid_template_columns": null,
            "grid_template_rows": null,
            "height": null,
            "justify_content": null,
            "justify_items": null,
            "left": null,
            "margin": null,
            "max_height": null,
            "max_width": null,
            "min_height": null,
            "min_width": null,
            "object_fit": null,
            "object_position": null,
            "order": null,
            "overflow": null,
            "overflow_x": null,
            "overflow_y": null,
            "padding": null,
            "right": null,
            "top": null,
            "visibility": null,
            "width": null
          }
        },
        "eb0dfd66118647a69f6639f39a857c57": {
          "model_module": "@jupyter-widgets/controls",
          "model_name": "ProgressStyleModel",
          "model_module_version": "1.5.0",
          "state": {
            "_model_module": "@jupyter-widgets/controls",
            "_model_module_version": "1.5.0",
            "_model_name": "ProgressStyleModel",
            "_view_count": null,
            "_view_module": "@jupyter-widgets/base",
            "_view_module_version": "1.2.0",
            "_view_name": "StyleView",
            "bar_color": null,
            "description_width": ""
          }
        },
        "9a730a8228794aeabf6121d4eab39cf7": {
          "model_module": "@jupyter-widgets/base",
          "model_name": "LayoutModel",
          "model_module_version": "1.2.0",
          "state": {
            "_model_module": "@jupyter-widgets/base",
            "_model_module_version": "1.2.0",
            "_model_name": "LayoutModel",
            "_view_count": null,
            "_view_module": "@jupyter-widgets/base",
            "_view_module_version": "1.2.0",
            "_view_name": "LayoutView",
            "align_content": null,
            "align_items": null,
            "align_self": null,
            "border": null,
            "bottom": null,
            "display": null,
            "flex": null,
            "flex_flow": null,
            "grid_area": null,
            "grid_auto_columns": null,
            "grid_auto_flow": null,
            "grid_auto_rows": null,
            "grid_column": null,
            "grid_gap": null,
            "grid_row": null,
            "grid_template_areas": null,
            "grid_template_columns": null,
            "grid_template_rows": null,
            "height": null,
            "justify_content": null,
            "justify_items": null,
            "left": null,
            "margin": null,
            "max_height": null,
            "max_width": null,
            "min_height": null,
            "min_width": null,
            "object_fit": null,
            "object_position": null,
            "order": null,
            "overflow": null,
            "overflow_x": null,
            "overflow_y": null,
            "padding": null,
            "right": null,
            "top": null,
            "visibility": null,
            "width": null
          }
        },
        "7b53da60889d4c95b83c08d1199fab82": {
          "model_module": "@jupyter-widgets/controls",
          "model_name": "DescriptionStyleModel",
          "model_module_version": "1.5.0",
          "state": {
            "_model_module": "@jupyter-widgets/controls",
            "_model_module_version": "1.5.0",
            "_model_name": "DescriptionStyleModel",
            "_view_count": null,
            "_view_module": "@jupyter-widgets/base",
            "_view_module_version": "1.2.0",
            "_view_name": "StyleView",
            "description_width": ""
          }
        },
        "c35745d2dc354a62b2687e4cea08de47": {
          "model_module": "@jupyter-widgets/controls",
          "model_name": "HBoxModel",
          "model_module_version": "1.5.0",
          "state": {
            "_dom_classes": [],
            "_model_module": "@jupyter-widgets/controls",
            "_model_module_version": "1.5.0",
            "_model_name": "HBoxModel",
            "_view_count": null,
            "_view_module": "@jupyter-widgets/controls",
            "_view_module_version": "1.5.0",
            "_view_name": "HBoxView",
            "box_style": "",
            "children": [
              "IPY_MODEL_d7a6347eb8e8428f86dd535296682462",
              "IPY_MODEL_50912cbc3fc747fa9d53f37b7956395d",
              "IPY_MODEL_d08579082f064a9ba37cb2d2689adfdb"
            ],
            "layout": "IPY_MODEL_4d2083726e74445894b3d962820e6232"
          }
        },
        "d7a6347eb8e8428f86dd535296682462": {
          "model_module": "@jupyter-widgets/controls",
          "model_name": "HTMLModel",
          "model_module_version": "1.5.0",
          "state": {
            "_dom_classes": [],
            "_model_module": "@jupyter-widgets/controls",
            "_model_module_version": "1.5.0",
            "_model_name": "HTMLModel",
            "_view_count": null,
            "_view_module": "@jupyter-widgets/controls",
            "_view_module_version": "1.5.0",
            "_view_name": "HTMLView",
            "description": "",
            "description_tooltip": null,
            "layout": "IPY_MODEL_3cb03544f7fe4107ab70e6f983668d1a",
            "placeholder": "​",
            "style": "IPY_MODEL_d2519e33e5764eda97e7e4c37820115d",
            "value": "Evaluating on cpu: 100%"
          }
        },
        "50912cbc3fc747fa9d53f37b7956395d": {
          "model_module": "@jupyter-widgets/controls",
          "model_name": "FloatProgressModel",
          "model_module_version": "1.5.0",
          "state": {
            "_dom_classes": [],
            "_model_module": "@jupyter-widgets/controls",
            "_model_module_version": "1.5.0",
            "_model_name": "FloatProgressModel",
            "_view_count": null,
            "_view_module": "@jupyter-widgets/controls",
            "_view_module_version": "1.5.0",
            "_view_name": "ProgressView",
            "bar_style": "success",
            "description": "",
            "description_tooltip": null,
            "layout": "IPY_MODEL_fa078bab09d140c9b654801ab27d3253",
            "max": 29043,
            "min": 0,
            "orientation": "horizontal",
            "style": "IPY_MODEL_63094123b65846d9a3008face45e77b0",
            "value": 29043
          }
        },
        "d08579082f064a9ba37cb2d2689adfdb": {
          "model_module": "@jupyter-widgets/controls",
          "model_name": "HTMLModel",
          "model_module_version": "1.5.0",
          "state": {
            "_dom_classes": [],
            "_model_module": "@jupyter-widgets/controls",
            "_model_module_version": "1.5.0",
            "_model_name": "HTMLModel",
            "_view_count": null,
            "_view_module": "@jupyter-widgets/controls",
            "_view_module_version": "1.5.0",
            "_view_name": "HTMLView",
            "description": "",
            "description_tooltip": null,
            "layout": "IPY_MODEL_836d99f4c96d4359b335b9cbe37778dc",
            "placeholder": "​",
            "style": "IPY_MODEL_7dc97a6828064f28b2a9e36b7bf11101",
            "value": " 29.0k/29.0k [18:44&lt;00:00, 25.7triple/s]"
          }
        },
        "4d2083726e74445894b3d962820e6232": {
          "model_module": "@jupyter-widgets/base",
          "model_name": "LayoutModel",
          "model_module_version": "1.2.0",
          "state": {
            "_model_module": "@jupyter-widgets/base",
            "_model_module_version": "1.2.0",
            "_model_name": "LayoutModel",
            "_view_count": null,
            "_view_module": "@jupyter-widgets/base",
            "_view_module_version": "1.2.0",
            "_view_name": "LayoutView",
            "align_content": null,
            "align_items": null,
            "align_self": null,
            "border": null,
            "bottom": null,
            "display": null,
            "flex": null,
            "flex_flow": null,
            "grid_area": null,
            "grid_auto_columns": null,
            "grid_auto_flow": null,
            "grid_auto_rows": null,
            "grid_column": null,
            "grid_gap": null,
            "grid_row": null,
            "grid_template_areas": null,
            "grid_template_columns": null,
            "grid_template_rows": null,
            "height": null,
            "justify_content": null,
            "justify_items": null,
            "left": null,
            "margin": null,
            "max_height": null,
            "max_width": null,
            "min_height": null,
            "min_width": null,
            "object_fit": null,
            "object_position": null,
            "order": null,
            "overflow": null,
            "overflow_x": null,
            "overflow_y": null,
            "padding": null,
            "right": null,
            "top": null,
            "visibility": null,
            "width": null
          }
        },
        "3cb03544f7fe4107ab70e6f983668d1a": {
          "model_module": "@jupyter-widgets/base",
          "model_name": "LayoutModel",
          "model_module_version": "1.2.0",
          "state": {
            "_model_module": "@jupyter-widgets/base",
            "_model_module_version": "1.2.0",
            "_model_name": "LayoutModel",
            "_view_count": null,
            "_view_module": "@jupyter-widgets/base",
            "_view_module_version": "1.2.0",
            "_view_name": "LayoutView",
            "align_content": null,
            "align_items": null,
            "align_self": null,
            "border": null,
            "bottom": null,
            "display": null,
            "flex": null,
            "flex_flow": null,
            "grid_area": null,
            "grid_auto_columns": null,
            "grid_auto_flow": null,
            "grid_auto_rows": null,
            "grid_column": null,
            "grid_gap": null,
            "grid_row": null,
            "grid_template_areas": null,
            "grid_template_columns": null,
            "grid_template_rows": null,
            "height": null,
            "justify_content": null,
            "justify_items": null,
            "left": null,
            "margin": null,
            "max_height": null,
            "max_width": null,
            "min_height": null,
            "min_width": null,
            "object_fit": null,
            "object_position": null,
            "order": null,
            "overflow": null,
            "overflow_x": null,
            "overflow_y": null,
            "padding": null,
            "right": null,
            "top": null,
            "visibility": null,
            "width": null
          }
        },
        "d2519e33e5764eda97e7e4c37820115d": {
          "model_module": "@jupyter-widgets/controls",
          "model_name": "DescriptionStyleModel",
          "model_module_version": "1.5.0",
          "state": {
            "_model_module": "@jupyter-widgets/controls",
            "_model_module_version": "1.5.0",
            "_model_name": "DescriptionStyleModel",
            "_view_count": null,
            "_view_module": "@jupyter-widgets/base",
            "_view_module_version": "1.2.0",
            "_view_name": "StyleView",
            "description_width": ""
          }
        },
        "fa078bab09d140c9b654801ab27d3253": {
          "model_module": "@jupyter-widgets/base",
          "model_name": "LayoutModel",
          "model_module_version": "1.2.0",
          "state": {
            "_model_module": "@jupyter-widgets/base",
            "_model_module_version": "1.2.0",
            "_model_name": "LayoutModel",
            "_view_count": null,
            "_view_module": "@jupyter-widgets/base",
            "_view_module_version": "1.2.0",
            "_view_name": "LayoutView",
            "align_content": null,
            "align_items": null,
            "align_self": null,
            "border": null,
            "bottom": null,
            "display": null,
            "flex": null,
            "flex_flow": null,
            "grid_area": null,
            "grid_auto_columns": null,
            "grid_auto_flow": null,
            "grid_auto_rows": null,
            "grid_column": null,
            "grid_gap": null,
            "grid_row": null,
            "grid_template_areas": null,
            "grid_template_columns": null,
            "grid_template_rows": null,
            "height": null,
            "justify_content": null,
            "justify_items": null,
            "left": null,
            "margin": null,
            "max_height": null,
            "max_width": null,
            "min_height": null,
            "min_width": null,
            "object_fit": null,
            "object_position": null,
            "order": null,
            "overflow": null,
            "overflow_x": null,
            "overflow_y": null,
            "padding": null,
            "right": null,
            "top": null,
            "visibility": null,
            "width": null
          }
        },
        "63094123b65846d9a3008face45e77b0": {
          "model_module": "@jupyter-widgets/controls",
          "model_name": "ProgressStyleModel",
          "model_module_version": "1.5.0",
          "state": {
            "_model_module": "@jupyter-widgets/controls",
            "_model_module_version": "1.5.0",
            "_model_name": "ProgressStyleModel",
            "_view_count": null,
            "_view_module": "@jupyter-widgets/base",
            "_view_module_version": "1.2.0",
            "_view_name": "StyleView",
            "bar_color": null,
            "description_width": ""
          }
        },
        "836d99f4c96d4359b335b9cbe37778dc": {
          "model_module": "@jupyter-widgets/base",
          "model_name": "LayoutModel",
          "model_module_version": "1.2.0",
          "state": {
            "_model_module": "@jupyter-widgets/base",
            "_model_module_version": "1.2.0",
            "_model_name": "LayoutModel",
            "_view_count": null,
            "_view_module": "@jupyter-widgets/base",
            "_view_module_version": "1.2.0",
            "_view_name": "LayoutView",
            "align_content": null,
            "align_items": null,
            "align_self": null,
            "border": null,
            "bottom": null,
            "display": null,
            "flex": null,
            "flex_flow": null,
            "grid_area": null,
            "grid_auto_columns": null,
            "grid_auto_flow": null,
            "grid_auto_rows": null,
            "grid_column": null,
            "grid_gap": null,
            "grid_row": null,
            "grid_template_areas": null,
            "grid_template_columns": null,
            "grid_template_rows": null,
            "height": null,
            "justify_content": null,
            "justify_items": null,
            "left": null,
            "margin": null,
            "max_height": null,
            "max_width": null,
            "min_height": null,
            "min_width": null,
            "object_fit": null,
            "object_position": null,
            "order": null,
            "overflow": null,
            "overflow_x": null,
            "overflow_y": null,
            "padding": null,
            "right": null,
            "top": null,
            "visibility": null,
            "width": null
          }
        },
        "7dc97a6828064f28b2a9e36b7bf11101": {
          "model_module": "@jupyter-widgets/controls",
          "model_name": "DescriptionStyleModel",
          "model_module_version": "1.5.0",
          "state": {
            "_model_module": "@jupyter-widgets/controls",
            "_model_module_version": "1.5.0",
            "_model_name": "DescriptionStyleModel",
            "_view_count": null,
            "_view_module": "@jupyter-widgets/base",
            "_view_module_version": "1.2.0",
            "_view_name": "StyleView",
            "description_width": ""
          }
        },
        "a7a2388a96a0462bbd0d622e4228184f": {
          "model_module": "@jupyter-widgets/controls",
          "model_name": "HBoxModel",
          "model_module_version": "1.5.0",
          "state": {
            "_dom_classes": [],
            "_model_module": "@jupyter-widgets/controls",
            "_model_module_version": "1.5.0",
            "_model_name": "HBoxModel",
            "_view_count": null,
            "_view_module": "@jupyter-widgets/controls",
            "_view_module_version": "1.5.0",
            "_view_name": "HBoxView",
            "box_style": "",
            "children": [
              "IPY_MODEL_ba448665452c46579c9c43e8128afe28",
              "IPY_MODEL_51976b7209bc4b31b7dcacac909e3ebe",
              "IPY_MODEL_584b7cbf2e594992aa101062d168db86"
            ],
            "layout": "IPY_MODEL_bf2612f20171456c9b40421ac1947a1f"
          }
        },
        "ba448665452c46579c9c43e8128afe28": {
          "model_module": "@jupyter-widgets/controls",
          "model_name": "HTMLModel",
          "model_module_version": "1.5.0",
          "state": {
            "_dom_classes": [],
            "_model_module": "@jupyter-widgets/controls",
            "_model_module_version": "1.5.0",
            "_model_name": "HTMLModel",
            "_view_count": null,
            "_view_module": "@jupyter-widgets/controls",
            "_view_module_version": "1.5.0",
            "_view_name": "HTMLView",
            "description": "",
            "description_tooltip": null,
            "layout": "IPY_MODEL_19a417ee8e94470a9a5e512f7178d0cf",
            "placeholder": "​",
            "style": "IPY_MODEL_39b3b0744ca04e639a30f4e524828102",
            "value": "Evaluating on cpu: 100%"
          }
        },
        "51976b7209bc4b31b7dcacac909e3ebe": {
          "model_module": "@jupyter-widgets/controls",
          "model_name": "FloatProgressModel",
          "model_module_version": "1.5.0",
          "state": {
            "_dom_classes": [],
            "_model_module": "@jupyter-widgets/controls",
            "_model_module_version": "1.5.0",
            "_model_name": "FloatProgressModel",
            "_view_count": null,
            "_view_module": "@jupyter-widgets/controls",
            "_view_module_version": "1.5.0",
            "_view_name": "ProgressView",
            "bar_style": "success",
            "description": "",
            "description_tooltip": null,
            "layout": "IPY_MODEL_d0fb9a8830f5448ca0f9ea9930d2da4a",
            "max": 29043,
            "min": 0,
            "orientation": "horizontal",
            "style": "IPY_MODEL_84e000145f004e8bb1dbff42dfd3abc5",
            "value": 29043
          }
        },
        "584b7cbf2e594992aa101062d168db86": {
          "model_module": "@jupyter-widgets/controls",
          "model_name": "HTMLModel",
          "model_module_version": "1.5.0",
          "state": {
            "_dom_classes": [],
            "_model_module": "@jupyter-widgets/controls",
            "_model_module_version": "1.5.0",
            "_model_name": "HTMLModel",
            "_view_count": null,
            "_view_module": "@jupyter-widgets/controls",
            "_view_module_version": "1.5.0",
            "_view_name": "HTMLView",
            "description": "",
            "description_tooltip": null,
            "layout": "IPY_MODEL_48bd482a4d6d47efb838562f1a08dd34",
            "placeholder": "​",
            "style": "IPY_MODEL_780ebb64d54148feb0a712c9a31c6b90",
            "value": " 29.0k/29.0k [16:37&lt;00:00, 27.8triple/s]"
          }
        },
        "bf2612f20171456c9b40421ac1947a1f": {
          "model_module": "@jupyter-widgets/base",
          "model_name": "LayoutModel",
          "model_module_version": "1.2.0",
          "state": {
            "_model_module": "@jupyter-widgets/base",
            "_model_module_version": "1.2.0",
            "_model_name": "LayoutModel",
            "_view_count": null,
            "_view_module": "@jupyter-widgets/base",
            "_view_module_version": "1.2.0",
            "_view_name": "LayoutView",
            "align_content": null,
            "align_items": null,
            "align_self": null,
            "border": null,
            "bottom": null,
            "display": null,
            "flex": null,
            "flex_flow": null,
            "grid_area": null,
            "grid_auto_columns": null,
            "grid_auto_flow": null,
            "grid_auto_rows": null,
            "grid_column": null,
            "grid_gap": null,
            "grid_row": null,
            "grid_template_areas": null,
            "grid_template_columns": null,
            "grid_template_rows": null,
            "height": null,
            "justify_content": null,
            "justify_items": null,
            "left": null,
            "margin": null,
            "max_height": null,
            "max_width": null,
            "min_height": null,
            "min_width": null,
            "object_fit": null,
            "object_position": null,
            "order": null,
            "overflow": null,
            "overflow_x": null,
            "overflow_y": null,
            "padding": null,
            "right": null,
            "top": null,
            "visibility": null,
            "width": null
          }
        },
        "19a417ee8e94470a9a5e512f7178d0cf": {
          "model_module": "@jupyter-widgets/base",
          "model_name": "LayoutModel",
          "model_module_version": "1.2.0",
          "state": {
            "_model_module": "@jupyter-widgets/base",
            "_model_module_version": "1.2.0",
            "_model_name": "LayoutModel",
            "_view_count": null,
            "_view_module": "@jupyter-widgets/base",
            "_view_module_version": "1.2.0",
            "_view_name": "LayoutView",
            "align_content": null,
            "align_items": null,
            "align_self": null,
            "border": null,
            "bottom": null,
            "display": null,
            "flex": null,
            "flex_flow": null,
            "grid_area": null,
            "grid_auto_columns": null,
            "grid_auto_flow": null,
            "grid_auto_rows": null,
            "grid_column": null,
            "grid_gap": null,
            "grid_row": null,
            "grid_template_areas": null,
            "grid_template_columns": null,
            "grid_template_rows": null,
            "height": null,
            "justify_content": null,
            "justify_items": null,
            "left": null,
            "margin": null,
            "max_height": null,
            "max_width": null,
            "min_height": null,
            "min_width": null,
            "object_fit": null,
            "object_position": null,
            "order": null,
            "overflow": null,
            "overflow_x": null,
            "overflow_y": null,
            "padding": null,
            "right": null,
            "top": null,
            "visibility": null,
            "width": null
          }
        },
        "39b3b0744ca04e639a30f4e524828102": {
          "model_module": "@jupyter-widgets/controls",
          "model_name": "DescriptionStyleModel",
          "model_module_version": "1.5.0",
          "state": {
            "_model_module": "@jupyter-widgets/controls",
            "_model_module_version": "1.5.0",
            "_model_name": "DescriptionStyleModel",
            "_view_count": null,
            "_view_module": "@jupyter-widgets/base",
            "_view_module_version": "1.2.0",
            "_view_name": "StyleView",
            "description_width": ""
          }
        },
        "d0fb9a8830f5448ca0f9ea9930d2da4a": {
          "model_module": "@jupyter-widgets/base",
          "model_name": "LayoutModel",
          "model_module_version": "1.2.0",
          "state": {
            "_model_module": "@jupyter-widgets/base",
            "_model_module_version": "1.2.0",
            "_model_name": "LayoutModel",
            "_view_count": null,
            "_view_module": "@jupyter-widgets/base",
            "_view_module_version": "1.2.0",
            "_view_name": "LayoutView",
            "align_content": null,
            "align_items": null,
            "align_self": null,
            "border": null,
            "bottom": null,
            "display": null,
            "flex": null,
            "flex_flow": null,
            "grid_area": null,
            "grid_auto_columns": null,
            "grid_auto_flow": null,
            "grid_auto_rows": null,
            "grid_column": null,
            "grid_gap": null,
            "grid_row": null,
            "grid_template_areas": null,
            "grid_template_columns": null,
            "grid_template_rows": null,
            "height": null,
            "justify_content": null,
            "justify_items": null,
            "left": null,
            "margin": null,
            "max_height": null,
            "max_width": null,
            "min_height": null,
            "min_width": null,
            "object_fit": null,
            "object_position": null,
            "order": null,
            "overflow": null,
            "overflow_x": null,
            "overflow_y": null,
            "padding": null,
            "right": null,
            "top": null,
            "visibility": null,
            "width": null
          }
        },
        "84e000145f004e8bb1dbff42dfd3abc5": {
          "model_module": "@jupyter-widgets/controls",
          "model_name": "ProgressStyleModel",
          "model_module_version": "1.5.0",
          "state": {
            "_model_module": "@jupyter-widgets/controls",
            "_model_module_version": "1.5.0",
            "_model_name": "ProgressStyleModel",
            "_view_count": null,
            "_view_module": "@jupyter-widgets/base",
            "_view_module_version": "1.2.0",
            "_view_name": "StyleView",
            "bar_color": null,
            "description_width": ""
          }
        },
        "48bd482a4d6d47efb838562f1a08dd34": {
          "model_module": "@jupyter-widgets/base",
          "model_name": "LayoutModel",
          "model_module_version": "1.2.0",
          "state": {
            "_model_module": "@jupyter-widgets/base",
            "_model_module_version": "1.2.0",
            "_model_name": "LayoutModel",
            "_view_count": null,
            "_view_module": "@jupyter-widgets/base",
            "_view_module_version": "1.2.0",
            "_view_name": "LayoutView",
            "align_content": null,
            "align_items": null,
            "align_self": null,
            "border": null,
            "bottom": null,
            "display": null,
            "flex": null,
            "flex_flow": null,
            "grid_area": null,
            "grid_auto_columns": null,
            "grid_auto_flow": null,
            "grid_auto_rows": null,
            "grid_column": null,
            "grid_gap": null,
            "grid_row": null,
            "grid_template_areas": null,
            "grid_template_columns": null,
            "grid_template_rows": null,
            "height": null,
            "justify_content": null,
            "justify_items": null,
            "left": null,
            "margin": null,
            "max_height": null,
            "max_width": null,
            "min_height": null,
            "min_width": null,
            "object_fit": null,
            "object_position": null,
            "order": null,
            "overflow": null,
            "overflow_x": null,
            "overflow_y": null,
            "padding": null,
            "right": null,
            "top": null,
            "visibility": null,
            "width": null
          }
        },
        "780ebb64d54148feb0a712c9a31c6b90": {
          "model_module": "@jupyter-widgets/controls",
          "model_name": "DescriptionStyleModel",
          "model_module_version": "1.5.0",
          "state": {
            "_model_module": "@jupyter-widgets/controls",
            "_model_module_version": "1.5.0",
            "_model_name": "DescriptionStyleModel",
            "_view_count": null,
            "_view_module": "@jupyter-widgets/base",
            "_view_module_version": "1.2.0",
            "_view_name": "StyleView",
            "description_width": ""
          }
        }
      }
    }
  },
  "cells": [
    {
      "cell_type": "markdown",
      "source": [
        "# Install the required libraries"
      ],
      "metadata": {
        "id": "FrugzLQwrcqx"
      }
    },
    {
      "cell_type": "code",
      "execution_count": 1,
      "metadata": {
        "colab": {
          "base_uri": "https://localhost:8080/"
        },
        "id": "inAUxf8nOOKC",
        "outputId": "3889baca-b3c6-4f47-cfef-a468dbd1e043"
      },
      "outputs": [
        {
          "output_type": "stream",
          "name": "stdout",
          "text": [
            "Collecting pykeen\n",
            "  Downloading pykeen-1.11.1-py3-none-any.whl.metadata (85 kB)\n",
            "\u001b[?25l     \u001b[90m━━━━━━━━━━━━━━━━━━━━━━━━━━━━━━━━━━━━━━━━\u001b[0m \u001b[32m0.0/85.9 kB\u001b[0m \u001b[31m?\u001b[0m eta \u001b[36m-:--:--\u001b[0m\r\u001b[2K     \u001b[90m━━━━━━━━━━━━━━━━━━━━━━━━━━━━━━━━━━━━━━━━\u001b[0m \u001b[32m85.9/85.9 kB\u001b[0m \u001b[31m2.8 MB/s\u001b[0m eta \u001b[36m0:00:00\u001b[0m\n",
            "\u001b[?25hCollecting dataclasses-json (from pykeen)\n",
            "  Downloading dataclasses_json-0.6.7-py3-none-any.whl.metadata (25 kB)\n",
            "Requirement already satisfied: numpy in /usr/local/lib/python3.12/dist-packages (from pykeen) (2.0.2)\n",
            "Requirement already satisfied: scipy>=1.7.0 in /usr/local/lib/python3.12/dist-packages (from pykeen) (1.16.2)\n",
            "Requirement already satisfied: click in /usr/local/lib/python3.12/dist-packages (from pykeen) (8.3.0)\n",
            "Collecting click_default_group (from pykeen)\n",
            "  Downloading click_default_group-1.2.4-py2.py3-none-any.whl.metadata (2.8 kB)\n",
            "Requirement already satisfied: scikit-learn in /usr/local/lib/python3.12/dist-packages (from pykeen) (1.6.1)\n",
            "Requirement already satisfied: torch>=2.0 in /usr/local/lib/python3.12/dist-packages (from pykeen) (2.8.0+cu126)\n",
            "Requirement already satisfied: tqdm in /usr/local/lib/python3.12/dist-packages (from pykeen) (4.67.1)\n",
            "Requirement already satisfied: requests in /usr/local/lib/python3.12/dist-packages (from pykeen) (2.32.4)\n",
            "Collecting optuna>=2.0.0 (from pykeen)\n",
            "  Downloading optuna-4.5.0-py3-none-any.whl.metadata (17 kB)\n",
            "Requirement already satisfied: pandas>=1.0.0 in /usr/local/lib/python3.12/dist-packages (from pykeen) (2.2.2)\n",
            "Requirement already satisfied: tabulate in /usr/local/lib/python3.12/dist-packages (from pykeen) (0.9.0)\n",
            "Collecting more_click (from pykeen)\n",
            "  Downloading more_click-0.1.3-py3-none-any.whl.metadata (14 kB)\n",
            "Requirement already satisfied: more_itertools in /usr/local/lib/python3.12/dist-packages (from pykeen) (10.8.0)\n",
            "Collecting pystow>=0.4.3 (from pykeen)\n",
            "  Downloading pystow-0.7.11-py3-none-any.whl.metadata (17 kB)\n",
            "Collecting docdata>=0.0.5 (from pykeen)\n",
            "  Downloading docdata-0.0.5-py3-none-any.whl.metadata (13 kB)\n",
            "Collecting class_resolver>=0.6.0 (from pykeen)\n",
            "  Downloading class_resolver-0.7.1-py3-none-any.whl.metadata (19 kB)\n",
            "Requirement already satisfied: pyyaml in /usr/local/lib/python3.12/dist-packages (from pykeen) (6.0.3)\n",
            "Collecting torch_max_mem>=0.1.4 (from pykeen)\n",
            "  Downloading torch_max_mem-0.1.4-py3-none-any.whl.metadata (12 kB)\n",
            "Collecting torch-ppr>=0.0.7 (from pykeen)\n",
            "  Downloading torch_ppr-0.0.8-py3-none-any.whl.metadata (9.3 kB)\n",
            "Requirement already satisfied: typing_extensions in /usr/local/lib/python3.12/dist-packages (from pykeen) (4.15.0)\n",
            "Requirement already satisfied: alembic>=1.5.0 in /usr/local/lib/python3.12/dist-packages (from optuna>=2.0.0->pykeen) (1.17.0)\n",
            "Collecting colorlog (from optuna>=2.0.0->pykeen)\n",
            "  Downloading colorlog-6.10.1-py3-none-any.whl.metadata (11 kB)\n",
            "Requirement already satisfied: packaging>=20.0 in /usr/local/lib/python3.12/dist-packages (from optuna>=2.0.0->pykeen) (25.0)\n",
            "Requirement already satisfied: sqlalchemy>=1.4.2 in /usr/local/lib/python3.12/dist-packages (from optuna>=2.0.0->pykeen) (2.0.44)\n",
            "Requirement already satisfied: python-dateutil>=2.8.2 in /usr/local/lib/python3.12/dist-packages (from pandas>=1.0.0->pykeen) (2.9.0.post0)\n",
            "Requirement already satisfied: pytz>=2020.1 in /usr/local/lib/python3.12/dist-packages (from pandas>=1.0.0->pykeen) (2025.2)\n",
            "Requirement already satisfied: tzdata>=2022.7 in /usr/local/lib/python3.12/dist-packages (from pandas>=1.0.0->pykeen) (2025.2)\n",
            "Requirement already satisfied: filelock in /usr/local/lib/python3.12/dist-packages (from torch>=2.0->pykeen) (3.20.0)\n",
            "Requirement already satisfied: setuptools in /usr/local/lib/python3.12/dist-packages (from torch>=2.0->pykeen) (75.2.0)\n",
            "Requirement already satisfied: sympy>=1.13.3 in /usr/local/lib/python3.12/dist-packages (from torch>=2.0->pykeen) (1.13.3)\n",
            "Requirement already satisfied: networkx in /usr/local/lib/python3.12/dist-packages (from torch>=2.0->pykeen) (3.5)\n",
            "Requirement already satisfied: jinja2 in /usr/local/lib/python3.12/dist-packages (from torch>=2.0->pykeen) (3.1.6)\n",
            "Requirement already satisfied: fsspec in /usr/local/lib/python3.12/dist-packages (from torch>=2.0->pykeen) (2025.3.0)\n",
            "Requirement already satisfied: nvidia-cuda-nvrtc-cu12==12.6.77 in /usr/local/lib/python3.12/dist-packages (from torch>=2.0->pykeen) (12.6.77)\n",
            "Requirement already satisfied: nvidia-cuda-runtime-cu12==12.6.77 in /usr/local/lib/python3.12/dist-packages (from torch>=2.0->pykeen) (12.6.77)\n",
            "Requirement already satisfied: nvidia-cuda-cupti-cu12==12.6.80 in /usr/local/lib/python3.12/dist-packages (from torch>=2.0->pykeen) (12.6.80)\n",
            "Requirement already satisfied: nvidia-cudnn-cu12==9.10.2.21 in /usr/local/lib/python3.12/dist-packages (from torch>=2.0->pykeen) (9.10.2.21)\n",
            "Requirement already satisfied: nvidia-cublas-cu12==12.6.4.1 in /usr/local/lib/python3.12/dist-packages (from torch>=2.0->pykeen) (12.6.4.1)\n",
            "Requirement already satisfied: nvidia-cufft-cu12==11.3.0.4 in /usr/local/lib/python3.12/dist-packages (from torch>=2.0->pykeen) (11.3.0.4)\n",
            "Requirement already satisfied: nvidia-curand-cu12==10.3.7.77 in /usr/local/lib/python3.12/dist-packages (from torch>=2.0->pykeen) (10.3.7.77)\n",
            "Requirement already satisfied: nvidia-cusolver-cu12==11.7.1.2 in /usr/local/lib/python3.12/dist-packages (from torch>=2.0->pykeen) (11.7.1.2)\n",
            "Requirement already satisfied: nvidia-cusparse-cu12==12.5.4.2 in /usr/local/lib/python3.12/dist-packages (from torch>=2.0->pykeen) (12.5.4.2)\n",
            "Requirement already satisfied: nvidia-cusparselt-cu12==0.7.1 in /usr/local/lib/python3.12/dist-packages (from torch>=2.0->pykeen) (0.7.1)\n",
            "Requirement already satisfied: nvidia-nccl-cu12==2.27.3 in /usr/local/lib/python3.12/dist-packages (from torch>=2.0->pykeen) (2.27.3)\n",
            "Requirement already satisfied: nvidia-nvtx-cu12==12.6.77 in /usr/local/lib/python3.12/dist-packages (from torch>=2.0->pykeen) (12.6.77)\n",
            "Requirement already satisfied: nvidia-nvjitlink-cu12==12.6.85 in /usr/local/lib/python3.12/dist-packages (from torch>=2.0->pykeen) (12.6.85)\n",
            "Requirement already satisfied: nvidia-cufile-cu12==1.11.1.6 in /usr/local/lib/python3.12/dist-packages (from torch>=2.0->pykeen) (1.11.1.6)\n",
            "Requirement already satisfied: triton==3.4.0 in /usr/local/lib/python3.12/dist-packages (from torch>=2.0->pykeen) (3.4.0)\n",
            "Collecting marshmallow<4.0.0,>=3.18.0 (from dataclasses-json->pykeen)\n",
            "  Downloading marshmallow-3.26.1-py3-none-any.whl.metadata (7.3 kB)\n",
            "Collecting typing-inspect<1,>=0.4.0 (from dataclasses-json->pykeen)\n",
            "  Downloading typing_inspect-0.9.0-py3-none-any.whl.metadata (1.5 kB)\n",
            "Requirement already satisfied: charset_normalizer<4,>=2 in /usr/local/lib/python3.12/dist-packages (from requests->pykeen) (3.4.4)\n",
            "Requirement already satisfied: idna<4,>=2.5 in /usr/local/lib/python3.12/dist-packages (from requests->pykeen) (3.11)\n",
            "Requirement already satisfied: urllib3<3,>=1.21.1 in /usr/local/lib/python3.12/dist-packages (from requests->pykeen) (2.5.0)\n",
            "Requirement already satisfied: certifi>=2017.4.17 in /usr/local/lib/python3.12/dist-packages (from requests->pykeen) (2025.10.5)\n",
            "Requirement already satisfied: joblib>=1.2.0 in /usr/local/lib/python3.12/dist-packages (from scikit-learn->pykeen) (1.5.2)\n",
            "Requirement already satisfied: threadpoolctl>=3.1.0 in /usr/local/lib/python3.12/dist-packages (from scikit-learn->pykeen) (3.6.0)\n",
            "Requirement already satisfied: Mako in /usr/local/lib/python3.12/dist-packages (from alembic>=1.5.0->optuna>=2.0.0->pykeen) (1.3.10)\n",
            "Requirement already satisfied: six>=1.5 in /usr/local/lib/python3.12/dist-packages (from python-dateutil>=2.8.2->pandas>=1.0.0->pykeen) (1.17.0)\n",
            "Requirement already satisfied: greenlet>=1 in /usr/local/lib/python3.12/dist-packages (from sqlalchemy>=1.4.2->optuna>=2.0.0->pykeen) (3.2.4)\n",
            "Requirement already satisfied: mpmath<1.4,>=1.1.0 in /usr/local/lib/python3.12/dist-packages (from sympy>=1.13.3->torch>=2.0->pykeen) (1.3.0)\n",
            "Collecting mypy-extensions>=0.3.0 (from typing-inspect<1,>=0.4.0->dataclasses-json->pykeen)\n",
            "  Downloading mypy_extensions-1.1.0-py3-none-any.whl.metadata (1.1 kB)\n",
            "Requirement already satisfied: MarkupSafe>=2.0 in /usr/local/lib/python3.12/dist-packages (from jinja2->torch>=2.0->pykeen) (3.0.3)\n",
            "Downloading pykeen-1.11.1-py3-none-any.whl (730 kB)\n",
            "\u001b[2K   \u001b[90m━━━━━━━━━━━━━━━━━━━━━━━━━━━━━━━━━━━━━━━━\u001b[0m \u001b[32m730.3/730.3 kB\u001b[0m \u001b[31m14.4 MB/s\u001b[0m eta \u001b[36m0:00:00\u001b[0m\n",
            "\u001b[?25hDownloading class_resolver-0.7.1-py3-none-any.whl (31 kB)\n",
            "Downloading docdata-0.0.5-py3-none-any.whl (9.2 kB)\n",
            "Downloading optuna-4.5.0-py3-none-any.whl (400 kB)\n",
            "\u001b[2K   \u001b[90m━━━━━━━━━━━━━━━━━━━━━━━━━━━━━━━━━━━━━━━━\u001b[0m \u001b[32m400.9/400.9 kB\u001b[0m \u001b[31m23.5 MB/s\u001b[0m eta \u001b[36m0:00:00\u001b[0m\n",
            "\u001b[?25hDownloading pystow-0.7.11-py3-none-any.whl (43 kB)\n",
            "\u001b[2K   \u001b[90m━━━━━━━━━━━━━━━━━━━━━━━━━━━━━━━━━━━━━━━━\u001b[0m \u001b[32m43.6/43.6 kB\u001b[0m \u001b[31m2.1 MB/s\u001b[0m eta \u001b[36m0:00:00\u001b[0m\n",
            "\u001b[?25hDownloading torch_max_mem-0.1.4-py3-none-any.whl (13 kB)\n",
            "Downloading torch_ppr-0.0.8-py3-none-any.whl (12 kB)\n",
            "Downloading click_default_group-1.2.4-py2.py3-none-any.whl (4.1 kB)\n",
            "Downloading dataclasses_json-0.6.7-py3-none-any.whl (28 kB)\n",
            "Downloading more_click-0.1.3-py3-none-any.whl (12 kB)\n",
            "Downloading marshmallow-3.26.1-py3-none-any.whl (50 kB)\n",
            "\u001b[2K   \u001b[90m━━━━━━━━━━━━━━━━━━━━━━━━━━━━━━━━━━━━━━━━\u001b[0m \u001b[32m50.9/50.9 kB\u001b[0m \u001b[31m2.7 MB/s\u001b[0m eta \u001b[36m0:00:00\u001b[0m\n",
            "\u001b[?25hDownloading typing_inspect-0.9.0-py3-none-any.whl (8.8 kB)\n",
            "Downloading colorlog-6.10.1-py3-none-any.whl (11 kB)\n",
            "Downloading mypy_extensions-1.1.0-py3-none-any.whl (5.0 kB)\n",
            "Installing collected packages: mypy-extensions, more_click, marshmallow, docdata, colorlog, click_default_group, class_resolver, typing-inspect, pystow, optuna, dataclasses-json, torch_max_mem, torch-ppr, pykeen\n",
            "Successfully installed class_resolver-0.7.1 click_default_group-1.2.4 colorlog-6.10.1 dataclasses-json-0.6.7 docdata-0.0.5 marshmallow-3.26.1 more_click-0.1.3 mypy-extensions-1.1.0 optuna-4.5.0 pykeen-1.11.1 pystow-0.7.11 torch-ppr-0.0.8 torch_max_mem-0.1.4 typing-inspect-0.9.0\n"
          ]
        }
      ],
      "source": [
        "!pip install pykeen"
      ]
    },
    {
      "cell_type": "code",
      "source": [
        "!pip install rdflib"
      ],
      "metadata": {
        "colab": {
          "base_uri": "https://localhost:8080/"
        },
        "id": "eHN-ZNVHPdPO",
        "outputId": "667b10d5-1f6a-48ec-c2cb-37ef1179ad14"
      },
      "execution_count": 2,
      "outputs": [
        {
          "output_type": "stream",
          "name": "stdout",
          "text": [
            "Collecting rdflib\n",
            "  Downloading rdflib-7.4.0-py3-none-any.whl.metadata (12 kB)\n",
            "Requirement already satisfied: pyparsing<4,>=2.1.0 in /usr/local/lib/python3.12/dist-packages (from rdflib) (3.2.5)\n",
            "Downloading rdflib-7.4.0-py3-none-any.whl (569 kB)\n",
            "\u001b[2K   \u001b[90m━━━━━━━━━━━━━━━━━━━━━━━━━━━━━━━━━━━━━━━━\u001b[0m \u001b[32m569.0/569.0 kB\u001b[0m \u001b[31m8.5 MB/s\u001b[0m eta \u001b[36m0:00:00\u001b[0m\n",
            "\u001b[?25hInstalling collected packages: rdflib\n",
            "Successfully installed rdflib-7.4.0\n"
          ]
        }
      ]
    },
    {
      "cell_type": "code",
      "source": [
        "!pip install torch-geometric -f https://pytorch-geometric.com/whl/torch-1.13.1+cu116.html"
      ],
      "metadata": {
        "colab": {
          "base_uri": "https://localhost:8080/"
        },
        "id": "EXtSnluqPdoF",
        "outputId": "be458f6b-0374-489f-dd38-1c11df831848"
      },
      "execution_count": 3,
      "outputs": [
        {
          "output_type": "stream",
          "name": "stdout",
          "text": [
            "Looking in links: https://pytorch-geometric.com/whl/torch-1.13.1+cu116.html\n",
            "Collecting torch-geometric\n",
            "  Downloading torch_geometric-2.7.0-py3-none-any.whl.metadata (63 kB)\n",
            "\u001b[2K     \u001b[90m━━━━━━━━━━━━━━━━━━━━━━━━━━━━━━━━━━━━━━━━\u001b[0m \u001b[32m63.7/63.7 kB\u001b[0m \u001b[31m1.9 MB/s\u001b[0m eta \u001b[36m0:00:00\u001b[0m\n",
            "\u001b[?25hRequirement already satisfied: aiohttp in /usr/local/lib/python3.12/dist-packages (from torch-geometric) (3.13.1)\n",
            "Requirement already satisfied: fsspec in /usr/local/lib/python3.12/dist-packages (from torch-geometric) (2025.3.0)\n",
            "Requirement already satisfied: jinja2 in /usr/local/lib/python3.12/dist-packages (from torch-geometric) (3.1.6)\n",
            "Requirement already satisfied: numpy in /usr/local/lib/python3.12/dist-packages (from torch-geometric) (2.0.2)\n",
            "Requirement already satisfied: psutil>=5.8.0 in /usr/local/lib/python3.12/dist-packages (from torch-geometric) (5.9.5)\n",
            "Requirement already satisfied: pyparsing in /usr/local/lib/python3.12/dist-packages (from torch-geometric) (3.2.5)\n",
            "Requirement already satisfied: requests in /usr/local/lib/python3.12/dist-packages (from torch-geometric) (2.32.4)\n",
            "Requirement already satisfied: tqdm in /usr/local/lib/python3.12/dist-packages (from torch-geometric) (4.67.1)\n",
            "Requirement already satisfied: xxhash in /usr/local/lib/python3.12/dist-packages (from torch-geometric) (3.6.0)\n",
            "Requirement already satisfied: aiohappyeyeballs>=2.5.0 in /usr/local/lib/python3.12/dist-packages (from aiohttp->torch-geometric) (2.6.1)\n",
            "Requirement already satisfied: aiosignal>=1.4.0 in /usr/local/lib/python3.12/dist-packages (from aiohttp->torch-geometric) (1.4.0)\n",
            "Requirement already satisfied: attrs>=17.3.0 in /usr/local/lib/python3.12/dist-packages (from aiohttp->torch-geometric) (25.4.0)\n",
            "Requirement already satisfied: frozenlist>=1.1.1 in /usr/local/lib/python3.12/dist-packages (from aiohttp->torch-geometric) (1.8.0)\n",
            "Requirement already satisfied: multidict<7.0,>=4.5 in /usr/local/lib/python3.12/dist-packages (from aiohttp->torch-geometric) (6.7.0)\n",
            "Requirement already satisfied: propcache>=0.2.0 in /usr/local/lib/python3.12/dist-packages (from aiohttp->torch-geometric) (0.4.1)\n",
            "Requirement already satisfied: yarl<2.0,>=1.17.0 in /usr/local/lib/python3.12/dist-packages (from aiohttp->torch-geometric) (1.22.0)\n",
            "Requirement already satisfied: MarkupSafe>=2.0 in /usr/local/lib/python3.12/dist-packages (from jinja2->torch-geometric) (3.0.3)\n",
            "Requirement already satisfied: charset_normalizer<4,>=2 in /usr/local/lib/python3.12/dist-packages (from requests->torch-geometric) (3.4.4)\n",
            "Requirement already satisfied: idna<4,>=2.5 in /usr/local/lib/python3.12/dist-packages (from requests->torch-geometric) (3.11)\n",
            "Requirement already satisfied: urllib3<3,>=1.21.1 in /usr/local/lib/python3.12/dist-packages (from requests->torch-geometric) (2.5.0)\n",
            "Requirement already satisfied: certifi>=2017.4.17 in /usr/local/lib/python3.12/dist-packages (from requests->torch-geometric) (2025.10.5)\n",
            "Requirement already satisfied: typing-extensions>=4.2 in /usr/local/lib/python3.12/dist-packages (from aiosignal>=1.4.0->aiohttp->torch-geometric) (4.15.0)\n",
            "Downloading torch_geometric-2.7.0-py3-none-any.whl (1.3 MB)\n",
            "\u001b[2K   \u001b[90m━━━━━━━━━━━━━━━━━━━━━━━━━━━━━━━━━━━━━━━━\u001b[0m \u001b[32m1.3/1.3 MB\u001b[0m \u001b[31m21.2 MB/s\u001b[0m eta \u001b[36m0:00:00\u001b[0m\n",
            "\u001b[?25hInstalling collected packages: torch-geometric\n",
            "Successfully installed torch-geometric-2.7.0\n"
          ]
        }
      ]
    },
    {
      "cell_type": "code",
      "source": [],
      "metadata": {
        "id": "4GhM9HWWPtfG"
      },
      "execution_count": 3,
      "outputs": []
    },
    {
      "cell_type": "code",
      "source": [],
      "metadata": {
        "id": "b6xb7-WFPth7"
      },
      "execution_count": 3,
      "outputs": []
    },
    {
      "cell_type": "code",
      "source": [
        "import networkx as nx\n",
        "import numpy as np\n",
        "import torch\n",
        "import torch.nn as nn\n",
        "import torch.nn.functional as F\n",
        "import torch_geometric\n",
        "import torch_geometric.nn as pyg_nn\n",
        "import time\n",
        "from torch_geometric.datasets import Entities\n",
        "from torch_geometric.nn import FastRGCNConv, RGCNConv\n",
        "from torch_geometric.utils import k_hop_subgraph\n",
        "import matplotlib.pyplot as plt"
      ],
      "metadata": {
        "id": "q3B55gsZPtlA"
      },
      "execution_count": 4,
      "outputs": []
    },
    {
      "cell_type": "code",
      "source": [
        "import pandas as pd\n",
        "from rdflib import Graph, URIRef\n",
        "from pykeen.triples import TriplesFactory\n",
        "from collections import Counter"
      ],
      "metadata": {
        "colab": {
          "base_uri": "https://localhost:8080/"
        },
        "id": "GAtidsW1Ptn3",
        "outputId": "c3290d02-1c1e-4008-9795-d63b5afb1148"
      },
      "execution_count": 5,
      "outputs": [
        {
          "output_type": "stream",
          "name": "stderr",
          "text": [
            "INFO:pykeen.utils:Using opt_einsum\n"
          ]
        }
      ]
    },
    {
      "cell_type": "code",
      "source": [
        "from pykeen.pipeline import pipeline\n",
        "from pykeen.models import DistMult\n",
        "from pykeen.evaluation import RankBasedEvaluator"
      ],
      "metadata": {
        "id": "kuClNd98QMig"
      },
      "execution_count": 6,
      "outputs": []
    },
    {
      "cell_type": "markdown",
      "source": [
        "# Download the dataset"
      ],
      "metadata": {
        "id": "WH0cz6VtPfAB"
      }
    },
    {
      "cell_type": "code",
      "source": [
        "!mkdir ./data\n",
        "!wget \"https://www.dropbox.com/sh/ldjd70yvnu9akxi/AAAam7SBr5KXLfjk-NVGQNWRa?dl=1\" -O \"./data/aifb.zip\"\n",
        "!unzip \"data/aifb.zip\" -d \"data/aifb\""
      ],
      "metadata": {
        "colab": {
          "base_uri": "https://localhost:8080/"
        },
        "id": "zaIQG6xkPiC-",
        "outputId": "bc4111e3-7f84-425e-b3e3-0dcab9ac10ec"
      },
      "execution_count": 7,
      "outputs": [
        {
          "output_type": "stream",
          "name": "stdout",
          "text": [
            "--2025-10-30 14:57:19--  https://www.dropbox.com/sh/ldjd70yvnu9akxi/AAAam7SBr5KXLfjk-NVGQNWRa?dl=1\n",
            "Resolving www.dropbox.com (www.dropbox.com)... 162.125.2.18, 2620:100:6033:18::a27d:5312\n",
            "Connecting to www.dropbox.com (www.dropbox.com)|162.125.2.18|:443... connected.\n",
            "HTTP request sent, awaiting response... 302 Found\n",
            "Location: https://www.dropbox.com/scl/fo/5bkj2o1g1z5f5bv2x4lxj/ALDrm561FEhqGEoMe-qK3YY?rlkey=e7wqtjfh6gmqc5tpql5kkkkxp&dl=1 [following]\n",
            "--2025-10-30 14:57:20--  https://www.dropbox.com/scl/fo/5bkj2o1g1z5f5bv2x4lxj/ALDrm561FEhqGEoMe-qK3YY?rlkey=e7wqtjfh6gmqc5tpql5kkkkxp&dl=1\n",
            "Reusing existing connection to www.dropbox.com:443.\n",
            "HTTP request sent, awaiting response... 302 Found\n",
            "Location: https://uc15b7448c090c4f3396599389cd.dl.dropboxusercontent.com/zip_download_get/CXnzQsx9BuLBPFXex3a8a5WIuiYJDVVQXD_g2l0-LioudFv7cE7kfw-7vvUdUyVxheVs61jn1P8I6Mo-9NvGPVLrWr3EhyBe2_AnbsYy0LP0OQ# [following]\n",
            "--2025-10-30 14:57:21--  https://uc15b7448c090c4f3396599389cd.dl.dropboxusercontent.com/zip_download_get/CXnzQsx9BuLBPFXex3a8a5WIuiYJDVVQXD_g2l0-LioudFv7cE7kfw-7vvUdUyVxheVs61jn1P8I6Mo-9NvGPVLrWr3EhyBe2_AnbsYy0LP0OQ\n",
            "Resolving uc15b7448c090c4f3396599389cd.dl.dropboxusercontent.com (uc15b7448c090c4f3396599389cd.dl.dropboxusercontent.com)... 162.125.2.15, 2620:100:601b:15::a27d:80f\n",
            "Connecting to uc15b7448c090c4f3396599389cd.dl.dropboxusercontent.com (uc15b7448c090c4f3396599389cd.dl.dropboxusercontent.com)|162.125.2.15|:443... connected.\n",
            "HTTP request sent, awaiting response... 200 OK\n",
            "Length: 11333196 (11M) [application/zip]\n",
            "Saving to: ‘./data/aifb.zip’\n",
            "\n",
            "./data/aifb.zip     100%[===================>]  10.81M  16.7MB/s    in 0.6s    \n",
            "\n",
            "2025-10-30 14:57:22 (16.7 MB/s) - ‘./data/aifb.zip’ saved [11333196/11333196]\n",
            "\n",
            "Archive:  data/aifb.zip\n",
            "warning:  stripped absolute path spec from /\n",
            "mapname:  conversion of  failed\n",
            " extracting: data/aifb/A_sparse.pt   \n",
            " extracting: data/aifb/testSet.tsv   \n",
            " extracting: data/aifb/cache_test.pkl  \n",
            " extracting: data/aifb/trainingSet.tsv  \n",
            " extracting: data/aifb/aifb_stripped.nt  \n",
            " extracting: data/aifb/aifb_stripped.nt.gz  \n",
            " extracting: data/aifb/cache_validation.pkl  \n",
            " extracting: data/aifb/adjacency_matrix.pickle  \n"
          ]
        }
      ]
    },
    {
      "cell_type": "code",
      "source": [],
      "metadata": {
        "id": "mcSiksBXQ7wW"
      },
      "execution_count": 7,
      "outputs": []
    },
    {
      "cell_type": "markdown",
      "source": [
        "# Another approach for training:The dataset has no X which is the input features, in this method, I am using an emdedding technique to generate embedding for each node to be used as the features vectors, and test its effect of the model performance"
      ],
      "metadata": {
        "id": "LXRrcBZhRXDL"
      }
    },
    {
      "cell_type": "code",
      "source": [
        "def st(node):\n",
        "    \"\"\"\n",
        "    Maps an rdflib node to a unique string. We use str(node) for URIs (so they can be matched to the classes) and\n",
        "    we use .n3() for everything else, so that different nodes don't become unified.\n",
        "\n",
        "    Source: https://github.com/pbloem/gated-rgcn/blob/1bde7f28af8028f468349b2d760c17d5c908b58b/kgmodels/data.py#L16\n",
        "    \"\"\"\n",
        "    if type(node) == URIRef:\n",
        "        return str(node)\n",
        "    else:\n",
        "        return node.n3()\n",
        "\n",
        "g = Graph()\n",
        "g.parse('/content/data/aifb/aifb_stripped.nt', format='nt')\n",
        "data=[]\n",
        "nodes = set()\n",
        "relations = Counter()\n",
        "for s, p, o in g:\n",
        "        nodes.add(st(s))\n",
        "        nodes.add(st(o))\n",
        "\n",
        "        relations[st(p)] += 1\n",
        "\n",
        "i2n = list(nodes) # maps indices to labels\n",
        "n2i = {n:i for i, n in enumerate(i2n)} # maps labels to indices\n",
        "\n",
        "for s, p, o in g:\n",
        "    data.append([st(s), st(p), st(o)])\n",
        "AIFB_df=pd.DataFrame(data, columns=['subject', 'predicate', 'object'])\n",
        "\n",
        "\n",
        "\n",
        "# Assuming your dataframe has columns 'subject', 'predicate', 'object'\n",
        "triples_factory = TriplesFactory.from_labeled_triples(triples=AIFB_df.values, create_inverse_triples=True)\n",
        "training = triples_factory\n",
        "validation = triples_factory\n",
        "testing = triples_factory\n",
        "\n",
        "d=training\n",
        "id_to_entity={v: k for k, v in d.entity_to_id.items()}\n",
        "id_to_relation={v: k for k, v in d.relation_to_id.items()}\n",
        "\n",
        "# Display the first few triples\n",
        "triples_factory.triples"
      ],
      "metadata": {
        "colab": {
          "base_uri": "https://localhost:8080/"
        },
        "id": "Jc5vUTLKPilw",
        "outputId": "85e7aa11-fc52-40f8-87de-e984780a3f54"
      },
      "execution_count": 8,
      "outputs": [
        {
          "output_type": "stream",
          "name": "stderr",
          "text": [
            "WARNING:pykeen.triples.triples_factory:Reconstructing all label-based triples. This is expensive and rarely needed.\n"
          ]
        },
        {
          "output_type": "execute_result",
          "data": {
            "text/plain": [
              "array([['_:N01b3732211424a17ad019cec219710bc',\n",
              "        'http://www.w3.org/1999/02/22-rdf-syntax-ns#type',\n",
              "        'http://www.w3.org/2002/07/owl#Restriction'],\n",
              "       ['_:N01b3732211424a17ad019cec219710bc',\n",
              "        'http://www.w3.org/2002/07/owl#allValuesFrom',\n",
              "        'http://www.w3.org/2001/XMLSchema#string'],\n",
              "       ['_:N01b3732211424a17ad019cec219710bc',\n",
              "        'http://www.w3.org/2002/07/owl#onProperty',\n",
              "        'http://swrc.ontoware.org/ontology#number'],\n",
              "       ...,\n",
              "       ['http://www.aifb.uni-karlsruhe.de/WBS/dvr/owltools/merge/type',\n",
              "        'http://www.w3.org/1999/02/22-rdf-syntax-ns#type',\n",
              "        'http://www.w3.org/2002/07/owl#DatatypeProperty'],\n",
              "       ['http://www.w3.org/2001/XMLSchema#string',\n",
              "        'http://www.w3.org/1999/02/22-rdf-syntax-ns#type',\n",
              "        'http://www.w3.org/2002/07/owl#Datatype'],\n",
              "       ['http://www.w3.org/2002/07/owl#Thing',\n",
              "        'http://www.w3.org/1999/02/22-rdf-syntax-ns#type',\n",
              "        'http://www.w3.org/2002/07/owl#Class']], dtype='<U3807')"
            ]
          },
          "metadata": {},
          "execution_count": 8
        }
      ]
    },
    {
      "cell_type": "code",
      "source": [
        "result = pipeline(\n",
        "    model='RotatE',\n",
        "    loss=\"MarginRankingLoss\",\n",
        "    training=training,\n",
        "    testing=testing,\n",
        "    validation=validation,\n",
        "    model_kwargs=dict(embedding_dim=64),  # Increase the embedding dimension\n",
        "    optimizer_kwargs=dict(lr=0.001),  # Adjust the learning rate\n",
        "    training_kwargs=dict(num_epochs=100, use_tqdm_batch=False),  # Increase the number of epochs\n",
        ")\n",
        "# The trained model is stored in the pipeline result\n",
        "model = result.model"
      ],
      "metadata": {
        "colab": {
          "base_uri": "https://localhost:8080/",
          "height": 333,
          "referenced_widgets": [
            "8a127db7213c4beb9bf72fe97daef32b",
            "6a5825771e46401481bc9fb12af31d9e",
            "a4274cb82d4345d5b35e2fb6eb81ce78",
            "5cdf32cfe19049cfa6cdae7ad1fbe772",
            "b5a8f0035f8b45a7a7bb66a6dbb9e632",
            "15d6ec5be09d463490266aeab3782849",
            "f4200610b1b449c1a92611c9d5cb8881",
            "3f11259da39e4fcaac82aadbba3ee441",
            "eb0dfd66118647a69f6639f39a857c57",
            "9a730a8228794aeabf6121d4eab39cf7",
            "7b53da60889d4c95b83c08d1199fab82",
            "c35745d2dc354a62b2687e4cea08de47",
            "d7a6347eb8e8428f86dd535296682462",
            "50912cbc3fc747fa9d53f37b7956395d",
            "d08579082f064a9ba37cb2d2689adfdb",
            "4d2083726e74445894b3d962820e6232",
            "3cb03544f7fe4107ab70e6f983668d1a",
            "d2519e33e5764eda97e7e4c37820115d",
            "fa078bab09d140c9b654801ab27d3253",
            "63094123b65846d9a3008face45e77b0",
            "836d99f4c96d4359b335b9cbe37778dc",
            "7dc97a6828064f28b2a9e36b7bf11101"
          ]
        },
        "id": "50PBnL47QQoZ",
        "outputId": "277c03ae-94b7-41c7-acc7-e49d40bf81db"
      },
      "execution_count": 9,
      "outputs": [
        {
          "output_type": "stream",
          "name": "stderr",
          "text": [
            "WARNING:pykeen.pipeline.api:No random seed is specified. Setting to 1788810741.\n",
            "WARNING:pykeen.utils:No cuda devices were available. The model runs on CPU\n",
            "INFO:pykeen.pipeline.api:Using device: None\n",
            "INFO:pykeen.nn.representation:Inferred unique=False for Embedding()\n",
            "INFO:pykeen.nn.representation:Inferred unique=False for Embedding()\n",
            "INFO:pykeen.triples.triples_factory:Creating inverse triples.\n",
            "/usr/local/lib/python3.12/dist-packages/torch/utils/data/dataloader.py:666: UserWarning: 'pin_memory' argument is set as true but no accelerator is found, then device pinned memory won't be used.\n",
            "  warnings.warn(warn_msg)\n"
          ]
        },
        {
          "output_type": "display_data",
          "data": {
            "text/plain": [
              "Training epochs on cpu:   0%|          | 0/100 [00:00<?, ?epoch/s]"
            ],
            "application/vnd.jupyter.widget-view+json": {
              "version_major": 2,
              "version_minor": 0,
              "model_id": "8a127db7213c4beb9bf72fe97daef32b"
            }
          },
          "metadata": {}
        },
        {
          "output_type": "stream",
          "name": "stderr",
          "text": [
            "INFO:pykeen.triples.triples_factory:Creating inverse triples.\n",
            "WARNING:pykeen.pipeline.api:Found evaluation_factory.create_inverse_triples=True which is ignored for evaluation factories. The model itself determines whether inverse relations are used in head prediction. Here, the model was created with training.create_inverse_triples=True\n",
            "WARNING:pykeen.utils:Using automatic batch size on device.type='cpu' can cause unexplained out-of-memory crashes. Therefore, we use a conservative small batch_size=32. Performance may be improved by explicitly specifying a larger batch size.\n"
          ]
        },
        {
          "output_type": "display_data",
          "data": {
            "text/plain": [
              "Evaluating on cpu:   0%|          | 0.00/29.0k [00:00<?, ?triple/s]"
            ],
            "application/vnd.jupyter.widget-view+json": {
              "version_major": 2,
              "version_minor": 0,
              "model_id": "c35745d2dc354a62b2687e4cea08de47"
            }
          },
          "metadata": {}
        },
        {
          "output_type": "stream",
          "name": "stderr",
          "text": [
            "WARNING:torch_max_mem.api:Encountered tensors on device_types={'cpu'} while only ['cuda'] are considered safe for automatic memory utilization maximization. This may lead to undocumented crashes (but can be safe, too).\n",
            "INFO:pykeen.evaluation.evaluator:Evaluation took 1125.34s seconds\n"
          ]
        }
      ]
    },
    {
      "cell_type": "code",
      "source": [
        "# Create an evaluator\n",
        "evaluator = RankBasedEvaluator()\n",
        "# Evaluate the model\n",
        "metrics = evaluator.evaluate(result.model, testing.mapped_triples, additional_filter_triples=[training.mapped_triples, validation.mapped_triples])\n",
        "# Print the metrics\n",
        "print(f\"Hits@1: {metrics.get_metric('hits@1')}\")\n",
        "print(f\"Hits@3: {metrics.get_metric('hits@3')}\")\n",
        "print(f\"Hits@5: {metrics.get_metric('hits@5')}\")\n",
        "print(f\"Hits@10: {metrics.get_metric('hits@10')}\")\n",
        "print(f\"Mean Reciprocal Rank: {metrics.get_metric('mean_reciprocal_rank')}\")"
      ],
      "metadata": {
        "colab": {
          "base_uri": "https://localhost:8080/",
          "height": 212,
          "referenced_widgets": [
            "a7a2388a96a0462bbd0d622e4228184f",
            "ba448665452c46579c9c43e8128afe28",
            "51976b7209bc4b31b7dcacac909e3ebe",
            "584b7cbf2e594992aa101062d168db86",
            "bf2612f20171456c9b40421ac1947a1f",
            "19a417ee8e94470a9a5e512f7178d0cf",
            "39b3b0744ca04e639a30f4e524828102",
            "d0fb9a8830f5448ca0f9ea9930d2da4a",
            "84e000145f004e8bb1dbff42dfd3abc5",
            "48bd482a4d6d47efb838562f1a08dd34",
            "780ebb64d54148feb0a712c9a31c6b90"
          ]
        },
        "id": "_oI2S59OQkJe",
        "outputId": "d3bb1f47-5ac3-4193-b836-57121ed6f480"
      },
      "execution_count": 10,
      "outputs": [
        {
          "output_type": "stream",
          "name": "stderr",
          "text": [
            "WARNING:pykeen.utils:Using automatic batch size on device.type='cpu' can cause unexplained out-of-memory crashes. Therefore, we use a conservative small batch_size=32. Performance may be improved by explicitly specifying a larger batch size.\n"
          ]
        },
        {
          "output_type": "display_data",
          "data": {
            "text/plain": [
              "Evaluating on cpu:   0%|          | 0.00/29.0k [00:00<?, ?triple/s]"
            ],
            "application/vnd.jupyter.widget-view+json": {
              "version_major": 2,
              "version_minor": 0,
              "model_id": "a7a2388a96a0462bbd0d622e4228184f"
            }
          },
          "metadata": {}
        },
        {
          "output_type": "stream",
          "name": "stderr",
          "text": [
            "WARNING:torch_max_mem.api:Encountered tensors on device_types={'cpu'} while only ['cuda'] are considered safe for automatic memory utilization maximization. This may lead to undocumented crashes (but can be safe, too).\n",
            "INFO:pykeen.evaluation.evaluator:Evaluation took 997.60s seconds\n"
          ]
        },
        {
          "output_type": "stream",
          "name": "stdout",
          "text": [
            "Hits@1: 0.7944771545639224\n",
            "Hits@3: 0.8864958854112868\n",
            "Hits@5: 0.9153668698137245\n",
            "Hits@10: 0.9450986468340048\n",
            "Mean Reciprocal Rank: 0.8488573431968689\n"
          ]
        }
      ]
    },
    {
      "cell_type": "code",
      "source": [
        "entity_emb=model.entity_representations[0]._embeddings\n",
        "rel_emb=model.relation_representations[0]._embeddings"
      ],
      "metadata": {
        "id": "eA308IYGQrxi"
      },
      "execution_count": 11,
      "outputs": []
    },
    {
      "cell_type": "code",
      "source": [
        "entity_emb.weight[0]"
      ],
      "metadata": {
        "colab": {
          "base_uri": "https://localhost:8080/"
        },
        "id": "aMTdWXsDQuos",
        "outputId": "6eadfc69-bda0-4a62-8c2e-783a68533014"
      },
      "execution_count": 12,
      "outputs": [
        {
          "output_type": "execute_result",
          "data": {
            "text/plain": [
              "tensor([ 0.4127,  0.2843,  0.0394, -0.3236,  0.4477,  0.4791,  0.2321, -0.3085,\n",
              "         0.0415,  0.2291, -0.4976,  0.1237,  0.2310, -0.1817, -0.3359, -0.3442,\n",
              "        -0.3493, -0.3165, -0.0930, -0.2493, -0.6366,  0.2582,  0.2950,  0.4011,\n",
              "        -0.5577, -0.0586,  0.6271, -0.2689, -0.3264,  0.1522,  0.2119, -0.0439,\n",
              "        -0.0673, -0.4435, -0.2434, -0.0492,  0.2444,  0.2907,  0.4449,  0.2007,\n",
              "        -0.3689, -0.4946,  0.1962,  0.5006,  0.4215, -0.1065, -0.5944, -0.2350,\n",
              "         0.3588, -0.3184, -0.3923,  0.2824,  0.1381, -0.4458, -0.2463, -0.0784,\n",
              "        -0.5191,  0.0547, -0.1454,  0.1847,  0.0326, -0.3838, -0.0642,  0.1841,\n",
              "         0.2226, -0.2626, -0.3820,  0.4823,  0.0932,  0.2810, -0.3878, -0.2675,\n",
              "         0.3859, -0.5907,  0.3601,  0.5022,  0.1011,  0.1370,  0.0254, -0.1402,\n",
              "        -0.3092,  0.4114,  0.0059,  0.2095, -0.2492, -0.6096, -0.3982, -0.2989,\n",
              "         0.1545,  0.4337,  0.1704, -0.3298,  0.1922,  0.1225, -0.1834, -0.0695,\n",
              "         0.2803, -0.2904, -0.3651,  0.4881, -0.3501, -0.4959, -0.4080,  0.3696,\n",
              "         0.1317,  0.1268,  0.0324,  0.1687,  0.4520, -0.4276, -0.3220,  0.1826,\n",
              "        -0.5262,  0.1737,  0.1150,  0.4909,  0.4742, -0.1899,  0.2911,  0.1435,\n",
              "        -0.3459,  0.3413, -0.0181, -0.5202, -0.1895, -0.1752, -0.1378, -0.0867],\n",
              "       grad_fn=<SelectBackward0>)"
            ]
          },
          "metadata": {},
          "execution_count": 12
        }
      ]
    },
    {
      "cell_type": "code",
      "source": [
        "entity_emb"
      ],
      "metadata": {
        "colab": {
          "base_uri": "https://localhost:8080/"
        },
        "id": "B1gkXG4gUX_5",
        "outputId": "b3277673-891b-4541-b28e-54365a22748a"
      },
      "execution_count": 13,
      "outputs": [
        {
          "output_type": "execute_result",
          "data": {
            "text/plain": [
              "Embedding(8285, 128)"
            ]
          },
          "metadata": {},
          "execution_count": 13
        }
      ]
    },
    {
      "cell_type": "code",
      "source": [
        "rel_emb"
      ],
      "metadata": {
        "colab": {
          "base_uri": "https://localhost:8080/"
        },
        "id": "fTTV0OK5T9c6",
        "outputId": "f9bd0f01-8779-4970-99c9-d5e20a1d0119"
      },
      "execution_count": 14,
      "outputs": [
        {
          "output_type": "execute_result",
          "data": {
            "text/plain": [
              "Embedding(90, 128)"
            ]
          },
          "metadata": {},
          "execution_count": 14
        }
      ]
    },
    {
      "cell_type": "code",
      "source": [
        "AIFB_RotatE_entity_emb_128_dict={ training.entity_id_to_label[i]:entity_emb.weight[i].detach().tolist() for i in range(entity_emb.weight.shape[0])}\n",
        "import pickle\n",
        "with open(\"AIFB_RotatE_entity_emb_128_dict.pkl\", \"wb\") as file:\n",
        "    pickle.dump(AIFB_RotatE_entity_emb_128_dict, file)"
      ],
      "metadata": {
        "id": "Kgc9LJ83Q1VF"
      },
      "execution_count": 15,
      "outputs": []
    },
    {
      "cell_type": "markdown",
      "source": [
        "# Untill here, the nodes embedding have been created.\n",
        "# Now, train R-gcn model on the nodes using the embeddings"
      ],
      "metadata": {
        "id": "wwi25OkjVyaC"
      }
    },
    {
      "cell_type": "code",
      "source": [
        "# Download the data, the processed version for thr entity predection task\n",
        "dataset=\"AIFB\"\n",
        "#Conv = FastRGCNConv\n",
        "Conv = RGCNConv\n",
        "dataset = Entities('data/Entities',dataset)\n",
        "data = dataset[0]"
      ],
      "metadata": {
        "id": "YRUo6Y73UhvI",
        "colab": {
          "base_uri": "https://localhost:8080/"
        },
        "outputId": "521383a8-f56d-4b35-c2bc-e5d328904ef2"
      },
      "execution_count": 16,
      "outputs": [
        {
          "output_type": "stream",
          "name": "stderr",
          "text": [
            "Downloading https://data.dgl.ai/dataset/aifb.tgz\n",
            "Extracting data/Entities/aifb.tgz\n",
            "Processing...\n",
            "Done!\n"
          ]
        }
      ]
    },
    {
      "cell_type": "code",
      "source": [
        "data"
      ],
      "metadata": {
        "colab": {
          "base_uri": "https://localhost:8080/"
        },
        "id": "-eCQ4G31WZ_i",
        "outputId": "4ff84c2b-8aa5-409f-c8fa-b649033b0522"
      },
      "execution_count": 17,
      "outputs": [
        {
          "output_type": "execute_result",
          "data": {
            "text/plain": [
              "Data(edge_index=[2, 58086], edge_type=[58086], train_idx=[140], train_y=[140], test_idx=[36], test_y=[36], num_nodes=8285)"
            ]
          },
          "metadata": {},
          "execution_count": 17
        }
      ]
    },
    {
      "cell_type": "code",
      "source": [
        "# This section is useful for large graphs; BGS and AM graphs are too big to process them in a full-batch fashion.\n",
        "# Since our model does only make use of a rather small receptive field, we\n",
        "# filter the graph to only contain the nodes that are at most 2-hop neighbors\n",
        "# away from any training/test node.\n",
        "node_idx = torch.cat([data.train_idx, data.test_idx], dim=0)\n",
        "node_idx, edge_index, mapping, edge_mask = k_hop_subgraph(\n",
        "    node_idx, 2, data.edge_index, relabel_nodes=True)\n",
        "\n",
        "data.num_nodes = node_idx.size(0)\n",
        "data.edge_index = edge_index\n",
        "data.edge_type = data.edge_type[edge_mask]\n",
        "data.train_idx = mapping[:data.train_idx.size(0)]\n",
        "data.test_idx = mapping[data.train_idx.size(0):]"
      ],
      "metadata": {
        "id": "znM2qjbKWacl"
      },
      "execution_count": 18,
      "outputs": []
    },
    {
      "cell_type": "code",
      "source": [
        "#read the embeddings\n",
        "import pickle\n",
        "with open(\"AIFB_RotatE_entity_emb_128_dict.pkl\", \"rb\") as file:\n",
        "    AIFB_RotatE_entity_emb_128_dict=pickle.load(file)"
      ],
      "metadata": {
        "id": "65oRvzGgXFyU"
      },
      "execution_count": 19,
      "outputs": []
    },
    {
      "cell_type": "code",
      "source": [
        "#the flag here to check whether to use embeddings\n",
        "use_feat=True\n",
        "if use_feat:\n",
        "  data.x = torch.Tensor(data.num_nodes, len(AIFB_RotatE_entity_emb_128_dict[list(AIFB_RotatE_entity_emb_128_dict.keys())[0]]))\n",
        "  torch.nn.init.xavier_uniform_(data.x)\n",
        "\n",
        "  i2n={v: k for k, v in n2i.items()}\n",
        "  count=0\n",
        "  for i in range(data.num_nodes):\n",
        "    # print(i)\n",
        "    if i2n[i] in AIFB_RotatE_entity_emb_128_dict:\n",
        "      count+=1\n",
        "      data.x[i]=torch.Tensor(AIFB_RotatE_entity_emb_128_dict[i2n[i]])\n",
        "else:\n",
        "  data.x=None"
      ],
      "metadata": {
        "id": "4owggYOgXMxB"
      },
      "execution_count": 20,
      "outputs": []
    },
    {
      "cell_type": "code",
      "source": [
        "class Net(torch.nn.Module):\n",
        "    def __init__(self):\n",
        "        super().__init__()\n",
        "        self.conv1 = Conv( data.x.shape[1] if data.x is not None else data.num_nodes, 32, dataset.num_relations,num_bases=30)\n",
        "        self.conv2 = Conv(32, dataset.num_classes, dataset.num_relations,num_bases=30)\n",
        "\n",
        "    def forward(self,edge_index, edge_type,x=None):\n",
        "\n",
        "        y= F.relu(self.conv1(x, edge_index, edge_type))\n",
        "        y = self.conv2(y, edge_index, edge_type)\n",
        "        return F.log_softmax(y, dim=1)\n"
      ],
      "metadata": {
        "id": "JzuLIJoRXS4a"
      },
      "execution_count": 21,
      "outputs": []
    },
    {
      "cell_type": "code",
      "source": [
        "if torch.cuda.is_available():\n",
        "    device = torch.device('cuda')\n",
        "else:\n",
        "    device = torch.device('cpu')\n",
        "model, data = Net().to(device), data.to(device)\n",
        "optimizer = torch.optim.Adam(model.parameters(), lr=0.005, weight_decay=0.0005)"
      ],
      "metadata": {
        "id": "PQToc4d7ZFwR"
      },
      "execution_count": 22,
      "outputs": []
    },
    {
      "cell_type": "code",
      "source": [
        "def train():\n",
        "    model.train()\n",
        "    optimizer.zero_grad()\n",
        "    out = model(data.edge_index, data.edge_type,data.x)\n",
        "    loss = F.nll_loss(out[data.train_idx], data.train_y)\n",
        "    loss.backward()\n",
        "    optimizer.step()\n",
        "    return float(loss)\n",
        "\n",
        "\n",
        "@torch.no_grad()\n",
        "def test():\n",
        "    model.eval()\n",
        "    pred = model(data.edge_index, data.edge_type,data.x).argmax(dim=-1)\n",
        "    train_acc = float((pred[data.train_idx] == data.train_y).float().mean())\n",
        "    test_acc = float((pred[data.test_idx] == data.test_y).float().mean())\n",
        "    return train_acc, test_acc\n"
      ],
      "metadata": {
        "id": "fOzZqN98XTF3"
      },
      "execution_count": 23,
      "outputs": []
    },
    {
      "cell_type": "code",
      "source": [
        "times = []\n",
        "train_loss= []\n",
        "accs_train= []\n",
        "accs_test= []\n",
        "for epoch in range(1, 20):\n",
        "    start = time.time()\n",
        "    loss = train()\n",
        "    train_acc, test_acc = test()\n",
        "    print(f'Epoch: {epoch:02d}, Loss: {loss:.4f}, Train: {train_acc:.4f} 'f'Test: {test_acc:.4f}')\n",
        "    accs_test.append(test_acc)\n",
        "    accs_train.append(train_acc)\n",
        "    train_loss.append(loss)\n",
        "\n",
        "    times.append(time.time() - start)"
      ],
      "metadata": {
        "colab": {
          "base_uri": "https://localhost:8080/"
        },
        "id": "n95xOPxYXTXZ",
        "outputId": "374db079-6a3c-4cc9-9aad-f24dcfd9d8f6"
      },
      "execution_count": 24,
      "outputs": [
        {
          "output_type": "stream",
          "name": "stderr",
          "text": [
            "/tmp/ipython-input-3233952467.py:8: UserWarning: Converting a tensor with requires_grad=True to a scalar may lead to unexpected behavior.\n",
            "Consider using tensor.detach() first. (Triggered internally at /pytorch/torch/csrc/autograd/generated/python_variable_methods.cpp:835.)\n",
            "  return float(loss)\n"
          ]
        },
        {
          "output_type": "stream",
          "name": "stdout",
          "text": [
            "Epoch: 01, Loss: 2.2947, Train: 0.4786 Test: 0.5000\n",
            "Epoch: 02, Loss: 1.1132, Train: 0.8643 Test: 0.7778\n",
            "Epoch: 03, Loss: 0.4703, Train: 0.9286 Test: 0.9167\n",
            "Epoch: 04, Loss: 0.2222, Train: 0.9571 Test: 0.9444\n",
            "Epoch: 05, Loss: 0.1519, Train: 0.9643 Test: 0.9167\n",
            "Epoch: 06, Loss: 0.1134, Train: 0.9786 Test: 0.9167\n",
            "Epoch: 07, Loss: 0.0837, Train: 0.9786 Test: 0.9167\n",
            "Epoch: 08, Loss: 0.0612, Train: 0.9786 Test: 0.9167\n",
            "Epoch: 09, Loss: 0.0443, Train: 0.9929 Test: 0.9167\n",
            "Epoch: 10, Loss: 0.0330, Train: 0.9929 Test: 0.9167\n",
            "Epoch: 11, Loss: 0.0262, Train: 1.0000 Test: 0.9444\n",
            "Epoch: 12, Loss: 0.0227, Train: 1.0000 Test: 0.9444\n",
            "Epoch: 13, Loss: 0.0203, Train: 1.0000 Test: 0.9444\n",
            "Epoch: 14, Loss: 0.0178, Train: 1.0000 Test: 0.9444\n",
            "Epoch: 15, Loss: 0.0149, Train: 1.0000 Test: 0.9444\n",
            "Epoch: 16, Loss: 0.0121, Train: 1.0000 Test: 0.9444\n",
            "Epoch: 17, Loss: 0.0095, Train: 1.0000 Test: 0.9444\n",
            "Epoch: 18, Loss: 0.0074, Train: 1.0000 Test: 0.9444\n",
            "Epoch: 19, Loss: 0.0058, Train: 1.0000 Test: 0.9444\n"
          ]
        }
      ]
    },
    {
      "cell_type": "code",
      "source": [
        "print(f\"Median time per epoch: {torch.tensor(times).median():.4f}s\")"
      ],
      "metadata": {
        "colab": {
          "base_uri": "https://localhost:8080/"
        },
        "id": "TvnSaZMvXQ1N",
        "outputId": "d87e8ae5-4c4d-4e5a-dfde-595d0335dfe2"
      },
      "execution_count": 25,
      "outputs": [
        {
          "output_type": "stream",
          "name": "stdout",
          "text": [
            "Median time per epoch: 0.8990s\n"
          ]
        }
      ]
    },
    {
      "cell_type": "code",
      "source": [
        "epochs = np.arange(1, len(train_loss) + 1)\n",
        "\n",
        "plt.figure(figsize=(12, 5))\n",
        "\n",
        "# --- Plot Training Loss ---\n",
        "plt.subplot(1, 2, 1)\n",
        "plt.plot(epochs, train_loss, 'b-', linewidth=2, label='Training Loss')\n",
        "plt.xlabel('Epoch')\n",
        "plt.ylabel('Loss')\n",
        "plt.title('Training Loss over Epochs')\n",
        "plt.xticks(epochs)\n",
        "plt.grid(True, linestyle='--', alpha=0.6)\n",
        "plt.legend()\n",
        "\n",
        "# --- Plot Train vs Test Accuracy ---\n",
        "plt.subplot(1, 2, 2)\n",
        "plt.plot(epochs, accs_train, 'g-', linewidth=2, label='Train Accuracy')\n",
        "plt.plot(epochs, accs_test, 'r--', linewidth=2, label='Test Accuracy')\n",
        "plt.xlabel('Epoch')\n",
        "plt.ylabel('Accuracy')\n",
        "plt.title('Train vs Test Accuracy')\n",
        "\n",
        "plt.xticks(epochs)\n",
        "plt.grid(True, linestyle='--', alpha=0.6)\n",
        "plt.legend()\n",
        "plt.tight_layout()\n",
        "plt.savefig('Embedding-based-R-GCN training and testing results.png', dpi=300, bbox_inches='tight')\n",
        "plt.show()\n"
      ],
      "metadata": {
        "colab": {
          "base_uri": "https://localhost:8080/",
          "height": 507
        },
        "id": "Lag0FePIXQ4X",
        "outputId": "24b4f676-cfb9-4e0d-bc02-8bea5e3c00d7"
      },
      "execution_count": 26,
      "outputs": [
        {
          "output_type": "display_data",
          "data": {
            "text/plain": [
              "<Figure size 1200x500 with 2 Axes>"
            ],
            "image/png": "[encoded data removed]"
          },
          "metadata": {}
        }
      ]
    },
    {
      "cell_type": "code",
      "source": [],
      "metadata": {
        "id": "6C8URtWCXRFC"
      },
      "execution_count": 26,
      "outputs": []
    },
    {
      "cell_type": "code",
      "source": [],
      "metadata": {
        "id": "OsLljbuuXRHx"
      },
      "execution_count": 26,
      "outputs": []
    }
  ]
}