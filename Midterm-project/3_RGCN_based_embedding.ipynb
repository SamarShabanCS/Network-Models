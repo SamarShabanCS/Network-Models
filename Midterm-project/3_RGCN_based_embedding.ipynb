{
  "nbformat": 4,
  "nbformat_minor": 0,
  "metadata": {
    "colab": {
      "provenance": [],
      "gpuType": "T4"
    },
    "kernelspec": {
      "name": "python3",
      "display_name": "Python 3"
    },
    "language_info": {
      "name": "python"
    },
    "accelerator": "GPU",
    "widgets": {
      "application/vnd.jupyter.widget-state+json": {
        "f97dc138f9614bc8a98c588827617fbc": {
          "model_module": "@jupyter-widgets/controls",
          "model_name": "HBoxModel",
          "model_module_version": "1.5.0",
          "state": {
            "_dom_classes": [],
            "_model_module": "@jupyter-widgets/controls",
            "_model_module_version": "1.5.0",
            "_model_name": "HBoxModel",
            "_view_count": null,
            "_view_module": "@jupyter-widgets/controls",
            "_view_module_version": "1.5.0",
            "_view_name": "HBoxView",
            "box_style": "",
            "children": [
              "IPY_MODEL_a30a2a39b93449caa1c6a37b6f6fc9ff",
              "IPY_MODEL_6b43fb58b60e414187eb3c4ddda90528",
              "IPY_MODEL_d9d4a5b01b0d445e923bc88a774786f9"
            ],
            "layout": "IPY_MODEL_3ad8d7eea9394ebfa50d7f3f4f8d545e"
          }
        },
        "a30a2a39b93449caa1c6a37b6f6fc9ff": {
          "model_module": "@jupyter-widgets/controls",
          "model_name": "HTMLModel",
          "model_module_version": "1.5.0",
          "state": {
            "_dom_classes": [],
            "_model_module": "@jupyter-widgets/controls",
            "_model_module_version": "1.5.0",
            "_model_name": "HTMLModel",
            "_view_count": null,
            "_view_module": "@jupyter-widgets/controls",
            "_view_module_version": "1.5.0",
            "_view_name": "HTMLView",
            "description": "",
            "description_tooltip": null,
            "layout": "IPY_MODEL_f8a78f0993b0465b8d4d43286b7450b2",
            "placeholder": "​",
            "style": "IPY_MODEL_49a36f0b4e9447b99beb7afa5d7c77fc",
            "value": "Training epochs on cuda:0: 100%"
          }
        },
        "6b43fb58b60e414187eb3c4ddda90528": {
          "model_module": "@jupyter-widgets/controls",
          "model_name": "FloatProgressModel",
          "model_module_version": "1.5.0",
          "state": {
            "_dom_classes": [],
            "_model_module": "@jupyter-widgets/controls",
            "_model_module_version": "1.5.0",
            "_model_name": "FloatProgressModel",
            "_view_count": null,
            "_view_module": "@jupyter-widgets/controls",
            "_view_module_version": "1.5.0",
            "_view_name": "ProgressView",
            "bar_style": "success",
            "description": "",
            "description_tooltip": null,
            "layout": "IPY_MODEL_be0a7f8096784f078039c17691eccd1f",
            "max": 100,
            "min": 0,
            "orientation": "horizontal",
            "style": "IPY_MODEL_b418d048363c420e855aebf60d627e65",
            "value": 100
          }
        },
        "d9d4a5b01b0d445e923bc88a774786f9": {
          "model_module": "@jupyter-widgets/controls",
          "model_name": "HTMLModel",
          "model_module_version": "1.5.0",
          "state": {
            "_dom_classes": [],
            "_model_module": "@jupyter-widgets/controls",
            "_model_module_version": "1.5.0",
            "_model_name": "HTMLModel",
            "_view_count": null,
            "_view_module": "@jupyter-widgets/controls",
            "_view_module_version": "1.5.0",
            "_view_name": "HTMLView",
            "description": "",
            "description_tooltip": null,
            "layout": "IPY_MODEL_39af79a7d7e545e88048ae14667b8485",
            "placeholder": "​",
            "style": "IPY_MODEL_7a3261e22b7649aa8d03a26d9aca5274",
            "value": " 100/100 [02:02&lt;00:00,  1.17s/epoch, loss=0.0153, prev_loss=0.0163]"
          }
        },
        "3ad8d7eea9394ebfa50d7f3f4f8d545e": {
          "model_module": "@jupyter-widgets/base",
          "model_name": "LayoutModel",
          "model_module_version": "1.2.0",
          "state": {
            "_model_module": "@jupyter-widgets/base",
            "_model_module_version": "1.2.0",
            "_model_name": "LayoutModel",
            "_view_count": null,
            "_view_module": "@jupyter-widgets/base",
            "_view_module_version": "1.2.0",
            "_view_name": "LayoutView",
            "align_content": null,
            "align_items": null,
            "align_self": null,
            "border": null,
            "bottom": null,
            "display": null,
            "flex": null,
            "flex_flow": null,
            "grid_area": null,
            "grid_auto_columns": null,
            "grid_auto_flow": null,
            "grid_auto_rows": null,
            "grid_column": null,
            "grid_gap": null,
            "grid_row": null,
            "grid_template_areas": null,
            "grid_template_columns": null,
            "grid_template_rows": null,
            "height": null,
            "justify_content": null,
            "justify_items": null,
            "left": null,
            "margin": null,
            "max_height": null,
            "max_width": null,
            "min_height": null,
            "min_width": null,
            "object_fit": null,
            "object_position": null,
            "order": null,
            "overflow": null,
            "overflow_x": null,
            "overflow_y": null,
            "padding": null,
            "right": null,
            "top": null,
            "visibility": null,
            "width": null
          }
        },
        "f8a78f0993b0465b8d4d43286b7450b2": {
          "model_module": "@jupyter-widgets/base",
          "model_name": "LayoutModel",
          "model_module_version": "1.2.0",
          "state": {
            "_model_module": "@jupyter-widgets/base",
            "_model_module_version": "1.2.0",
            "_model_name": "LayoutModel",
            "_view_count": null,
            "_view_module": "@jupyter-widgets/base",
            "_view_module_version": "1.2.0",
            "_view_name": "LayoutView",
            "align_content": null,
            "align_items": null,
            "align_self": null,
            "border": null,
            "bottom": null,
            "display": null,
            "flex": null,
            "flex_flow": null,
            "grid_area": null,
            "grid_auto_columns": null,
            "grid_auto_flow": null,
            "grid_auto_rows": null,
            "grid_column": null,
            "grid_gap": null,
            "grid_row": null,
            "grid_template_areas": null,
            "grid_template_columns": null,
            "grid_template_rows": null,
            "height": null,
            "justify_content": null,
            "justify_items": null,
            "left": null,
            "margin": null,
            "max_height": null,
            "max_width": null,
            "min_height": null,
            "min_width": null,
            "object_fit": null,
            "object_position": null,
            "order": null,
            "overflow": null,
            "overflow_x": null,
            "overflow_y": null,
            "padding": null,
            "right": null,
            "top": null,
            "visibility": null,
            "width": null
          }
        },
        "49a36f0b4e9447b99beb7afa5d7c77fc": {
          "model_module": "@jupyter-widgets/controls",
          "model_name": "DescriptionStyleModel",
          "model_module_version": "1.5.0",
          "state": {
            "_model_module": "@jupyter-widgets/controls",
            "_model_module_version": "1.5.0",
            "_model_name": "DescriptionStyleModel",
            "_view_count": null,
            "_view_module": "@jupyter-widgets/base",
            "_view_module_version": "1.2.0",
            "_view_name": "StyleView",
            "description_width": ""
          }
        },
        "be0a7f8096784f078039c17691eccd1f": {
          "model_module": "@jupyter-widgets/base",
          "model_name": "LayoutModel",
          "model_module_version": "1.2.0",
          "state": {
            "_model_module": "@jupyter-widgets/base",
            "_model_module_version": "1.2.0",
            "_model_name": "LayoutModel",
            "_view_count": null,
            "_view_module": "@jupyter-widgets/base",
            "_view_module_version": "1.2.0",
            "_view_name": "LayoutView",
            "align_content": null,
            "align_items": null,
            "align_self": null,
            "border": null,
            "bottom": null,
            "display": null,
            "flex": null,
            "flex_flow": null,
            "grid_area": null,
            "grid_auto_columns": null,
            "grid_auto_flow": null,
            "grid_auto_rows": null,
            "grid_column": null,
            "grid_gap": null,
            "grid_row": null,
            "grid_template_areas": null,
            "grid_template_columns": null,
            "grid_template_rows": null,
            "height": null,
            "justify_content": null,
            "justify_items": null,
            "left": null,
            "margin": null,
            "max_height": null,
            "max_width": null,
            "min_height": null,
            "min_width": null,
            "object_fit": null,
            "object_position": null,
            "order": null,
            "overflow": null,
            "overflow_x": null,
            "overflow_y": null,
            "padding": null,
            "right": null,
            "top": null,
            "visibility": null,
            "width": null
          }
        },
        "b418d048363c420e855aebf60d627e65": {
          "model_module": "@jupyter-widgets/controls",
          "model_name": "ProgressStyleModel",
          "model_module_version": "1.5.0",
          "state": {
            "_model_module": "@jupyter-widgets/controls",
            "_model_module_version": "1.5.0",
            "_model_name": "ProgressStyleModel",
            "_view_count": null,
            "_view_module": "@jupyter-widgets/base",
            "_view_module_version": "1.2.0",
            "_view_name": "StyleView",
            "bar_color": null,
            "description_width": ""
          }
        },
        "39af79a7d7e545e88048ae14667b8485": {
          "model_module": "@jupyter-widgets/base",
          "model_name": "LayoutModel",
          "model_module_version": "1.2.0",
          "state": {
            "_model_module": "@jupyter-widgets/base",
            "_model_module_version": "1.2.0",
            "_model_name": "LayoutModel",
            "_view_count": null,
            "_view_module": "@jupyter-widgets/base",
            "_view_module_version": "1.2.0",
            "_view_name": "LayoutView",
            "align_content": null,
            "align_items": null,
            "align_self": null,
            "border": null,
            "bottom": null,
            "display": null,
            "flex": null,
            "flex_flow": null,
            "grid_area": null,
            "grid_auto_columns": null,
            "grid_auto_flow": null,
            "grid_auto_rows": null,
            "grid_column": null,
            "grid_gap": null,
            "grid_row": null,
            "grid_template_areas": null,
            "grid_template_columns": null,
            "grid_template_rows": null,
            "height": null,
            "justify_content": null,
            "justify_items": null,
            "left": null,
            "margin": null,
            "max_height": null,
            "max_width": null,
            "min_height": null,
            "min_width": null,
            "object_fit": null,
            "object_position": null,
            "order": null,
            "overflow": null,
            "overflow_x": null,
            "overflow_y": null,
            "padding": null,
            "right": null,
            "top": null,
            "visibility": null,
            "width": null
          }
        },
        "7a3261e22b7649aa8d03a26d9aca5274": {
          "model_module": "@jupyter-widgets/controls",
          "model_name": "DescriptionStyleModel",
          "model_module_version": "1.5.0",
          "state": {
            "_model_module": "@jupyter-widgets/controls",
            "_model_module_version": "1.5.0",
            "_model_name": "DescriptionStyleModel",
            "_view_count": null,
            "_view_module": "@jupyter-widgets/base",
            "_view_module_version": "1.2.0",
            "_view_name": "StyleView",
            "description_width": ""
          }
        },
        "717aa067fdfa4c84a935f3567e90ffec": {
          "model_module": "@jupyter-widgets/controls",
          "model_name": "HBoxModel",
          "model_module_version": "1.5.0",
          "state": {
            "_dom_classes": [],
            "_model_module": "@jupyter-widgets/controls",
            "_model_module_version": "1.5.0",
            "_model_name": "HBoxModel",
            "_view_count": null,
            "_view_module": "@jupyter-widgets/controls",
            "_view_module_version": "1.5.0",
            "_view_name": "HBoxView",
            "box_style": "",
            "children": [
              "IPY_MODEL_84453716f72e4e24823fed52f12ce009",
              "IPY_MODEL_1bb98f6b351744719af0700c5ed82a66",
              "IPY_MODEL_5a84ba32369f4bd1b23360582043aaee"
            ],
            "layout": "IPY_MODEL_99309dfb513b4ddda82469028b8f3785"
          }
        },
        "84453716f72e4e24823fed52f12ce009": {
          "model_module": "@jupyter-widgets/controls",
          "model_name": "HTMLModel",
          "model_module_version": "1.5.0",
          "state": {
            "_dom_classes": [],
            "_model_module": "@jupyter-widgets/controls",
            "_model_module_version": "1.5.0",
            "_model_name": "HTMLModel",
            "_view_count": null,
            "_view_module": "@jupyter-widgets/controls",
            "_view_module_version": "1.5.0",
            "_view_name": "HTMLView",
            "description": "",
            "description_tooltip": null,
            "layout": "IPY_MODEL_198445cfeca4457a88d3cfa277c3b61d",
            "placeholder": "​",
            "style": "IPY_MODEL_6f56d9c940b04a7ea4fa6a25df47d6d8",
            "value": "Evaluating on cuda:0: 100%"
          }
        },
        "1bb98f6b351744719af0700c5ed82a66": {
          "model_module": "@jupyter-widgets/controls",
          "model_name": "FloatProgressModel",
          "model_module_version": "1.5.0",
          "state": {
            "_dom_classes": [],
            "_model_module": "@jupyter-widgets/controls",
            "_model_module_version": "1.5.0",
            "_model_name": "FloatProgressModel",
            "_view_count": null,
            "_view_module": "@jupyter-widgets/controls",
            "_view_module_version": "1.5.0",
            "_view_name": "ProgressView",
            "bar_style": "success",
            "description": "",
            "description_tooltip": null,
            "layout": "IPY_MODEL_d2e8feef4f114181afd814332aa6d2ca",
            "max": 29043,
            "min": 0,
            "orientation": "horizontal",
            "style": "IPY_MODEL_682a32e3fa56481fbeaa9065eae747f0",
            "value": 29043
          }
        },
        "5a84ba32369f4bd1b23360582043aaee": {
          "model_module": "@jupyter-widgets/controls",
          "model_name": "HTMLModel",
          "model_module_version": "1.5.0",
          "state": {
            "_dom_classes": [],
            "_model_module": "@jupyter-widgets/controls",
            "_model_module_version": "1.5.0",
            "_model_name": "HTMLModel",
            "_view_count": null,
            "_view_module": "@jupyter-widgets/controls",
            "_view_module_version": "1.5.0",
            "_view_name": "HTMLView",
            "description": "",
            "description_tooltip": null,
            "layout": "IPY_MODEL_41c5a13af1cc4caa8bb075ca62759821",
            "placeholder": "​",
            "style": "IPY_MODEL_09c7d91835c1454594c52f944144d7a6",
            "value": " 29.0k/29.0k [00:03&lt;00:00, 8.49ktriple/s]"
          }
        },
        "99309dfb513b4ddda82469028b8f3785": {
          "model_module": "@jupyter-widgets/base",
          "model_name": "LayoutModel",
          "model_module_version": "1.2.0",
          "state": {
            "_model_module": "@jupyter-widgets/base",
            "_model_module_version": "1.2.0",
            "_model_name": "LayoutModel",
            "_view_count": null,
            "_view_module": "@jupyter-widgets/base",
            "_view_module_version": "1.2.0",
            "_view_name": "LayoutView",
            "align_content": null,
            "align_items": null,
            "align_self": null,
            "border": null,
            "bottom": null,
            "display": null,
            "flex": null,
            "flex_flow": null,
            "grid_area": null,
            "grid_auto_columns": null,
            "grid_auto_flow": null,
            "grid_auto_rows": null,
            "grid_column": null,
            "grid_gap": null,
            "grid_row": null,
            "grid_template_areas": null,
            "grid_template_columns": null,
            "grid_template_rows": null,
            "height": null,
            "justify_content": null,
            "justify_items": null,
            "left": null,
            "margin": null,
            "max_height": null,
            "max_width": null,
            "min_height": null,
            "min_width": null,
            "object_fit": null,
            "object_position": null,
            "order": null,
            "overflow": null,
            "overflow_x": null,
            "overflow_y": null,
            "padding": null,
            "right": null,
            "top": null,
            "visibility": null,
            "width": null
          }
        },
        "198445cfeca4457a88d3cfa277c3b61d": {
          "model_module": "@jupyter-widgets/base",
          "model_name": "LayoutModel",
          "model_module_version": "1.2.0",
          "state": {
            "_model_module": "@jupyter-widgets/base",
            "_model_module_version": "1.2.0",
            "_model_name": "LayoutModel",
            "_view_count": null,
            "_view_module": "@jupyter-widgets/base",
            "_view_module_version": "1.2.0",
            "_view_name": "LayoutView",
            "align_content": null,
            "align_items": null,
            "align_self": null,
            "border": null,
            "bottom": null,
            "display": null,
            "flex": null,
            "flex_flow": null,
            "grid_area": null,
            "grid_auto_columns": null,
            "grid_auto_flow": null,
            "grid_auto_rows": null,
            "grid_column": null,
            "grid_gap": null,
            "grid_row": null,
            "grid_template_areas": null,
            "grid_template_columns": null,
            "grid_template_rows": null,
            "height": null,
            "justify_content": null,
            "justify_items": null,
            "left": null,
            "margin": null,
            "max_height": null,
            "max_width": null,
            "min_height": null,
            "min_width": null,
            "object_fit": null,
            "object_position": null,
            "order": null,
            "overflow": null,
            "overflow_x": null,
            "overflow_y": null,
            "padding": null,
            "right": null,
            "top": null,
            "visibility": null,
            "width": null
          }
        },
        "6f56d9c940b04a7ea4fa6a25df47d6d8": {
          "model_module": "@jupyter-widgets/controls",
          "model_name": "DescriptionStyleModel",
          "model_module_version": "1.5.0",
          "state": {
            "_model_module": "@jupyter-widgets/controls",
            "_model_module_version": "1.5.0",
            "_model_name": "DescriptionStyleModel",
            "_view_count": null,
            "_view_module": "@jupyter-widgets/base",
            "_view_module_version": "1.2.0",
            "_view_name": "StyleView",
            "description_width": ""
          }
        },
        "d2e8feef4f114181afd814332aa6d2ca": {
          "model_module": "@jupyter-widgets/base",
          "model_name": "LayoutModel",
          "model_module_version": "1.2.0",
          "state": {
            "_model_module": "@jupyter-widgets/base",
            "_model_module_version": "1.2.0",
            "_model_name": "LayoutModel",
            "_view_count": null,
            "_view_module": "@jupyter-widgets/base",
            "_view_module_version": "1.2.0",
            "_view_name": "LayoutView",
            "align_content": null,
            "align_items": null,
            "align_self": null,
            "border": null,
            "bottom": null,
            "display": null,
            "flex": null,
            "flex_flow": null,
            "grid_area": null,
            "grid_auto_columns": null,
            "grid_auto_flow": null,
            "grid_auto_rows": null,
            "grid_column": null,
            "grid_gap": null,
            "grid_row": null,
            "grid_template_areas": null,
            "grid_template_columns": null,
            "grid_template_rows": null,
            "height": null,
            "justify_content": null,
            "justify_items": null,
            "left": null,
            "margin": null,
            "max_height": null,
            "max_width": null,
            "min_height": null,
            "min_width": null,
            "object_fit": null,
            "object_position": null,
            "order": null,
            "overflow": null,
            "overflow_x": null,
            "overflow_y": null,
            "padding": null,
            "right": null,
            "top": null,
            "visibility": null,
            "width": null
          }
        },
        "682a32e3fa56481fbeaa9065eae747f0": {
          "model_module": "@jupyter-widgets/controls",
          "model_name": "ProgressStyleModel",
          "model_module_version": "1.5.0",
          "state": {
            "_model_module": "@jupyter-widgets/controls",
            "_model_module_version": "1.5.0",
            "_model_name": "ProgressStyleModel",
            "_view_count": null,
            "_view_module": "@jupyter-widgets/base",
            "_view_module_version": "1.2.0",
            "_view_name": "StyleView",
            "bar_color": null,
            "description_width": ""
          }
        },
        "41c5a13af1cc4caa8bb075ca62759821": {
          "model_module": "@jupyter-widgets/base",
          "model_name": "LayoutModel",
          "model_module_version": "1.2.0",
          "state": {
            "_model_module": "@jupyter-widgets/base",
            "_model_module_version": "1.2.0",
            "_model_name": "LayoutModel",
            "_view_count": null,
            "_view_module": "@jupyter-widgets/base",
            "_view_module_version": "1.2.0",
            "_view_name": "LayoutView",
            "align_content": null,
            "align_items": null,
            "align_self": null,
            "border": null,
            "bottom": null,
            "display": null,
            "flex": null,
            "flex_flow": null,
            "grid_area": null,
            "grid_auto_columns": null,
            "grid_auto_flow": null,
            "grid_auto_rows": null,
            "grid_column": null,
            "grid_gap": null,
            "grid_row": null,
            "grid_template_areas": null,
            "grid_template_columns": null,
            "grid_template_rows": null,
            "height": null,
            "justify_content": null,
            "justify_items": null,
            "left": null,
            "margin": null,
            "max_height": null,
            "max_width": null,
            "min_height": null,
            "min_width": null,
            "object_fit": null,
            "object_position": null,
            "order": null,
            "overflow": null,
            "overflow_x": null,
            "overflow_y": null,
            "padding": null,
            "right": null,
            "top": null,
            "visibility": null,
            "width": null
          }
        },
        "09c7d91835c1454594c52f944144d7a6": {
          "model_module": "@jupyter-widgets/controls",
          "model_name": "DescriptionStyleModel",
          "model_module_version": "1.5.0",
          "state": {
            "_model_module": "@jupyter-widgets/controls",
            "_model_module_version": "1.5.0",
            "_model_name": "DescriptionStyleModel",
            "_view_count": null,
            "_view_module": "@jupyter-widgets/base",
            "_view_module_version": "1.2.0",
            "_view_name": "StyleView",
            "description_width": ""
          }
        },
        "0c80476c9df44d87a0ef00ddb2df8626": {
          "model_module": "@jupyter-widgets/controls",
          "model_name": "HBoxModel",
          "model_module_version": "1.5.0",
          "state": {
            "_dom_classes": [],
            "_model_module": "@jupyter-widgets/controls",
            "_model_module_version": "1.5.0",
            "_model_name": "HBoxModel",
            "_view_count": null,
            "_view_module": "@jupyter-widgets/controls",
            "_view_module_version": "1.5.0",
            "_view_name": "HBoxView",
            "box_style": "",
            "children": [
              "IPY_MODEL_7e7bb4eb478343389a7de83068e633d1",
              "IPY_MODEL_96d7d76327fd4a8ca32c299a38cf66ff",
              "IPY_MODEL_b043155a329947c4b6ab038b464b27ef"
            ],
            "layout": "IPY_MODEL_5ef3e83cd7af47fcb65fe48c0d93a05e"
          }
        },
        "7e7bb4eb478343389a7de83068e633d1": {
          "model_module": "@jupyter-widgets/controls",
          "model_name": "HTMLModel",
          "model_module_version": "1.5.0",
          "state": {
            "_dom_classes": [],
            "_model_module": "@jupyter-widgets/controls",
            "_model_module_version": "1.5.0",
            "_model_name": "HTMLModel",
            "_view_count": null,
            "_view_module": "@jupyter-widgets/controls",
            "_view_module_version": "1.5.0",
            "_view_name": "HTMLView",
            "description": "",
            "description_tooltip": null,
            "layout": "IPY_MODEL_fc4e1c50d22f47e489cf192ebeee87e2",
            "placeholder": "​",
            "style": "IPY_MODEL_2b8da87a4c6e4cc2819846fa82ea2176",
            "value": "Evaluating on cuda:0: 100%"
          }
        },
        "96d7d76327fd4a8ca32c299a38cf66ff": {
          "model_module": "@jupyter-widgets/controls",
          "model_name": "FloatProgressModel",
          "model_module_version": "1.5.0",
          "state": {
            "_dom_classes": [],
            "_model_module": "@jupyter-widgets/controls",
            "_model_module_version": "1.5.0",
            "_model_name": "FloatProgressModel",
            "_view_count": null,
            "_view_module": "@jupyter-widgets/controls",
            "_view_module_version": "1.5.0",
            "_view_name": "ProgressView",
            "bar_style": "success",
            "description": "",
            "description_tooltip": null,
            "layout": "IPY_MODEL_1dd19ab999b94a09839724a63e82768a",
            "max": 29043,
            "min": 0,
            "orientation": "horizontal",
            "style": "IPY_MODEL_5acec5add8eb46f49363c4bbf4fb015e",
            "value": 29043
          }
        },
        "b043155a329947c4b6ab038b464b27ef": {
          "model_module": "@jupyter-widgets/controls",
          "model_name": "HTMLModel",
          "model_module_version": "1.5.0",
          "state": {
            "_dom_classes": [],
            "_model_module": "@jupyter-widgets/controls",
            "_model_module_version": "1.5.0",
            "_model_name": "HTMLModel",
            "_view_count": null,
            "_view_module": "@jupyter-widgets/controls",
            "_view_module_version": "1.5.0",
            "_view_name": "HTMLView",
            "description": "",
            "description_tooltip": null,
            "layout": "IPY_MODEL_05b1e5bca81944508ad7e91240b0a39f",
            "placeholder": "​",
            "style": "IPY_MODEL_49ad93ea72184339b42563a9f04f657f",
            "value": " 29.0k/29.0k [00:03&lt;00:00, 8.36ktriple/s]"
          }
        },
        "5ef3e83cd7af47fcb65fe48c0d93a05e": {
          "model_module": "@jupyter-widgets/base",
          "model_name": "LayoutModel",
          "model_module_version": "1.2.0",
          "state": {
            "_model_module": "@jupyter-widgets/base",
            "_model_module_version": "1.2.0",
            "_model_name": "LayoutModel",
            "_view_count": null,
            "_view_module": "@jupyter-widgets/base",
            "_view_module_version": "1.2.0",
            "_view_name": "LayoutView",
            "align_content": null,
            "align_items": null,
            "align_self": null,
            "border": null,
            "bottom": null,
            "display": null,
            "flex": null,
            "flex_flow": null,
            "grid_area": null,
            "grid_auto_columns": null,
            "grid_auto_flow": null,
            "grid_auto_rows": null,
            "grid_column": null,
            "grid_gap": null,
            "grid_row": null,
            "grid_template_areas": null,
            "grid_template_columns": null,
            "grid_template_rows": null,
            "height": null,
            "justify_content": null,
            "justify_items": null,
            "left": null,
            "margin": null,
            "max_height": null,
            "max_width": null,
            "min_height": null,
            "min_width": null,
            "object_fit": null,
            "object_position": null,
            "order": null,
            "overflow": null,
            "overflow_x": null,
            "overflow_y": null,
            "padding": null,
            "right": null,
            "top": null,
            "visibility": null,
            "width": null
          }
        },
        "fc4e1c50d22f47e489cf192ebeee87e2": {
          "model_module": "@jupyter-widgets/base",
          "model_name": "LayoutModel",
          "model_module_version": "1.2.0",
          "state": {
            "_model_module": "@jupyter-widgets/base",
            "_model_module_version": "1.2.0",
            "_model_name": "LayoutModel",
            "_view_count": null,
            "_view_module": "@jupyter-widgets/base",
            "_view_module_version": "1.2.0",
            "_view_name": "LayoutView",
            "align_content": null,
            "align_items": null,
            "align_self": null,
            "border": null,
            "bottom": null,
            "display": null,
            "flex": null,
            "flex_flow": null,
            "grid_area": null,
            "grid_auto_columns": null,
            "grid_auto_flow": null,
            "grid_auto_rows": null,
            "grid_column": null,
            "grid_gap": null,
            "grid_row": null,
            "grid_template_areas": null,
            "grid_template_columns": null,
            "grid_template_rows": null,
            "height": null,
            "justify_content": null,
            "justify_items": null,
            "left": null,
            "margin": null,
            "max_height": null,
            "max_width": null,
            "min_height": null,
            "min_width": null,
            "object_fit": null,
            "object_position": null,
            "order": null,
            "overflow": null,
            "overflow_x": null,
            "overflow_y": null,
            "padding": null,
            "right": null,
            "top": null,
            "visibility": null,
            "width": null
          }
        },
        "2b8da87a4c6e4cc2819846fa82ea2176": {
          "model_module": "@jupyter-widgets/controls",
          "model_name": "DescriptionStyleModel",
          "model_module_version": "1.5.0",
          "state": {
            "_model_module": "@jupyter-widgets/controls",
            "_model_module_version": "1.5.0",
            "_model_name": "DescriptionStyleModel",
            "_view_count": null,
            "_view_module": "@jupyter-widgets/base",
            "_view_module_version": "1.2.0",
            "_view_name": "StyleView",
            "description_width": ""
          }
        },
        "1dd19ab999b94a09839724a63e82768a": {
          "model_module": "@jupyter-widgets/base",
          "model_name": "LayoutModel",
          "model_module_version": "1.2.0",
          "state": {
            "_model_module": "@jupyter-widgets/base",
            "_model_module_version": "1.2.0",
            "_model_name": "LayoutModel",
            "_view_count": null,
            "_view_module": "@jupyter-widgets/base",
            "_view_module_version": "1.2.0",
            "_view_name": "LayoutView",
            "align_content": null,
            "align_items": null,
            "align_self": null,
            "border": null,
            "bottom": null,
            "display": null,
            "flex": null,
            "flex_flow": null,
            "grid_area": null,
            "grid_auto_columns": null,
            "grid_auto_flow": null,
            "grid_auto_rows": null,
            "grid_column": null,
            "grid_gap": null,
            "grid_row": null,
            "grid_template_areas": null,
            "grid_template_columns": null,
            "grid_template_rows": null,
            "height": null,
            "justify_content": null,
            "justify_items": null,
            "left": null,
            "margin": null,
            "max_height": null,
            "max_width": null,
            "min_height": null,
            "min_width": null,
            "object_fit": null,
            "object_position": null,
            "order": null,
            "overflow": null,
            "overflow_x": null,
            "overflow_y": null,
            "padding": null,
            "right": null,
            "top": null,
            "visibility": null,
            "width": null
          }
        },
        "5acec5add8eb46f49363c4bbf4fb015e": {
          "model_module": "@jupyter-widgets/controls",
          "model_name": "ProgressStyleModel",
          "model_module_version": "1.5.0",
          "state": {
            "_model_module": "@jupyter-widgets/controls",
            "_model_module_version": "1.5.0",
            "_model_name": "ProgressStyleModel",
            "_view_count": null,
            "_view_module": "@jupyter-widgets/base",
            "_view_module_version": "1.2.0",
            "_view_name": "StyleView",
            "bar_color": null,
            "description_width": ""
          }
        },
        "05b1e5bca81944508ad7e91240b0a39f": {
          "model_module": "@jupyter-widgets/base",
          "model_name": "LayoutModel",
          "model_module_version": "1.2.0",
          "state": {
            "_model_module": "@jupyter-widgets/base",
            "_model_module_version": "1.2.0",
            "_model_name": "LayoutModel",
            "_view_count": null,
            "_view_module": "@jupyter-widgets/base",
            "_view_module_version": "1.2.0",
            "_view_name": "LayoutView",
            "align_content": null,
            "align_items": null,
            "align_self": null,
            "border": null,
            "bottom": null,
            "display": null,
            "flex": null,
            "flex_flow": null,
            "grid_area": null,
            "grid_auto_columns": null,
            "grid_auto_flow": null,
            "grid_auto_rows": null,
            "grid_column": null,
            "grid_gap": null,
            "grid_row": null,
            "grid_template_areas": null,
            "grid_template_columns": null,
            "grid_template_rows": null,
            "height": null,
            "justify_content": null,
            "justify_items": null,
            "left": null,
            "margin": null,
            "max_height": null,
            "max_width": null,
            "min_height": null,
            "min_width": null,
            "object_fit": null,
            "object_position": null,
            "order": null,
            "overflow": null,
            "overflow_x": null,
            "overflow_y": null,
            "padding": null,
            "right": null,
            "top": null,
            "visibility": null,
            "width": null
          }
        },
        "49ad93ea72184339b42563a9f04f657f": {
          "model_module": "@jupyter-widgets/controls",
          "model_name": "DescriptionStyleModel",
          "model_module_version": "1.5.0",
          "state": {
            "_model_module": "@jupyter-widgets/controls",
            "_model_module_version": "1.5.0",
            "_model_name": "DescriptionStyleModel",
            "_view_count": null,
            "_view_module": "@jupyter-widgets/base",
            "_view_module_version": "1.2.0",
            "_view_name": "StyleView",
            "description_width": ""
          }
        }
      }
    }
  },
  "cells": [
    {
      "cell_type": "markdown",
      "source": [
        "# Install the required libraries"
      ],
      "metadata": {
        "id": "FrugzLQwrcqx"
      }
    },
    {
      "cell_type": "code",
      "execution_count": null,
      "metadata": {
        "colab": {
          "base_uri": "https://localhost:8080/"
        },
        "id": "inAUxf8nOOKC",
        "outputId": "515162fb-1408-43b9-ded4-c5c6b047899a"
      },
      "outputs": [
        {
          "output_type": "stream",
          "name": "stdout",
          "text": [
            "Requirement already satisfied: pykeen in /usr/local/lib/python3.12/dist-packages (1.11.1)\n",
            "Requirement already satisfied: dataclasses-json in /usr/local/lib/python3.12/dist-packages (from pykeen) (0.6.7)\n",
            "Requirement already satisfied: numpy in /usr/local/lib/python3.12/dist-packages (from pykeen) (2.0.2)\n",
            "Requirement already satisfied: scipy>=1.7.0 in /usr/local/lib/python3.12/dist-packages (from pykeen) (1.16.2)\n",
            "Requirement already satisfied: click in /usr/local/lib/python3.12/dist-packages (from pykeen) (8.3.0)\n",
            "Requirement already satisfied: click_default_group in /usr/local/lib/python3.12/dist-packages (from pykeen) (1.2.4)\n",
            "Requirement already satisfied: scikit-learn in /usr/local/lib/python3.12/dist-packages (from pykeen) (1.6.1)\n",
            "Requirement already satisfied: torch>=2.0 in /usr/local/lib/python3.12/dist-packages (from pykeen) (2.8.0+cu126)\n",
            "Requirement already satisfied: tqdm in /usr/local/lib/python3.12/dist-packages (from pykeen) (4.67.1)\n",
            "Requirement already satisfied: requests in /usr/local/lib/python3.12/dist-packages (from pykeen) (2.32.4)\n",
            "Requirement already satisfied: optuna>=2.0.0 in /usr/local/lib/python3.12/dist-packages (from pykeen) (4.5.0)\n",
            "Requirement already satisfied: pandas>=1.0.0 in /usr/local/lib/python3.12/dist-packages (from pykeen) (2.2.2)\n",
            "Requirement already satisfied: tabulate in /usr/local/lib/python3.12/dist-packages (from pykeen) (0.9.0)\n",
            "Requirement already satisfied: more_click in /usr/local/lib/python3.12/dist-packages (from pykeen) (0.1.3)\n",
            "Requirement already satisfied: more_itertools in /usr/local/lib/python3.12/dist-packages (from pykeen) (10.8.0)\n",
            "Requirement already satisfied: pystow>=0.4.3 in /usr/local/lib/python3.12/dist-packages (from pykeen) (0.7.11)\n",
            "Requirement already satisfied: docdata>=0.0.5 in /usr/local/lib/python3.12/dist-packages (from pykeen) (0.0.5)\n",
            "Requirement already satisfied: class_resolver>=0.6.0 in /usr/local/lib/python3.12/dist-packages (from pykeen) (0.7.1)\n",
            "Requirement already satisfied: pyyaml in /usr/local/lib/python3.12/dist-packages (from pykeen) (6.0.3)\n",
            "Requirement already satisfied: torch_max_mem>=0.1.4 in /usr/local/lib/python3.12/dist-packages (from pykeen) (0.1.4)\n",
            "Requirement already satisfied: torch-ppr>=0.0.7 in /usr/local/lib/python3.12/dist-packages (from pykeen) (0.0.8)\n",
            "Requirement already satisfied: typing_extensions in /usr/local/lib/python3.12/dist-packages (from pykeen) (4.15.0)\n",
            "Requirement already satisfied: alembic>=1.5.0 in /usr/local/lib/python3.12/dist-packages (from optuna>=2.0.0->pykeen) (1.17.0)\n",
            "Requirement already satisfied: colorlog in /usr/local/lib/python3.12/dist-packages (from optuna>=2.0.0->pykeen) (6.10.1)\n",
            "Requirement already satisfied: packaging>=20.0 in /usr/local/lib/python3.12/dist-packages (from optuna>=2.0.0->pykeen) (25.0)\n",
            "Requirement already satisfied: sqlalchemy>=1.4.2 in /usr/local/lib/python3.12/dist-packages (from optuna>=2.0.0->pykeen) (2.0.44)\n",
            "Requirement already satisfied: python-dateutil>=2.8.2 in /usr/local/lib/python3.12/dist-packages (from pandas>=1.0.0->pykeen) (2.9.0.post0)\n",
            "Requirement already satisfied: pytz>=2020.1 in /usr/local/lib/python3.12/dist-packages (from pandas>=1.0.0->pykeen) (2025.2)\n",
            "Requirement already satisfied: tzdata>=2022.7 in /usr/local/lib/python3.12/dist-packages (from pandas>=1.0.0->pykeen) (2025.2)\n",
            "Requirement already satisfied: filelock in /usr/local/lib/python3.12/dist-packages (from torch>=2.0->pykeen) (3.20.0)\n",
            "Requirement already satisfied: setuptools in /usr/local/lib/python3.12/dist-packages (from torch>=2.0->pykeen) (75.2.0)\n",
            "Requirement already satisfied: sympy>=1.13.3 in /usr/local/lib/python3.12/dist-packages (from torch>=2.0->pykeen) (1.13.3)\n",
            "Requirement already satisfied: networkx in /usr/local/lib/python3.12/dist-packages (from torch>=2.0->pykeen) (3.5)\n",
            "Requirement already satisfied: jinja2 in /usr/local/lib/python3.12/dist-packages (from torch>=2.0->pykeen) (3.1.6)\n",
            "Requirement already satisfied: fsspec in /usr/local/lib/python3.12/dist-packages (from torch>=2.0->pykeen) (2025.3.0)\n",
            "Requirement already satisfied: nvidia-cuda-nvrtc-cu12==12.6.77 in /usr/local/lib/python3.12/dist-packages (from torch>=2.0->pykeen) (12.6.77)\n",
            "Requirement already satisfied: nvidia-cuda-runtime-cu12==12.6.77 in /usr/local/lib/python3.12/dist-packages (from torch>=2.0->pykeen) (12.6.77)\n",
            "Requirement already satisfied: nvidia-cuda-cupti-cu12==12.6.80 in /usr/local/lib/python3.12/dist-packages (from torch>=2.0->pykeen) (12.6.80)\n",
            "Requirement already satisfied: nvidia-cudnn-cu12==9.10.2.21 in /usr/local/lib/python3.12/dist-packages (from torch>=2.0->pykeen) (9.10.2.21)\n",
            "Requirement already satisfied: nvidia-cublas-cu12==12.6.4.1 in /usr/local/lib/python3.12/dist-packages (from torch>=2.0->pykeen) (12.6.4.1)\n",
            "Requirement already satisfied: nvidia-cufft-cu12==11.3.0.4 in /usr/local/lib/python3.12/dist-packages (from torch>=2.0->pykeen) (11.3.0.4)\n",
            "Requirement already satisfied: nvidia-curand-cu12==10.3.7.77 in /usr/local/lib/python3.12/dist-packages (from torch>=2.0->pykeen) (10.3.7.77)\n",
            "Requirement already satisfied: nvidia-cusolver-cu12==11.7.1.2 in /usr/local/lib/python3.12/dist-packages (from torch>=2.0->pykeen) (11.7.1.2)\n",
            "Requirement already satisfied: nvidia-cusparse-cu12==12.5.4.2 in /usr/local/lib/python3.12/dist-packages (from torch>=2.0->pykeen) (12.5.4.2)\n",
            "Requirement already satisfied: nvidia-cusparselt-cu12==0.7.1 in /usr/local/lib/python3.12/dist-packages (from torch>=2.0->pykeen) (0.7.1)\n",
            "Requirement already satisfied: nvidia-nccl-cu12==2.27.3 in /usr/local/lib/python3.12/dist-packages (from torch>=2.0->pykeen) (2.27.3)\n",
            "Requirement already satisfied: nvidia-nvtx-cu12==12.6.77 in /usr/local/lib/python3.12/dist-packages (from torch>=2.0->pykeen) (12.6.77)\n",
            "Requirement already satisfied: nvidia-nvjitlink-cu12==12.6.85 in /usr/local/lib/python3.12/dist-packages (from torch>=2.0->pykeen) (12.6.85)\n",
            "Requirement already satisfied: nvidia-cufile-cu12==1.11.1.6 in /usr/local/lib/python3.12/dist-packages (from torch>=2.0->pykeen) (1.11.1.6)\n",
            "Requirement already satisfied: triton==3.4.0 in /usr/local/lib/python3.12/dist-packages (from torch>=2.0->pykeen) (3.4.0)\n",
            "Requirement already satisfied: marshmallow<4.0.0,>=3.18.0 in /usr/local/lib/python3.12/dist-packages (from dataclasses-json->pykeen) (3.26.1)\n",
            "Requirement already satisfied: typing-inspect<1,>=0.4.0 in /usr/local/lib/python3.12/dist-packages (from dataclasses-json->pykeen) (0.9.0)\n",
            "Requirement already satisfied: charset_normalizer<4,>=2 in /usr/local/lib/python3.12/dist-packages (from requests->pykeen) (3.4.4)\n",
            "Requirement already satisfied: idna<4,>=2.5 in /usr/local/lib/python3.12/dist-packages (from requests->pykeen) (3.11)\n",
            "Requirement already satisfied: urllib3<3,>=1.21.1 in /usr/local/lib/python3.12/dist-packages (from requests->pykeen) (2.5.0)\n",
            "Requirement already satisfied: certifi>=2017.4.17 in /usr/local/lib/python3.12/dist-packages (from requests->pykeen) (2025.10.5)\n",
            "Requirement already satisfied: joblib>=1.2.0 in /usr/local/lib/python3.12/dist-packages (from scikit-learn->pykeen) (1.5.2)\n",
            "Requirement already satisfied: threadpoolctl>=3.1.0 in /usr/local/lib/python3.12/dist-packages (from scikit-learn->pykeen) (3.6.0)\n",
            "Requirement already satisfied: Mako in /usr/local/lib/python3.12/dist-packages (from alembic>=1.5.0->optuna>=2.0.0->pykeen) (1.3.10)\n",
            "Requirement already satisfied: six>=1.5 in /usr/local/lib/python3.12/dist-packages (from python-dateutil>=2.8.2->pandas>=1.0.0->pykeen) (1.17.0)\n",
            "Requirement already satisfied: greenlet>=1 in /usr/local/lib/python3.12/dist-packages (from sqlalchemy>=1.4.2->optuna>=2.0.0->pykeen) (3.2.4)\n",
            "Requirement already satisfied: mpmath<1.4,>=1.1.0 in /usr/local/lib/python3.12/dist-packages (from sympy>=1.13.3->torch>=2.0->pykeen) (1.3.0)\n",
            "Requirement already satisfied: mypy-extensions>=0.3.0 in /usr/local/lib/python3.12/dist-packages (from typing-inspect<1,>=0.4.0->dataclasses-json->pykeen) (1.1.0)\n",
            "Requirement already satisfied: MarkupSafe>=2.0 in /usr/local/lib/python3.12/dist-packages (from jinja2->torch>=2.0->pykeen) (3.0.3)\n"
          ]
        }
      ],
      "source": [
        "!pip install pykeen"
      ]
    },
    {
      "cell_type": "code",
      "source": [
        "!pip install rdflib"
      ],
      "metadata": {
        "colab": {
          "base_uri": "https://localhost:8080/"
        },
        "id": "eHN-ZNVHPdPO",
        "outputId": "70a2d508-d13c-4a5c-f127-a8bf42ee8029"
      },
      "execution_count": null,
      "outputs": [
        {
          "output_type": "stream",
          "name": "stdout",
          "text": [
            "Requirement already satisfied: rdflib in /usr/local/lib/python3.12/dist-packages (7.3.0)\n",
            "Requirement already satisfied: pyparsing<4,>=2.1.0 in /usr/local/lib/python3.12/dist-packages (from rdflib) (3.2.5)\n"
          ]
        }
      ]
    },
    {
      "cell_type": "code",
      "source": [
        "!pip install torch-geometric -f https://pytorch-geometric.com/whl/torch-1.13.1+cu116.html"
      ],
      "metadata": {
        "colab": {
          "base_uri": "https://localhost:8080/"
        },
        "id": "EXtSnluqPdoF",
        "outputId": "68b8c336-8edc-4000-e574-1770adf46f2e"
      },
      "execution_count": null,
      "outputs": [
        {
          "output_type": "stream",
          "name": "stdout",
          "text": [
            "Looking in links: https://pytorch-geometric.com/whl/torch-1.13.1+cu116.html\n",
            "Requirement already satisfied: torch-geometric in /usr/local/lib/python3.12/dist-packages (2.7.0)\n",
            "Requirement already satisfied: aiohttp in /usr/local/lib/python3.12/dist-packages (from torch-geometric) (3.13.1)\n",
            "Requirement already satisfied: fsspec in /usr/local/lib/python3.12/dist-packages (from torch-geometric) (2025.3.0)\n",
            "Requirement already satisfied: jinja2 in /usr/local/lib/python3.12/dist-packages (from torch-geometric) (3.1.6)\n",
            "Requirement already satisfied: numpy in /usr/local/lib/python3.12/dist-packages (from torch-geometric) (2.0.2)\n",
            "Requirement already satisfied: psutil>=5.8.0 in /usr/local/lib/python3.12/dist-packages (from torch-geometric) (5.9.5)\n",
            "Requirement already satisfied: pyparsing in /usr/local/lib/python3.12/dist-packages (from torch-geometric) (3.2.5)\n",
            "Requirement already satisfied: requests in /usr/local/lib/python3.12/dist-packages (from torch-geometric) (2.32.4)\n",
            "Requirement already satisfied: tqdm in /usr/local/lib/python3.12/dist-packages (from torch-geometric) (4.67.1)\n",
            "Requirement already satisfied: xxhash in /usr/local/lib/python3.12/dist-packages (from torch-geometric) (3.6.0)\n",
            "Requirement already satisfied: aiohappyeyeballs>=2.5.0 in /usr/local/lib/python3.12/dist-packages (from aiohttp->torch-geometric) (2.6.1)\n",
            "Requirement already satisfied: aiosignal>=1.4.0 in /usr/local/lib/python3.12/dist-packages (from aiohttp->torch-geometric) (1.4.0)\n",
            "Requirement already satisfied: attrs>=17.3.0 in /usr/local/lib/python3.12/dist-packages (from aiohttp->torch-geometric) (25.4.0)\n",
            "Requirement already satisfied: frozenlist>=1.1.1 in /usr/local/lib/python3.12/dist-packages (from aiohttp->torch-geometric) (1.8.0)\n",
            "Requirement already satisfied: multidict<7.0,>=4.5 in /usr/local/lib/python3.12/dist-packages (from aiohttp->torch-geometric) (6.7.0)\n",
            "Requirement already satisfied: propcache>=0.2.0 in /usr/local/lib/python3.12/dist-packages (from aiohttp->torch-geometric) (0.4.1)\n",
            "Requirement already satisfied: yarl<2.0,>=1.17.0 in /usr/local/lib/python3.12/dist-packages (from aiohttp->torch-geometric) (1.22.0)\n",
            "Requirement already satisfied: MarkupSafe>=2.0 in /usr/local/lib/python3.12/dist-packages (from jinja2->torch-geometric) (3.0.3)\n",
            "Requirement already satisfied: charset_normalizer<4,>=2 in /usr/local/lib/python3.12/dist-packages (from requests->torch-geometric) (3.4.4)\n",
            "Requirement already satisfied: idna<4,>=2.5 in /usr/local/lib/python3.12/dist-packages (from requests->torch-geometric) (3.11)\n",
            "Requirement already satisfied: urllib3<3,>=1.21.1 in /usr/local/lib/python3.12/dist-packages (from requests->torch-geometric) (2.5.0)\n",
            "Requirement already satisfied: certifi>=2017.4.17 in /usr/local/lib/python3.12/dist-packages (from requests->torch-geometric) (2025.10.5)\n",
            "Requirement already satisfied: typing-extensions>=4.2 in /usr/local/lib/python3.12/dist-packages (from aiosignal>=1.4.0->aiohttp->torch-geometric) (4.15.0)\n"
          ]
        }
      ]
    },
    {
      "cell_type": "code",
      "source": [],
      "metadata": {
        "id": "4GhM9HWWPtfG"
      },
      "execution_count": null,
      "outputs": []
    },
    {
      "cell_type": "code",
      "source": [],
      "metadata": {
        "id": "b6xb7-WFPth7"
      },
      "execution_count": null,
      "outputs": []
    },
    {
      "cell_type": "code",
      "source": [
        "import networkx as nx\n",
        "import numpy as np\n",
        "import torch\n",
        "import torch.nn as nn\n",
        "import torch.nn.functional as F\n",
        "import torch_geometric\n",
        "import torch_geometric.nn as pyg_nn\n",
        "import time\n",
        "from torch_geometric.datasets import Entities\n",
        "from torch_geometric.nn import FastRGCNConv, RGCNConv\n",
        "from torch_geometric.utils import k_hop_subgraph\n",
        "import matplotlib.pyplot as plt"
      ],
      "metadata": {
        "id": "q3B55gsZPtlA"
      },
      "execution_count": null,
      "outputs": []
    },
    {
      "cell_type": "code",
      "source": [
        "import pandas as pd\n",
        "from rdflib import Graph, URIRef\n",
        "from pykeen.triples import TriplesFactory\n",
        "from collections import Counter"
      ],
      "metadata": {
        "colab": {
          "base_uri": "https://localhost:8080/"
        },
        "id": "GAtidsW1Ptn3",
        "outputId": "d5aef0d8-fb60-49a6-d826-8bef3fde331a"
      },
      "execution_count": null,
      "outputs": [
        {
          "output_type": "stream",
          "name": "stderr",
          "text": [
            "INFO:pykeen.utils:Using opt_einsum\n"
          ]
        }
      ]
    },
    {
      "cell_type": "code",
      "source": [
        "from pykeen.pipeline import pipeline\n",
        "from pykeen.models import DistMult\n",
        "from pykeen.evaluation import RankBasedEvaluator"
      ],
      "metadata": {
        "id": "kuClNd98QMig"
      },
      "execution_count": null,
      "outputs": []
    },
    {
      "cell_type": "markdown",
      "source": [
        "# Download the dataset"
      ],
      "metadata": {
        "id": "WH0cz6VtPfAB"
      }
    },
    {
      "cell_type": "code",
      "source": [
        "!mkdir ./data\n",
        "!wget \"https://www.dropbox.com/sh/ldjd70yvnu9akxi/AAAam7SBr5KXLfjk-NVGQNWRa?dl=1\" -O \"./data/aifb.zip\"\n",
        "!unzip \"data/aifb.zip\" -d \"data/aifb\""
      ],
      "metadata": {
        "colab": {
          "base_uri": "https://localhost:8080/"
        },
        "id": "zaIQG6xkPiC-",
        "outputId": "95d898eb-cdae-4ac2-8bcf-6d5136f6f96a"
      },
      "execution_count": null,
      "outputs": [
        {
          "output_type": "stream",
          "name": "stdout",
          "text": [
            "mkdir: cannot create directory ‘./data’: File exists\n",
            "--2025-10-30 04:42:47--  https://www.dropbox.com/sh/ldjd70yvnu9akxi/AAAam7SBr5KXLfjk-NVGQNWRa?dl=1\n",
            "Resolving www.dropbox.com (www.dropbox.com)... 162.125.69.18, 2620:100:6031:18::a27d:5112\n",
            "Connecting to www.dropbox.com (www.dropbox.com)|162.125.69.18|:443... connected.\n",
            "HTTP request sent, awaiting response... 302 Found\n",
            "Location: https://www.dropbox.com/scl/fo/5bkj2o1g1z5f5bv2x4lxj/ALDrm561FEhqGEoMe-qK3YY?rlkey=e7wqtjfh6gmqc5tpql5kkkkxp&dl=1 [following]\n",
            "--2025-10-30 04:42:48--  https://www.dropbox.com/scl/fo/5bkj2o1g1z5f5bv2x4lxj/ALDrm561FEhqGEoMe-qK3YY?rlkey=e7wqtjfh6gmqc5tpql5kkkkxp&dl=1\n",
            "Reusing existing connection to www.dropbox.com:443.\n",
            "HTTP request sent, awaiting response... 302 Found\n",
            "Location: https://uc62fbba992a0f364eb83b335fc0.dl.dropboxusercontent.com/zip_download_get/CXkkueh1qsZTGj7zCTpcmic_Jj4hq_dWg6OcO2ps0GpiqpLEh8GIKc2ynU8Qb3V3HGAdt_6nVLzoET85jzgh3Bcdm4YAy8YXntwz24TFhjFLng# [following]\n",
            "--2025-10-30 04:42:49--  https://uc62fbba992a0f364eb83b335fc0.dl.dropboxusercontent.com/zip_download_get/CXkkueh1qsZTGj7zCTpcmic_Jj4hq_dWg6OcO2ps0GpiqpLEh8GIKc2ynU8Qb3V3HGAdt_6nVLzoET85jzgh3Bcdm4YAy8YXntwz24TFhjFLng\n",
            "Resolving uc62fbba992a0f364eb83b335fc0.dl.dropboxusercontent.com (uc62fbba992a0f364eb83b335fc0.dl.dropboxusercontent.com)... 162.125.81.15, 2620:100:6031:15::a27d:510f\n",
            "Connecting to uc62fbba992a0f364eb83b335fc0.dl.dropboxusercontent.com (uc62fbba992a0f364eb83b335fc0.dl.dropboxusercontent.com)|162.125.81.15|:443... connected.\n",
            "HTTP request sent, awaiting response... 200 OK\n",
            "Length: 11333196 (11M) [application/zip]\n",
            "Saving to: ‘./data/aifb.zip’\n",
            "\n",
            "./data/aifb.zip     100%[===================>]  10.81M  4.71MB/s    in 2.3s    \n",
            "\n",
            "2025-10-30 04:42:51 (4.71 MB/s) - ‘./data/aifb.zip’ saved [11333196/11333196]\n",
            "\n",
            "Archive:  data/aifb.zip\n",
            "warning:  stripped absolute path spec from /\n",
            "mapname:  conversion of  failed\n",
            "replace data/aifb/A_sparse.pt? [y]es, [n]o, [A]ll, [N]one, [r]ename: y\n",
            " extracting: data/aifb/A_sparse.pt   \n",
            "replace data/aifb/testSet.tsv? [y]es, [n]o, [A]ll, [N]one, [r]ename: A\n",
            " extracting: data/aifb/testSet.tsv   \n",
            " extracting: data/aifb/cache_test.pkl  \n",
            " extracting: data/aifb/trainingSet.tsv  \n",
            " extracting: data/aifb/aifb_stripped.nt  \n",
            " extracting: data/aifb/aifb_stripped.nt.gz  \n",
            " extracting: data/aifb/cache_validation.pkl  \n",
            " extracting: data/aifb/adjacency_matrix.pickle  \n"
          ]
        }
      ]
    },
    {
      "cell_type": "code",
      "source": [],
      "metadata": {
        "id": "mcSiksBXQ7wW"
      },
      "execution_count": null,
      "outputs": []
    },
    {
      "cell_type": "markdown",
      "source": [
        "# Another approach for training:The dataset has no X which is the input features, in this method, I am using an emdedding technique to generate embedding for each node to be used as the features vectors, and test its effect of the model performance"
      ],
      "metadata": {
        "id": "LXRrcBZhRXDL"
      }
    },
    {
      "cell_type": "code",
      "source": [
        "def st(node):\n",
        "    \"\"\"\n",
        "    Maps an rdflib node to a unique string. We use str(node) for URIs (so they can be matched to the classes) and\n",
        "    we use .n3() for everything else, so that different nodes don't become unified.\n",
        "\n",
        "    Source: https://github.com/pbloem/gated-rgcn/blob/1bde7f28af8028f468349b2d760c17d5c908b58b/kgmodels/data.py#L16\n",
        "    \"\"\"\n",
        "    if type(node) == URIRef:\n",
        "        return str(node)\n",
        "    else:\n",
        "        return node.n3()\n",
        "\n",
        "g = Graph()\n",
        "g.parse('/content/data/aifb/aifb_stripped.nt', format='nt')\n",
        "data=[]\n",
        "nodes = set()\n",
        "relations = Counter()\n",
        "for s, p, o in g:\n",
        "        nodes.add(st(s))\n",
        "        nodes.add(st(o))\n",
        "\n",
        "        relations[st(p)] += 1\n",
        "\n",
        "i2n = list(nodes) # maps indices to labels\n",
        "n2i = {n:i for i, n in enumerate(i2n)} # maps labels to indices\n",
        "\n",
        "for s, p, o in g:\n",
        "    data.append([st(s), st(p), st(o)])\n",
        "AIFB_df=pd.DataFrame(data, columns=['subject', 'predicate', 'object'])\n",
        "\n",
        "\n",
        "\n",
        "# Assuming your dataframe has columns 'subject', 'predicate', 'object'\n",
        "triples_factory = TriplesFactory.from_labeled_triples(triples=AIFB_df.values, create_inverse_triples=True)\n",
        "training = triples_factory\n",
        "validation = triples_factory\n",
        "testing = triples_factory\n",
        "\n",
        "d=training\n",
        "id_to_entity={v: k for k, v in d.entity_to_id.items()}\n",
        "id_to_relation={v: k for k, v in d.relation_to_id.items()}\n",
        "\n",
        "# Display the first few triples\n",
        "triples_factory.triples"
      ],
      "metadata": {
        "colab": {
          "base_uri": "https://localhost:8080/"
        },
        "id": "Jc5vUTLKPilw",
        "outputId": "3b40193d-c226-4c16-f271-25daecff612d"
      },
      "execution_count": null,
      "outputs": [
        {
          "output_type": "stream",
          "name": "stderr",
          "text": [
            "WARNING:pykeen.triples.triples_factory:Reconstructing all label-based triples. This is expensive and rarely needed.\n"
          ]
        },
        {
          "output_type": "execute_result",
          "data": {
            "text/plain": [
              "array([['_:N01c7881cff5a4528854d3101bd1cc911',\n",
              "        'http://www.w3.org/1999/02/22-rdf-syntax-ns#type',\n",
              "        'http://www.w3.org/2002/07/owl#Restriction'],\n",
              "       ['_:N01c7881cff5a4528854d3101bd1cc911',\n",
              "        'http://www.w3.org/2002/07/owl#allValuesFrom',\n",
              "        'http://swrc.ontoware.org/ontology#Publication'],\n",
              "       ['_:N01c7881cff5a4528854d3101bd1cc911',\n",
              "        'http://www.w3.org/2002/07/owl#onProperty',\n",
              "        'http://swrc.ontoware.org/ontology#editor'],\n",
              "       ...,\n",
              "       ['http://www.aifb.uni-karlsruhe.de/WBS/dvr/owltools/merge/type',\n",
              "        'http://www.w3.org/1999/02/22-rdf-syntax-ns#type',\n",
              "        'http://www.w3.org/2002/07/owl#DatatypeProperty'],\n",
              "       ['http://www.w3.org/2001/XMLSchema#string',\n",
              "        'http://www.w3.org/1999/02/22-rdf-syntax-ns#type',\n",
              "        'http://www.w3.org/2002/07/owl#Datatype'],\n",
              "       ['http://www.w3.org/2002/07/owl#Thing',\n",
              "        'http://www.w3.org/1999/02/22-rdf-syntax-ns#type',\n",
              "        'http://www.w3.org/2002/07/owl#Class']], dtype='<U3807')"
            ]
          },
          "metadata": {},
          "execution_count": 8
        }
      ]
    },
    {
      "cell_type": "code",
      "source": [
        "result = pipeline(\n",
        "    model='RotatE',\n",
        "    loss=\"MarginRankingLoss\",\n",
        "    training=training,\n",
        "    testing=testing,\n",
        "    validation=validation,\n",
        "    model_kwargs=dict(embedding_dim=64),  # Increase the embedding dimension\n",
        "    optimizer_kwargs=dict(lr=0.001),  # Adjust the learning rate\n",
        "    training_kwargs=dict(num_epochs=100, use_tqdm_batch=False),  # Increase the number of epochs\n",
        ")\n",
        "# The trained model is stored in the pipeline result\n",
        "model = result.model"
      ],
      "metadata": {
        "colab": {
          "base_uri": "https://localhost:8080/",
          "height": 244,
          "referenced_widgets": [
            "f97dc138f9614bc8a98c588827617fbc",
            "a30a2a39b93449caa1c6a37b6f6fc9ff",
            "6b43fb58b60e414187eb3c4ddda90528",
            "d9d4a5b01b0d445e923bc88a774786f9",
            "3ad8d7eea9394ebfa50d7f3f4f8d545e",
            "f8a78f0993b0465b8d4d43286b7450b2",
            "49a36f0b4e9447b99beb7afa5d7c77fc",
            "be0a7f8096784f078039c17691eccd1f",
            "b418d048363c420e855aebf60d627e65",
            "39af79a7d7e545e88048ae14667b8485",
            "7a3261e22b7649aa8d03a26d9aca5274",
            "717aa067fdfa4c84a935f3567e90ffec",
            "84453716f72e4e24823fed52f12ce009",
            "1bb98f6b351744719af0700c5ed82a66",
            "5a84ba32369f4bd1b23360582043aaee",
            "99309dfb513b4ddda82469028b8f3785",
            "198445cfeca4457a88d3cfa277c3b61d",
            "6f56d9c940b04a7ea4fa6a25df47d6d8",
            "d2e8feef4f114181afd814332aa6d2ca",
            "682a32e3fa56481fbeaa9065eae747f0",
            "41c5a13af1cc4caa8bb075ca62759821",
            "09c7d91835c1454594c52f944144d7a6"
          ]
        },
        "id": "50PBnL47QQoZ",
        "outputId": "4522fb7c-6356-4df2-acab-beb228784417"
      },
      "execution_count": null,
      "outputs": [
        {
          "output_type": "stream",
          "name": "stderr",
          "text": [
            "WARNING:pykeen.pipeline.api:No random seed is specified. Setting to 1969396101.\n",
            "INFO:pykeen.pipeline.api:Using device: None\n",
            "INFO:pykeen.nn.representation:Inferred unique=False for Embedding()\n",
            "INFO:pykeen.nn.representation:Inferred unique=False for Embedding()\n",
            "INFO:pykeen.triples.triples_factory:Creating inverse triples.\n"
          ]
        },
        {
          "output_type": "display_data",
          "data": {
            "text/plain": [
              "Training epochs on cuda:0:   0%|          | 0/100 [00:00<?, ?epoch/s]"
            ],
            "application/vnd.jupyter.widget-view+json": {
              "version_major": 2,
              "version_minor": 0,
              "model_id": "f97dc138f9614bc8a98c588827617fbc"
            }
          },
          "metadata": {}
        },
        {
          "output_type": "stream",
          "name": "stderr",
          "text": [
            "INFO:pykeen.triples.triples_factory:Creating inverse triples.\n",
            "WARNING:pykeen.pipeline.api:Found evaluation_factory.create_inverse_triples=True which is ignored for evaluation factories. The model itself determines whether inverse relations are used in head prediction. Here, the model was created with training.create_inverse_triples=True\n"
          ]
        },
        {
          "output_type": "display_data",
          "data": {
            "text/plain": [
              "Evaluating on cuda:0:   0%|          | 0.00/29.0k [00:00<?, ?triple/s]"
            ],
            "application/vnd.jupyter.widget-view+json": {
              "version_major": 2,
              "version_minor": 0,
              "model_id": "717aa067fdfa4c84a935f3567e90ffec"
            }
          },
          "metadata": {}
        },
        {
          "output_type": "stream",
          "name": "stderr",
          "text": [
            "INFO:pykeen.evaluation.evaluator:Evaluation took 4.34s seconds\n"
          ]
        }
      ]
    },
    {
      "cell_type": "code",
      "source": [
        "# Create an evaluator\n",
        "evaluator = RankBasedEvaluator()\n",
        "# Evaluate the model\n",
        "metrics = evaluator.evaluate(result.model, testing.mapped_triples, additional_filter_triples=[training.mapped_triples, validation.mapped_triples])\n",
        "# Print the metrics\n",
        "print(f\"Hits@1: {metrics.get_metric('hits@1')}\")\n",
        "print(f\"Hits@3: {metrics.get_metric('hits@3')}\")\n",
        "print(f\"Hits@5: {metrics.get_metric('hits@5')}\")\n",
        "print(f\"Hits@10: {metrics.get_metric('hits@10')}\")\n",
        "print(f\"Mean Reciprocal Rank: {metrics.get_metric('mean_reciprocal_rank')}\")"
      ],
      "metadata": {
        "colab": {
          "base_uri": "https://localhost:8080/",
          "height": 156,
          "referenced_widgets": [
            "0c80476c9df44d87a0ef00ddb2df8626",
            "7e7bb4eb478343389a7de83068e633d1",
            "96d7d76327fd4a8ca32c299a38cf66ff",
            "b043155a329947c4b6ab038b464b27ef",
            "5ef3e83cd7af47fcb65fe48c0d93a05e",
            "fc4e1c50d22f47e489cf192ebeee87e2",
            "2b8da87a4c6e4cc2819846fa82ea2176",
            "1dd19ab999b94a09839724a63e82768a",
            "5acec5add8eb46f49363c4bbf4fb015e",
            "05b1e5bca81944508ad7e91240b0a39f",
            "49ad93ea72184339b42563a9f04f657f"
          ]
        },
        "id": "_oI2S59OQkJe",
        "outputId": "11b0ec28-d664-4f1e-f444-21a43b16e080"
      },
      "execution_count": null,
      "outputs": [
        {
          "output_type": "display_data",
          "data": {
            "text/plain": [
              "Evaluating on cuda:0:   0%|          | 0.00/29.0k [00:00<?, ?triple/s]"
            ],
            "application/vnd.jupyter.widget-view+json": {
              "version_major": 2,
              "version_minor": 0,
              "model_id": "0c80476c9df44d87a0ef00ddb2df8626"
            }
          },
          "metadata": {}
        },
        {
          "output_type": "stream",
          "name": "stderr",
          "text": [
            "INFO:pykeen.evaluation.evaluator:Evaluation took 4.71s seconds\n"
          ]
        },
        {
          "output_type": "stream",
          "name": "stdout",
          "text": [
            "Hits@1: 0.7930482388183039\n",
            "Hits@3: 0.8899562717350136\n",
            "Hits@5: 0.9167785697069862\n",
            "Hits@10: 0.9437558103501704\n",
            "Mean Reciprocal Rank: 0.8492608666419983\n"
          ]
        }
      ]
    },
    {
      "cell_type": "code",
      "source": [
        "entity_emb=model.entity_representations[0]._embeddings\n",
        "rel_emb=model.relation_representations[0]._embeddings"
      ],
      "metadata": {
        "id": "eA308IYGQrxi"
      },
      "execution_count": null,
      "outputs": []
    },
    {
      "cell_type": "code",
      "source": [
        "entity_emb.weight[0]"
      ],
      "metadata": {
        "colab": {
          "base_uri": "https://localhost:8080/"
        },
        "id": "aMTdWXsDQuos",
        "outputId": "ce804e62-15d0-497e-da7b-ab44680924c0"
      },
      "execution_count": null,
      "outputs": [
        {
          "output_type": "execute_result",
          "data": {
            "text/plain": [
              "tensor([-0.1002, -0.2849, -0.2638,  0.4378, -0.2413,  0.2706, -0.4637, -0.5038,\n",
              "        -0.3144,  0.2923, -0.3919, -0.3303,  0.2363,  0.1490, -0.2834, -0.3113,\n",
              "         0.3407,  0.4705,  0.1011,  0.4809, -0.3293,  0.3584,  0.3347, -0.3137,\n",
              "         0.2268, -0.4105,  0.2949, -0.4536, -0.4095,  0.3600, -0.0320,  0.0919,\n",
              "         0.3752, -0.4266, -0.3109, -0.2146, -0.3428, -0.0993,  0.4329,  0.4450,\n",
              "         0.0934, -0.3799, -0.1853, -0.3700,  0.3449,  0.3507,  0.1852, -0.1205,\n",
              "         0.2163,  0.3706,  0.4932, -0.2871,  0.3044,  0.0496,  0.2892, -0.4370,\n",
              "         0.1751,  0.1543,  0.2107,  0.2129,  0.0317, -0.2142, -0.0077,  0.2340,\n",
              "         0.4752, -0.2439,  0.2032,  0.2902,  0.3724,  0.1472,  0.4301,  0.0748,\n",
              "        -0.5335, -0.0994,  0.1573,  0.0592,  0.2771, -0.4019,  0.1972,  0.2112,\n",
              "        -0.0868,  0.3073,  0.3067, -0.3569, -0.4122, -0.1528, -0.2809, -0.1230,\n",
              "         0.2167,  0.1645, -0.3525, -0.1462,  0.3324,  0.0367,  0.1007, -0.2685,\n",
              "        -0.5463,  0.3349,  0.4278,  0.4773,  0.3028, -0.3298, -0.0929,  0.2791,\n",
              "         0.4713,  0.5030, -0.1672,  0.1690,  0.3995,  0.3059, -0.1083, -0.1518,\n",
              "        -0.1819,  0.4548,  0.0183,  0.5641, -0.3896,  0.1293, -0.1326, -0.1979,\n",
              "         0.3252,  0.2971, -0.4203, -0.4523,  0.0145, -0.1168,  0.0945, -0.1012],\n",
              "       device='cuda:0', grad_fn=<SelectBackward0>)"
            ]
          },
          "metadata": {},
          "execution_count": 12
        }
      ]
    },
    {
      "cell_type": "code",
      "source": [
        "entity_emb"
      ],
      "metadata": {
        "colab": {
          "base_uri": "https://localhost:8080/"
        },
        "id": "B1gkXG4gUX_5",
        "outputId": "2d68830c-c7e3-453a-be9e-fffaf78afd06"
      },
      "execution_count": null,
      "outputs": [
        {
          "output_type": "execute_result",
          "data": {
            "text/plain": [
              "Embedding(8285, 128)"
            ]
          },
          "metadata": {},
          "execution_count": 13
        }
      ]
    },
    {
      "cell_type": "code",
      "source": [
        "rel_emb"
      ],
      "metadata": {
        "colab": {
          "base_uri": "https://localhost:8080/"
        },
        "id": "fTTV0OK5T9c6",
        "outputId": "5929a1f8-23e4-4922-febf-0f91ff128379"
      },
      "execution_count": null,
      "outputs": [
        {
          "output_type": "execute_result",
          "data": {
            "text/plain": [
              "Embedding(90, 128)"
            ]
          },
          "metadata": {},
          "execution_count": 14
        }
      ]
    },
    {
      "cell_type": "code",
      "source": [
        "AIFB_RotatE_entity_emb_128_dict={ training.entity_id_to_label[i]:entity_emb.weight[i].detach().tolist() for i in range(entity_emb.weight.shape[0])}\n",
        "import pickle\n",
        "with open(\"AIFB_RotatE_entity_emb_128_dict.pkl\", \"wb\") as file:\n",
        "    pickle.dump(AIFB_RotatE_entity_emb_128_dict, file)"
      ],
      "metadata": {
        "id": "Kgc9LJ83Q1VF"
      },
      "execution_count": null,
      "outputs": []
    },
    {
      "cell_type": "markdown",
      "source": [
        "# Untill here, the nodes embedding have been created.\n",
        "# Now, train R-gcn model on the nodes using the embeddings"
      ],
      "metadata": {
        "id": "wwi25OkjVyaC"
      }
    },
    {
      "cell_type": "code",
      "source": [
        "# Download the data, the processed version for thr entity predection task\n",
        "dataset=\"AIFB\"\n",
        "#Conv = FastRGCNConv\n",
        "Conv = RGCNConv\n",
        "dataset = Entities('data/Entities',dataset)\n",
        "data = dataset[0]"
      ],
      "metadata": {
        "id": "YRUo6Y73UhvI"
      },
      "execution_count": null,
      "outputs": []
    },
    {
      "cell_type": "code",
      "source": [
        "data"
      ],
      "metadata": {
        "colab": {
          "base_uri": "https://localhost:8080/"
        },
        "id": "-eCQ4G31WZ_i",
        "outputId": "eedc7a99-1d7f-4c89-ba1e-a74b1fc02459"
      },
      "execution_count": null,
      "outputs": [
        {
          "output_type": "execute_result",
          "data": {
            "text/plain": [
              "Data(edge_index=[2, 58086], edge_type=[58086], train_idx=[140], train_y=[140], test_idx=[36], test_y=[36], num_nodes=8285)"
            ]
          },
          "metadata": {},
          "execution_count": 17
        }
      ]
    },
    {
      "cell_type": "code",
      "source": [
        "# This section is useful for large graphs; BGS and AM graphs are too big to process them in a full-batch fashion.\n",
        "# Since our model does only make use of a rather small receptive field, we\n",
        "# filter the graph to only contain the nodes that are at most 2-hop neighbors\n",
        "# away from any training/test node.\n",
        "node_idx = torch.cat([data.train_idx, data.test_idx], dim=0)\n",
        "node_idx, edge_index, mapping, edge_mask = k_hop_subgraph(\n",
        "    node_idx, 2, data.edge_index, relabel_nodes=True)\n",
        "\n",
        "data.num_nodes = node_idx.size(0)\n",
        "data.edge_index = edge_index\n",
        "data.edge_type = data.edge_type[edge_mask]\n",
        "data.train_idx = mapping[:data.train_idx.size(0)]\n",
        "data.test_idx = mapping[data.train_idx.size(0):]"
      ],
      "metadata": {
        "id": "znM2qjbKWacl"
      },
      "execution_count": null,
      "outputs": []
    },
    {
      "cell_type": "code",
      "source": [
        "#read the embeddings\n",
        "import pickle\n",
        "with open(\"AIFB_RotatE_entity_emb_128_dict.pkl\", \"rb\") as file:\n",
        "    AIFB_RotatE_entity_emb_128_dict=pickle.load(file)"
      ],
      "metadata": {
        "id": "65oRvzGgXFyU"
      },
      "execution_count": null,
      "outputs": []
    },
    {
      "cell_type": "code",
      "source": [
        "#the flag here to check whether to use embeddings\n",
        "use_feat=True\n",
        "if use_feat:\n",
        "  data.x = torch.Tensor(data.num_nodes, len(AIFB_RotatE_entity_emb_128_dict[list(AIFB_RotatE_entity_emb_128_dict.keys())[0]]))\n",
        "  torch.nn.init.xavier_uniform_(data.x)\n",
        "\n",
        "  i2n={v: k for k, v in n2i.items()}\n",
        "  count=0\n",
        "  for i in range(data.num_nodes):\n",
        "    # print(i)\n",
        "    if i2n[i] in AIFB_RotatE_entity_emb_128_dict:\n",
        "      count+=1\n",
        "      data.x[i]=torch.Tensor(AIFB_RotatE_entity_emb_128_dict[i2n[i]])\n",
        "else:\n",
        "  data.x=None"
      ],
      "metadata": {
        "id": "4owggYOgXMxB"
      },
      "execution_count": null,
      "outputs": []
    },
    {
      "cell_type": "code",
      "source": [
        "class Net(torch.nn.Module):\n",
        "    def __init__(self):\n",
        "        super().__init__()\n",
        "        self.conv1 = Conv( data.x.shape[1] if data.x is not None else data.num_nodes, 32, dataset.num_relations,num_bases=30)\n",
        "        self.conv2 = Conv(32, dataset.num_classes, dataset.num_relations,num_bases=30)\n",
        "\n",
        "    def forward(self,edge_index, edge_type,x=None):\n",
        "\n",
        "        y= F.relu(self.conv1(x, edge_index, edge_type))\n",
        "        y = self.conv2(y, edge_index, edge_type)\n",
        "        return F.log_softmax(y, dim=1)\n"
      ],
      "metadata": {
        "id": "JzuLIJoRXS4a"
      },
      "execution_count": null,
      "outputs": []
    },
    {
      "cell_type": "code",
      "source": [
        "if torch.cuda.is_available():\n",
        "    device = torch.device('cuda')\n",
        "else:\n",
        "    device = torch.device('cpu')\n",
        "model, data = Net().to(device), data.to(device)\n",
        "optimizer = torch.optim.Adam(model.parameters(), lr=0.005, weight_decay=0.0005)"
      ],
      "metadata": {
        "id": "PQToc4d7ZFwR"
      },
      "execution_count": null,
      "outputs": []
    },
    {
      "cell_type": "code",
      "source": [
        "def train():\n",
        "    model.train()\n",
        "    optimizer.zero_grad()\n",
        "    out = model(data.edge_index, data.edge_type,data.x)\n",
        "    loss = F.nll_loss(out[data.train_idx], data.train_y)\n",
        "    loss.backward()\n",
        "    optimizer.step()\n",
        "    return float(loss)\n",
        "\n",
        "\n",
        "@torch.no_grad()\n",
        "def test():\n",
        "    model.eval()\n",
        "    pred = model(data.edge_index, data.edge_type,data.x).argmax(dim=-1)\n",
        "    train_acc = float((pred[data.train_idx] == data.train_y).float().mean())\n",
        "    test_acc = float((pred[data.test_idx] == data.test_y).float().mean())\n",
        "    return train_acc, test_acc\n"
      ],
      "metadata": {
        "id": "fOzZqN98XTF3"
      },
      "execution_count": null,
      "outputs": []
    },
    {
      "cell_type": "code",
      "source": [
        "times = []\n",
        "train_loss= []\n",
        "accs_train= []\n",
        "accs_test= []\n",
        "for epoch in range(1, 20):\n",
        "    start = time.time()\n",
        "    loss = train()\n",
        "    train_acc, test_acc = test()\n",
        "    print(f'Epoch: {epoch:02d}, Loss: {loss:.4f}, Train: {train_acc:.4f} 'f'Test: {test_acc:.4f}')\n",
        "    accs_test.append(test_acc)\n",
        "    accs_train.append(train_acc)\n",
        "    train_loss.append(loss)\n",
        "\n",
        "    times.append(time.time() - start)"
      ],
      "metadata": {
        "colab": {
          "base_uri": "https://localhost:8080/"
        },
        "id": "n95xOPxYXTXZ",
        "outputId": "58a9ad32-6f8c-4afc-b47b-fd5457f36d30"
      },
      "execution_count": null,
      "outputs": [
        {
          "output_type": "stream",
          "name": "stderr",
          "text": [
            "/tmp/ipython-input-3233952467.py:8: UserWarning: Converting a tensor with requires_grad=True to a scalar may lead to unexpected behavior.\n",
            "Consider using tensor.detach() first. (Triggered internally at /pytorch/torch/csrc/autograd/generated/python_variable_methods.cpp:835.)\n",
            "  return float(loss)\n"
          ]
        },
        {
          "output_type": "stream",
          "name": "stdout",
          "text": [
            "Epoch: 01, Loss: 1.6846, Train: 0.6643 Test: 0.6389\n",
            "Epoch: 02, Loss: 1.2853, Train: 0.8286 Test: 0.7222\n",
            "Epoch: 03, Loss: 0.5547, Train: 0.9500 Test: 0.8333\n",
            "Epoch: 04, Loss: 0.2195, Train: 0.9714 Test: 0.9167\n",
            "Epoch: 05, Loss: 0.1510, Train: 0.9786 Test: 0.9444\n",
            "Epoch: 06, Loss: 0.1410, Train: 0.9857 Test: 0.9444\n",
            "Epoch: 07, Loss: 0.1144, Train: 0.9857 Test: 0.9722\n",
            "Epoch: 08, Loss: 0.0858, Train: 0.9929 Test: 0.9167\n",
            "Epoch: 09, Loss: 0.0655, Train: 0.9929 Test: 0.9167\n",
            "Epoch: 10, Loss: 0.0489, Train: 1.0000 Test: 0.9167\n",
            "Epoch: 11, Loss: 0.0360, Train: 1.0000 Test: 0.9167\n",
            "Epoch: 12, Loss: 0.0269, Train: 1.0000 Test: 0.9444\n",
            "Epoch: 13, Loss: 0.0207, Train: 1.0000 Test: 0.9444\n",
            "Epoch: 14, Loss: 0.0164, Train: 1.0000 Test: 0.9444\n",
            "Epoch: 15, Loss: 0.0134, Train: 1.0000 Test: 0.9444\n",
            "Epoch: 16, Loss: 0.0112, Train: 1.0000 Test: 0.9444\n",
            "Epoch: 17, Loss: 0.0091, Train: 1.0000 Test: 0.9444\n",
            "Epoch: 18, Loss: 0.0074, Train: 1.0000 Test: 0.9444\n",
            "Epoch: 19, Loss: 0.0058, Train: 1.0000 Test: 0.9444\n"
          ]
        }
      ]
    },
    {
      "cell_type": "code",
      "source": [
        "print(f\"Median time per epoch: {torch.tensor(times).median():.4f}s\")"
      ],
      "metadata": {
        "colab": {
          "base_uri": "https://localhost:8080/"
        },
        "id": "TvnSaZMvXQ1N",
        "outputId": "e303f502-77f0-4bca-8cd0-a6e7b6d6d265"
      },
      "execution_count": null,
      "outputs": [
        {
          "output_type": "stream",
          "name": "stdout",
          "text": [
            "Median time per epoch: 0.1739s\n"
          ]
        }
      ]
    },
    {
      "cell_type": "code",
      "source": [
        "epochs = np.arange(1, len(train_loss) + 1)\n",
        "\n",
        "plt.figure(figsize=(12, 5))\n",
        "\n",
        "# --- Plot Training Loss ---\n",
        "plt.subplot(1, 2, 1)\n",
        "plt.plot(epochs, train_loss, 'b-', linewidth=2, label='Training Loss')\n",
        "plt.xlabel('Epoch')\n",
        "plt.ylabel('Loss')\n",
        "plt.title('Training Loss over Epochs')\n",
        "plt.xticks(epochs)\n",
        "plt.grid(True, linestyle='--', alpha=0.6)\n",
        "plt.legend()\n",
        "\n",
        "# --- Plot Train vs Test Accuracy ---\n",
        "plt.subplot(1, 2, 2)\n",
        "plt.plot(epochs, accs_train, 'g-', linewidth=2, label='Train Accuracy')\n",
        "plt.plot(epochs, accs_test, 'r--', linewidth=2, label='Test Accuracy')\n",
        "plt.xlabel('Epoch')\n",
        "plt.ylabel('Accuracy')\n",
        "plt.title('Train vs Test Accuracy')\n",
        "\n",
        "plt.xticks(epochs)\n",
        "plt.grid(True, linestyle='--', alpha=0.6)\n",
        "plt.legend()\n",
        "plt.tight_layout()\n",
        "plt.savefig('Embedding-based-R-GCN training and testing results.png', dpi=300, bbox_inches='tight')\n",
        "plt.show()\n"
      ],
      "metadata": {
        "colab": {
          "base_uri": "https://localhost:8080/",
          "height": 507
        },
        "id": "Lag0FePIXQ4X",
        "outputId": "0262e7fe-8341-407a-cb16-92454895941a"
      },
      "execution_count": null,
      "outputs": [
        {
          "output_type": "display_data",
          "data": {
            "text/plain": [
              "<Figure size 1200x500 with 2 Axes>"
            ],
            "image/png": "[encoded data removed]"
          },
          "metadata": {}
        }
      ]
    },
    {
      "cell_type": "code",
      "source": [],
      "metadata": {
        "id": "6C8URtWCXRFC"
      },
      "execution_count": null,
      "outputs": []
    },
    {
      "cell_type": "code",
      "source": [],
      "metadata": {
        "id": "OsLljbuuXRHx"
      },
      "execution_count": null,
      "outputs": []
    }
  ]
}